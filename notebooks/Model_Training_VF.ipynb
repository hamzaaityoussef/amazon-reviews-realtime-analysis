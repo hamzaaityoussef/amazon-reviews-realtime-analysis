{
  "cells": [
    {
      "cell_type": "code",
      "execution_count": null,
      "metadata": {
        "id": "3DCBuBky0t5I"
      },
      "outputs": [],
      "source": [
        "# import sys\n",
        "# import os\n",
        "# os.environ[\"PYSPARK_PYTHON\"] = sys.executable\n",
        "# os.environ[\"PYSPARK_DRIVER_PYTHON\"] = sys.executable"
      ]
    },
    {
      "cell_type": "code",
      "execution_count": 1,
      "metadata": {
        "id": "_qpRGO860t5J"
      },
      "outputs": [],
      "source": [
        "from pyspark.sql.functions import col, concat_ws\n",
        "from pyspark.sql import SparkSession\n",
        "from pyspark.ml.feature import Tokenizer, NGram, HashingTF, IDF\n",
        "from pyspark.sql.functions import col\n",
        "from sklearn.feature_extraction.text import TfidfVectorizer\n",
        "from pyspark.sql.functions import udf\n",
        "from pyspark.sql.types import StringType\n",
        "from pyspark.sql.functions import split, trim, size\n",
        "from pyspark.sql.functions import length\n",
        "from pyspark.sql.types import ArrayType, StringType\n",
        "from pyspark.ml.feature import StringIndexer\n",
        "from textblob import TextBlob\n",
        "from pyspark.ml import Pipeline\n",
        "from imblearn.over_sampling import SMOTE\n",
        "from pyspark.sql.functions import col\n",
        "from pyspark.sql import SparkSession\n",
        "from collections import Counter\n",
        "from pyspark.sql.types import DoubleType\n",
        "from pyspark.sql.functions import explode, lit, rand\n",
        "import pyspark.sql.functions as F\n",
        "from wordcloud import WordCloud,STOPWORDS\n",
        "from pyspark.ml.classification import LogisticRegression, DecisionTreeClassifier, RandomForestClassifier, NaiveBayes\n",
        "from pyspark.ml.evaluation import MulticlassClassificationEvaluator\n",
        "from pyspark.ml.tuning import CrossValidator, ParamGridBuilder\n",
        "import re\n",
        "import string\n",
        "import pandas as pd\n",
        "from pyspark.sql.types import FloatType"
      ]
    },
    {
      "cell_type": "code",
      "execution_count": 2,
      "metadata": {
        "id": "rLWvpN5g0t5J"
      },
      "outputs": [],
      "source": [
        "reviews = pd.read_csv('Musical_instruments_reviews.csv')"
      ]
    },
    {
      "cell_type": "code",
      "source": [
        "MIN_TOKEN_LENGTH = 2\n",
        "SPARK_MEMORY = \"8g\"\n",
        "\n",
        "spark = SparkSession.builder \\\n",
        "    .appName(\"Amazon Sentiment Analysis\") .config(\"spark.driver.memory\", SPARK_MEMORY) \\\n",
        "    .getOrCreate()\n",
        "\n",
        "# df3 = spark.read.csv(\"Musical_instruments_reviews.csv\", header=True)"
      ],
      "metadata": {
        "id": "6eVHPUT-KUXI"
      },
      "execution_count": 3,
      "outputs": []
    },
    {
      "cell_type": "code",
      "execution_count": 4,
      "metadata": {
        "id": "We_jTFyv0t5K"
      },
      "outputs": [],
      "source": [
        "df = spark.createDataFrame(reviews)"
      ]
    },
    {
      "cell_type": "code",
      "source": [
        "# # Sample 10% of the DataFrame without replacement\n",
        "# sampled_df = df.sample(withReplacement=False, fraction=0.1)\n",
        "\n",
        "# # Write the sampled DataFrame to a JSON file\n",
        "# sampled_df.write.mode(\"overwrite\").json(\"sampled_reviews.json\")"
      ],
      "metadata": {
        "id": "DdtH0RfPaF9r"
      },
      "execution_count": null,
      "outputs": []
    },
    {
      "cell_type": "code",
      "source": [
        "# # Drop the 'overall' column\n",
        "# df1 = df.drop(\"overall\")\n",
        "\n",
        "# # Take 10% of the data\n",
        "# fraction = 0.1\n",
        "# df_sampled = df1.sample(withReplacement=False, fraction=fraction, seed=42)\n",
        "\n",
        "# # Save the sampled data to a JSON file\n",
        "# df_sampled.write.mode(\"overwrite\").json(\"sampled_reviews.json\")"
      ],
      "metadata": {
        "id": "N4qAE2Lj8rOQ"
      },
      "execution_count": null,
      "outputs": []
    },
    {
      "cell_type": "code",
      "execution_count": 5,
      "metadata": {
        "id": "pB5_9G9t0t5K",
        "colab": {
          "base_uri": "https://localhost:8080/"
        },
        "outputId": "89007ccd-5ec9-4c3e-9637-584d1900c67e"
      },
      "outputs": [
        {
          "output_type": "stream",
          "name": "stdout",
          "text": [
            "+--------------+----------+--------------------+--------+--------------------+-------+--------------------+--------------+-----------+\n",
            "|    reviewerID|      asin|        reviewerName| helpful|          reviewText|overall|             summary|unixReviewTime| reviewTime|\n",
            "+--------------+----------+--------------------+--------+--------------------+-------+--------------------+--------------+-----------+\n",
            "|A2IBPI20UZIR0U|1384719342|cassandra tu \"Yea...|  [0, 0]|Not much to write...|    5.0|                good|    1393545600|02 28, 2014|\n",
            "|A14VAT5EAX3D9S|1384719342|                Jake|[13, 14]|The product does ...|    5.0|                Jake|    1363392000|03 16, 2013|\n",
            "|A195EZSQDW3E21|1384719342|Rick Bennette \"Ri...|  [1, 1]|The primary job o...|    5.0|It Does The Job Well|    1377648000|08 28, 2013|\n",
            "|A2C00NNG1ZQQG2|1384719342|RustyBill \"Sunday...|  [0, 0]|Nice windscreen p...|    5.0|GOOD WINDSCREEN F...|    1392336000|02 14, 2014|\n",
            "| A94QU4C90B1AX|1384719342|       SEAN MASLANKA|  [0, 0]|This pop filter i...|    5.0|No more pops when...|    1392940800|02 21, 2014|\n",
            "+--------------+----------+--------------------+--------+--------------------+-------+--------------------+--------------+-----------+\n",
            "only showing top 5 rows\n",
            "\n"
          ]
        }
      ],
      "source": [
        "#\n",
        "df.show(5)"
      ]
    },
    {
      "cell_type": "code",
      "execution_count": 6,
      "metadata": {
        "id": "C3OUfO480t5K"
      },
      "outputs": [],
      "source": [
        "df = df.fillna({'reviewText': 'Missing'})"
      ]
    },
    {
      "cell_type": "code",
      "execution_count": 7,
      "metadata": {
        "id": "ICpnyy6Q0t5K"
      },
      "outputs": [],
      "source": [
        "# Combine 'reviewText' and 'summary' into a new column 'reviews'\n",
        "df = df.withColumn('reviews', concat_ws('', col('reviewText'), col('summary')))\n",
        "\n",
        "# Drop the original 'reviewText' and 'summary' columns\n",
        "df = df.drop('reviewText', 'summary')"
      ]
    },
    {
      "cell_type": "code",
      "execution_count": 8,
      "metadata": {
        "id": "yHYfGYXi0t5M",
        "colab": {
          "base_uri": "https://localhost:8080/"
        },
        "outputId": "ebf7cfdb-7136-4afb-e35b-951136232544"
      },
      "outputs": [
        {
          "output_type": "stream",
          "name": "stdout",
          "text": [
            "+--------------+----------+--------------------+--------+-------+--------------+-----------+--------------------+\n",
            "|    reviewerID|      asin|        reviewerName| helpful|overall|unixReviewTime| reviewTime|             reviews|\n",
            "+--------------+----------+--------------------+--------+-------+--------------+-----------+--------------------+\n",
            "|A2IBPI20UZIR0U|1384719342|cassandra tu \"Yea...|  [0, 0]|    5.0|    1393545600|02 28, 2014|Not much to write...|\n",
            "|A14VAT5EAX3D9S|1384719342|                Jake|[13, 14]|    5.0|    1363392000|03 16, 2013|The product does ...|\n",
            "|A195EZSQDW3E21|1384719342|Rick Bennette \"Ri...|  [1, 1]|    5.0|    1377648000|08 28, 2013|The primary job o...|\n",
            "|A2C00NNG1ZQQG2|1384719342|RustyBill \"Sunday...|  [0, 0]|    5.0|    1392336000|02 14, 2014|Nice windscreen p...|\n",
            "| A94QU4C90B1AX|1384719342|       SEAN MASLANKA|  [0, 0]|    5.0|    1392940800|02 21, 2014|This pop filter i...|\n",
            "|A2A039TZMZHH9Y|B00004Y2UT| Bill Lewey \"blewey\"|  [0, 0]|    5.0|    1356048000|12 21, 2012|So good that I bo...|\n",
            "|A1UPZM995ZAH90|B00004Y2UT|               Brian|  [0, 0]|    5.0|    1390089600|01 19, 2014|I have used monst...|\n",
            "| AJNFQI3YR6XJ5|B00004Y2UT|   Fender Guy \"Rick\"|  [0, 0]|    3.0|    1353024000|11 16, 2012|I now use this ca...|\n",
            "|A3M1PLEYNDEYO8|B00004Y2UT|     G. Thomas \"Tom\"|  [0, 0]|    5.0|    1215302400| 07 6, 2008|Perfect for my Ep...|\n",
            "| AMNTZU1YQN1TH|B00004Y2UT|         Kurt Robair|  [0, 0]|    5.0|    1389139200| 01 8, 2014|Monster makes the...|\n",
            "|A2NYK9KWFMJV4Y|B00004Y2UT|Mike Tarrani \"Jaz...|  [6, 6]|    5.0|    1334793600|04 19, 2012|Monster makes a w...|\n",
            "|A35QFQI0M46LWO|B00005ML71|       Christopher C|  [0, 0]|    4.0|    1398124800|04 22, 2014|I got it to have ...|\n",
            "|A2NIT6BKW11XJQ|B00005ML71|                 Jai|  [0, 0]|    3.0|    1384646400|11 17, 2013|If you are not us...|\n",
            "|A1C0O09LOLVI39|B00005ML71|             Michael|  [0, 0]|    5.0|    1371340800|06 16, 2013|I love it, I used...|\n",
            "|A17SLR18TUMULM|B00005ML71|         Straydogger|  [0, 0]|    5.0|    1356912000|12 31, 2012|I bought this to ...|\n",
            "|A2PD27UKAD3Q00|B00005ML71|Wilhelmina Zeitge...|  [0, 0]|    2.0|    1376697600|08 17, 2013|I bought this to ...|\n",
            "| AKSFZ4G1AXYFC|B000068NSX|        C.E. \"Frank\"|  [0, 0]|    4.0|    1376352000|08 13, 2013|This Fender cable...|\n",
            "| A67OJZLHBBUQ9|B000068NSX|Charles F. Marks ...|  [0, 0]|    5.0|    1373328000| 07 9, 2013|wanted it just on...|\n",
            "|A2EZWZ8MBEDOLN|B000068NSX|              Charlo|  [3, 3]|    5.0|    1363564800|03 18, 2013|I've been using t...|\n",
            "|A1CL807EOUPVP1|B000068NSX|             GunHawk|  [0, 0]|    5.0|    1375833600| 08 7, 2013|Fender cords look...|\n",
            "+--------------+----------+--------------------+--------+-------+--------------+-----------+--------------------+\n",
            "only showing top 20 rows\n",
            "\n"
          ]
        }
      ],
      "source": [
        "df.show()"
      ]
    },
    {
      "cell_type": "code",
      "execution_count": 9,
      "metadata": {
        "id": "nckNRi8x0t5M"
      },
      "outputs": [],
      "source": [
        "from pyspark.sql.functions import udf, col\n",
        "from pyspark.sql.types import StringType, IntegerType\n",
        "\n",
        "# Cast the column to IntegerType\n",
        "df = df.withColumn(\"overall\", col(\"overall\").cast(IntegerType()))\n",
        "\n",
        "# Define the sentiment function\n",
        "def sent(overall):\n",
        "    if overall is None:\n",
        "        return 'Unknown'\n",
        "    elif overall == 3:\n",
        "        return 'Neutral'\n",
        "    elif overall > 3:\n",
        "        return 'Positive'\n",
        "    else:\n",
        "        return 'Negative'\n",
        "\n",
        "# Register the UDF\n",
        "sent_udf = udf(sent, StringType())\n",
        "\n",
        "# Apply the UDF\n",
        "df = df.withColumn(\"Sentiment\", sent_udf(col(\"overall\")))\n",
        "\n",
        "\n"
      ]
    },
    {
      "cell_type": "code",
      "execution_count": 10,
      "metadata": {
        "id": "bpJIiRGt0t5M",
        "colab": {
          "base_uri": "https://localhost:8080/"
        },
        "outputId": "da6c8f9b-628e-4544-be1c-80ffca437c82"
      },
      "outputs": [
        {
          "output_type": "stream",
          "name": "stdout",
          "text": [
            "+--------------+----------+--------------------+--------+-------+--------------+-----------+--------------------+---------+\n",
            "|    reviewerID|      asin|        reviewerName| helpful|overall|unixReviewTime| reviewTime|             reviews|Sentiment|\n",
            "+--------------+----------+--------------------+--------+-------+--------------+-----------+--------------------+---------+\n",
            "|A2IBPI20UZIR0U|1384719342|cassandra tu \"Yea...|  [0, 0]|      5|    1393545600|02 28, 2014|Not much to write...| Positive|\n",
            "|A14VAT5EAX3D9S|1384719342|                Jake|[13, 14]|      5|    1363392000|03 16, 2013|The product does ...| Positive|\n",
            "|A195EZSQDW3E21|1384719342|Rick Bennette \"Ri...|  [1, 1]|      5|    1377648000|08 28, 2013|The primary job o...| Positive|\n",
            "|A2C00NNG1ZQQG2|1384719342|RustyBill \"Sunday...|  [0, 0]|      5|    1392336000|02 14, 2014|Nice windscreen p...| Positive|\n",
            "| A94QU4C90B1AX|1384719342|       SEAN MASLANKA|  [0, 0]|      5|    1392940800|02 21, 2014|This pop filter i...| Positive|\n",
            "|A2A039TZMZHH9Y|B00004Y2UT| Bill Lewey \"blewey\"|  [0, 0]|      5|    1356048000|12 21, 2012|So good that I bo...| Positive|\n",
            "|A1UPZM995ZAH90|B00004Y2UT|               Brian|  [0, 0]|      5|    1390089600|01 19, 2014|I have used monst...| Positive|\n",
            "| AJNFQI3YR6XJ5|B00004Y2UT|   Fender Guy \"Rick\"|  [0, 0]|      3|    1353024000|11 16, 2012|I now use this ca...|  Neutral|\n",
            "|A3M1PLEYNDEYO8|B00004Y2UT|     G. Thomas \"Tom\"|  [0, 0]|      5|    1215302400| 07 6, 2008|Perfect for my Ep...| Positive|\n",
            "| AMNTZU1YQN1TH|B00004Y2UT|         Kurt Robair|  [0, 0]|      5|    1389139200| 01 8, 2014|Monster makes the...| Positive|\n",
            "+--------------+----------+--------------------+--------+-------+--------------+-----------+--------------------+---------+\n",
            "only showing top 10 rows\n",
            "\n"
          ]
        }
      ],
      "source": [
        "df.show(10)"
      ]
    },
    {
      "cell_type": "code",
      "source": [
        "# # Sample 10% of the DataFrame without replacement\n",
        "# sampled_df = df.sample(withReplacement=False, fraction=0.1)\n",
        "\n",
        "# # Write the sampled DataFrame to a JSON file\n",
        "# sampled_df.write.mode(\"overwrite\").json(\"sampled_reviews.json\")"
      ],
      "metadata": {
        "id": "h21OUcfVaPGg"
      },
      "execution_count": null,
      "outputs": []
    },
    {
      "cell_type": "code",
      "source": [
        "# sentiment_counts = sampled_df.groupBy(\"sentiment\").count()\n",
        "# sentiment_counts.show()"
      ],
      "metadata": {
        "colab": {
          "base_uri": "https://localhost:8080/"
        },
        "id": "irQPUW0caXyL",
        "outputId": "8e64f7f4-f3ac-4d49-e9c5-3eb946d954b7"
      },
      "execution_count": null,
      "outputs": [
        {
          "output_type": "stream",
          "name": "stdout",
          "text": [
            "+---------+-----+\n",
            "|sentiment|count|\n",
            "+---------+-----+\n",
            "| Positive|  948|\n",
            "|  Neutral|   79|\n",
            "| Negative|   33|\n",
            "+---------+-----+\n",
            "\n"
          ]
        }
      ]
    },
    {
      "cell_type": "code",
      "source": [
        "# sampled_df = sampled_df.drop('sentiement')\n",
        "# sampled_df.write.mode(\"overwrite\").json(\"sampled_reviews_without_target.json\")"
      ],
      "metadata": {
        "id": "SrM9ZJiHaaQh"
      },
      "execution_count": null,
      "outputs": []
    },
    {
      "cell_type": "code",
      "execution_count": null,
      "metadata": {
        "id": "VHRYCskO0t5N"
      },
      "outputs": [],
      "source": [
        "\n",
        "\n",
        "# # Split 'reviewTime' into 'date' and 'year'\n",
        "# df = df.withColumn('date', split(df['reviewTime'], ',').getItem(0))\n",
        "# df = df.withColumn('year', trim(split(df['reviewTime'], ',').getItem(1)))\n",
        "\n",
        "# # Split 'date' into 'month' and 'day'\n",
        "# df = df.withColumn('month', split(df['date'], ' ').getItem(0))\n",
        "# df = df.withColumn('day', split(df['date'], ' ').getItem(1))\n",
        "\n",
        "# # Drop 'reviewTime' and 'date' columns\n",
        "# df = df.drop('reviewTime', 'date')\n",
        "\n",
        "# # Show the result\n",
        "# df.show(5)\n"
      ]
    },
    {
      "cell_type": "code",
      "execution_count": 11,
      "metadata": {
        "id": "3mgpgdYq0t5N"
      },
      "outputs": [],
      "source": [
        "df = df.drop('reviewerName', 'unixReviewTime')"
      ]
    },
    {
      "cell_type": "code",
      "execution_count": 12,
      "metadata": {
        "id": "BMBD0H680t5N"
      },
      "outputs": [],
      "source": [
        "def clean_review(text):\n",
        "    text = str(text).lower()\n",
        "    text = re.sub('\\[.*?\\]', '', text)\n",
        "    text = re.sub('https?://\\S+|www\\.\\S+', '', text)\n",
        "    text = re.sub('<.*?>+', '', text)\n",
        "    text = re.sub('[%s]' % re.escape(string.punctuation), '', text)\n",
        "    text = re.sub('\\n', '', text)\n",
        "    text = re.sub('\\w*\\d\\w*', '', text)\n",
        "    return text"
      ]
    },
    {
      "cell_type": "code",
      "execution_count": 13,
      "metadata": {
        "id": "ex3Rrd3S0t5N"
      },
      "outputs": [],
      "source": [
        "clean_review_udf = udf(clean_review, StringType())"
      ]
    },
    {
      "cell_type": "code",
      "execution_count": 14,
      "metadata": {
        "id": "Dpn7uB810t5O"
      },
      "outputs": [],
      "source": [
        "df = df.withColumn('reviews', clean_review_udf(df['reviews']))"
      ]
    },
    {
      "cell_type": "code",
      "execution_count": 15,
      "metadata": {
        "id": "q50_o5qv0t5O",
        "colab": {
          "base_uri": "https://localhost:8080/"
        },
        "outputId": "dba53245-7b0a-49d9-fa30-d7950dfe4493"
      },
      "outputs": [
        {
          "output_type": "stream",
          "name": "stdout",
          "text": [
            "+--------------+----------+--------+-------+-----------+--------------------+---------+\n",
            "|    reviewerID|      asin| helpful|overall| reviewTime|             reviews|Sentiment|\n",
            "+--------------+----------+--------+-------+-----------+--------------------+---------+\n",
            "|A2IBPI20UZIR0U|1384719342|  [0, 0]|      5|02 28, 2014|not much to write...| Positive|\n",
            "|A14VAT5EAX3D9S|1384719342|[13, 14]|      5|03 16, 2013|the product does ...| Positive|\n",
            "|A195EZSQDW3E21|1384719342|  [1, 1]|      5|08 28, 2013|the primary job o...| Positive|\n",
            "|A2C00NNG1ZQQG2|1384719342|  [0, 0]|      5|02 14, 2014|nice windscreen p...| Positive|\n",
            "| A94QU4C90B1AX|1384719342|  [0, 0]|      5|02 21, 2014|this pop filter i...| Positive|\n",
            "+--------------+----------+--------+-------+-----------+--------------------+---------+\n",
            "only showing top 5 rows\n",
            "\n"
          ]
        }
      ],
      "source": [
        "df.show(5)\n"
      ]
    },
    {
      "cell_type": "code",
      "execution_count": 16,
      "metadata": {
        "id": "nPhDCRsr0t5O"
      },
      "outputs": [],
      "source": [
        "stop_words= ['yourselves', 'between', 'whom', 'itself', 'is', \"she's\", 'up', 'herself', 'here', 'your', 'each',\n",
        "             'we', 'he', 'my', \"you've\", 'having', 'in', 'both', 'for', 'themselves', 'are', 'them', 'other',\n",
        "             'and', 'an', 'during', 'their', 'can', 'yourself', 'she', 'until', 'so', 'these', 'ours', 'above',\n",
        "             'what', 'while', 'have', 're', 'more', 'only', \"needn't\", 'when', 'just', 'that', 'were', \"don't\",\n",
        "             'very', 'should', 'any', 'y', 'isn', 'who',  'a', 'they', 'to', 'too', \"should've\", 'has', 'before',\n",
        "             'into', 'yours', \"it's\", 'do', 'against', 'on',  'now', 'her', 've', 'd', 'by', 'am', 'from',\n",
        "             'about', 'further', \"that'll\", \"you'd\", 'you', 'as', 'how', 'been', 'the', 'or', 'doing', 'such',\n",
        "             'his', 'himself', 'ourselves',  'was', 'through', 'out', 'below', 'own', 'myself', 'theirs',\n",
        "             'me', 'why', 'once',  'him', 'than', 'be', 'most', \"you'll\", 'same', 'some', 'with', 'few', 'it',\n",
        "             'at', 'after', 'its', 'which', 'there','our', 'this', 'hers', 'being', 'did', 'of', 'had', 'under',\n",
        "             'over','again', 'where', 'those', 'then', \"you're\", 'i', 'because', 'does', 'all']\n",
        "\n",
        "def remove_stopwords(text):\n",
        "    if text is None:\n",
        "        return \"\"\n",
        "    words = text.split()\n",
        "    filtered = [word for word in words if word not in stop_words]\n",
        "    return ' '.join(filtered)\n",
        "\n",
        "remove_stopwords_udf = udf(remove_stopwords, StringType())\n"
      ]
    },
    {
      "cell_type": "code",
      "execution_count": 17,
      "metadata": {
        "id": "djl6ft670t5P"
      },
      "outputs": [],
      "source": [
        "df = df.withColumn('reviews', remove_stopwords_udf(df['reviews']))"
      ]
    },
    {
      "cell_type": "code",
      "execution_count": null,
      "metadata": {
        "id": "Mahe82I10t5P"
      },
      "outputs": [],
      "source": [
        "# def get_polarity(text):\n",
        "#     try:\n",
        "#         return float(TextBlob(str(text)).sentiment.polarity)\n",
        "#     except:\n",
        "#         return 0.0\n",
        "\n",
        "# polarity_udf = udf(get_polarity, FloatType())\n",
        "# df = df.withColumn('polarity', polarity_udf(df['reviews']))"
      ]
    },
    {
      "cell_type": "code",
      "execution_count": null,
      "metadata": {
        "id": "Jb5k91AW0t5P"
      },
      "outputs": [],
      "source": [
        "# df = df.withColumn('review_len', length(df['reviews']))\n",
        "# df = df.withColumn('word_count', size(split(df['reviews'], ' ')))\n",
        "\n",
        "# df.select('reviews', 'polarity', 'review_len', 'word_count').show(5)"
      ]
    },
    {
      "cell_type": "code",
      "execution_count": 18,
      "metadata": {
        "id": "rq2Cjb5f0t5P"
      },
      "outputs": [],
      "source": [
        "positive_review = df.filter(df[\"Sentiment\"] == 'Positive').na.drop()\n",
        "neutral_review  = df.filter(df[\"Sentiment\"] == 'Neutral').na.drop()\n",
        "negative_review = df.filter(df[\"Sentiment\"] == 'Negative').na.drop()"
      ]
    },
    {
      "cell_type": "code",
      "execution_count": 19,
      "metadata": {
        "id": "vJSGfH150t5P",
        "colab": {
          "base_uri": "https://localhost:8080/"
        },
        "outputId": "3c13291b-91b9-496d-e213-5ff27dfe196f"
      },
      "outputs": [
        {
          "output_type": "stream",
          "name": "stdout",
          "text": [
            "+--------------+----------+-------+-------+-----------+--------------------+---------+\n",
            "|    reviewerID|      asin|helpful|overall| reviewTime|             reviews|Sentiment|\n",
            "+--------------+----------+-------+-------+-----------+--------------------+---------+\n",
            "|A2PD27UKAD3Q00|B00005ML71| [0, 0]|      2|08 17, 2013|bought use keyboa...| Negative|\n",
            "|A12ABV9NU02O29|B000068NW5| [2, 2]|      2| 07 6, 2011|didnt expect cabl...| Negative|\n",
            "|A1L7M2JXN4EZCR|B000068NW5| [0, 0]|      1| 02 9, 2014|hums crackles thi...| Negative|\n",
            "|A3UD50M7M72150|B000068NW5| [0, 0]|      1|03 14, 2014|im procheapo hate...| Negative|\n",
            "|A1W3CEEQBJ4GTN|B000068NZC| [0, 0]|      2|09 16, 2013|bought canon vixi...| Negative|\n",
            "| AEN6KDJ3AJDK6|B000068O4H| [0, 2]|      2|12 30, 2013|got plug xlr cabl...| Negative|\n",
            "|A3AOB0VF6H0IF4|B000165DSM| [0, 0]|      1|01 27, 2013|received time sta...| Negative|\n",
            "|A27DR1VO079F1V|B000165DSM| [0, 0]|      1|02 19, 2014|things terrible o...| Negative|\n",
            "| AAGD3GA9ZVPLQ|B0002CZSJO| [0, 0]|      2|09 19, 2013|handle spring str...| Negative|\n",
            "| AH0XON4XDOF2C|B0002CZTIO| [1, 1]|      2|01 25, 2014|good but think bi...| Negative|\n",
            "+--------------+----------+-------+-------+-----------+--------------------+---------+\n",
            "only showing top 10 rows\n",
            "\n"
          ]
        }
      ],
      "source": [
        "negative_review.show(10)"
      ]
    },
    {
      "cell_type": "code",
      "execution_count": 20,
      "metadata": {
        "id": "2tlUKusF0t5Q",
        "colab": {
          "base_uri": "https://localhost:8080/"
        },
        "outputId": "ffb516bd-c425-4dbb-c810-e48a45f63f52"
      },
      "outputs": [
        {
          "output_type": "stream",
          "name": "stdout",
          "text": [
            "root\n",
            " |-- reviewerID: string (nullable = true)\n",
            " |-- asin: string (nullable = true)\n",
            " |-- helpful: string (nullable = true)\n",
            " |-- overall: integer (nullable = true)\n",
            " |-- reviewTime: string (nullable = true)\n",
            " |-- reviews: string (nullable = true)\n",
            " |-- Sentiment: string (nullable = true)\n",
            "\n"
          ]
        }
      ],
      "source": [
        "df.printSchema()\n"
      ]
    },
    {
      "cell_type": "code",
      "execution_count": 21,
      "metadata": {
        "id": "2oyIxle40t5Q",
        "colab": {
          "base_uri": "https://localhost:8080/"
        },
        "outputId": "f2117ce4-d85c-4b7f-eaf8-f252146fe157"
      },
      "outputs": [
        {
          "output_type": "stream",
          "name": "stdout",
          "text": [
            "+---------+\n",
            "|Sentiment|\n",
            "+---------+\n",
            "| Positive|\n",
            "| Positive|\n",
            "| Positive|\n",
            "| Positive|\n",
            "| Positive|\n",
            "+---------+\n",
            "\n"
          ]
        }
      ],
      "source": [
        "df.select(\"Sentiment\").limit(5).show()\n"
      ]
    },
    {
      "cell_type": "code",
      "execution_count": 22,
      "metadata": {
        "id": "WAAsyj--0t5Q",
        "colab": {
          "base_uri": "https://localhost:8080/"
        },
        "outputId": "033f5197-7ebc-4269-c15f-f42695bd089a"
      },
      "outputs": [
        {
          "output_type": "stream",
          "name": "stdout",
          "text": [
            "+--------------+----------+--------+-------+-----------+--------------------+---------+\n",
            "|    reviewerID|      asin| helpful|overall| reviewTime|             reviews|Sentiment|\n",
            "+--------------+----------+--------+-------+-----------+--------------------+---------+\n",
            "|A2IBPI20UZIR0U|1384719342|  [0, 0]|      5|02 28, 2014|not much write bu...| Positive|\n",
            "|A14VAT5EAX3D9S|1384719342|[13, 14]|      5|03 16, 2013|product exactly q...| Positive|\n",
            "|A195EZSQDW3E21|1384719342|  [1, 1]|      5|08 28, 2013|primary job devic...| Positive|\n",
            "|A2C00NNG1ZQQG2|1384719342|  [0, 0]|      5|02 14, 2014|nice windscreen p...| Positive|\n",
            "| A94QU4C90B1AX|1384719342|  [0, 0]|      5|02 21, 2014|pop filter great ...| Positive|\n",
            "+--------------+----------+--------+-------+-----------+--------------------+---------+\n",
            "only showing top 5 rows\n",
            "\n"
          ]
        }
      ],
      "source": [
        "df.show(5)"
      ]
    },
    {
      "cell_type": "code",
      "execution_count": null,
      "metadata": {
        "id": "Yp1t3pFW0t5Q"
      },
      "outputs": [],
      "source": [
        "# df.cache()\n"
      ]
    },
    {
      "cell_type": "code",
      "execution_count": null,
      "metadata": {
        "id": "ztbIgI0w0t5R"
      },
      "outputs": [],
      "source": [
        "# pdf = df.select(\"*\").toPandas()\n",
        "# from sklearn import preprocessing\n",
        "\n",
        "# le = preprocessing.LabelEncoder()\n",
        "# pdf['Sentiment'] = le.fit_transform(pdf['Sentiment'])\n",
        "# df = spark.createDataFrame(pdf)"
      ]
    },
    {
      "cell_type": "code",
      "execution_count": 23,
      "metadata": {
        "id": "xqIEvnz50t5R",
        "colab": {
          "base_uri": "https://localhost:8080/"
        },
        "outputId": "e85e4219-7951-4ec8-f877-b0d70d298978"
      },
      "outputs": [
        {
          "output_type": "stream",
          "name": "stdout",
          "text": [
            "+---------+-----------------+\n",
            "|Sentiment|Sentiment_Indexed|\n",
            "+---------+-----------------+\n",
            "| Positive|              0.0|\n",
            "| Negative|              2.0|\n",
            "|  Neutral|              1.0|\n",
            "+---------+-----------------+\n",
            "\n"
          ]
        }
      ],
      "source": [
        "from pyspark.ml.feature import StringIndexer\n",
        "\n",
        "indexer = StringIndexer(inputCol=\"Sentiment\", outputCol=\"Sentiment_Indexed\")\n",
        "indexer_model = indexer.fit(df)\n",
        "df = indexer_model.transform(df)\n",
        "df.select(\"Sentiment\", \"Sentiment_Indexed\").distinct().show()"
      ]
    },
    {
      "cell_type": "code",
      "execution_count": null,
      "metadata": {
        "id": "wxhjdPHE0t5U"
      },
      "outputs": [],
      "source": [
        "# from pyspark.sql import SparkSession\n",
        "# from pyspark.ml.feature import StringIndexer\n",
        "\n",
        "# spark = SparkSession.builder.getOrCreate()\n",
        "# data = [(\"Positive\",), (\"Negative\",), (\"Neutral\",)]\n",
        "# df2 = spark.createDataFrame(data, [\"Sentiment\"])\n",
        "# indexer = StringIndexer(inputCol=\"Sentiment\", outputCol=\"Sentiment_Indexed\")\n",
        "# model = indexer.fit(df2)\n",
        "# df2 = model.transform(df2)\n",
        "# df2.show()"
      ]
    },
    {
      "cell_type": "code",
      "source": [
        "df.groupBy('Sentiment').count().orderBy('count', ascending=False).show()"
      ],
      "metadata": {
        "id": "t2UAfhQu1YNf",
        "colab": {
          "base_uri": "https://localhost:8080/"
        },
        "outputId": "99423259-2b78-4367-de4f-05e266853f63"
      },
      "execution_count": 24,
      "outputs": [
        {
          "output_type": "stream",
          "name": "stdout",
          "text": [
            "+---------+-----+\n",
            "|Sentiment|count|\n",
            "+---------+-----+\n",
            "| Positive| 9022|\n",
            "|  Neutral|  772|\n",
            "| Negative|  467|\n",
            "+---------+-----+\n",
            "\n"
          ]
        }
      ]
    },
    {
      "cell_type": "code",
      "source": [],
      "metadata": {
        "id": "AM05MfOzMeIv"
      },
      "execution_count": null,
      "outputs": []
    },
    {
      "cell_type": "code",
      "source": [
        "# # Extracting 'reviews' for processing\n",
        "# df_features = df.select(\"reviews\").alias(\"review_features\")\n",
        "# df_features.show(5)"
      ],
      "metadata": {
        "id": "KKKGwwyw1sSg"
      },
      "execution_count": null,
      "outputs": []
    },
    {
      "cell_type": "code",
      "source": [
        "# from pyspark.sql import SparkSession\n",
        "# from pyspark.sql.functions import col, udf\n",
        "# from pyspark.sql.types import ArrayType, StringType\n",
        "# from pyspark.ml.feature import Tokenizer, HashingTF, IDF\n",
        "# import nltk\n",
        "# from nltk.stem import WordNetLemmatizer\n",
        "\n",
        "# nltk.download('wordnet')"
      ],
      "metadata": {
        "id": "b4bI7WnDMM8v"
      },
      "execution_count": null,
      "outputs": []
    },
    {
      "cell_type": "code",
      "source": [
        "# 1. Tokenization\n",
        "tokenizer = Tokenizer(inputCol=\"reviews\", outputCol=\"words\")\n",
        "df_tokenized = tokenizer.transform(df)\n",
        "df_tokenized.show()"
      ],
      "metadata": {
        "id": "gh5NG3dQMTdk",
        "colab": {
          "base_uri": "https://localhost:8080/"
        },
        "outputId": "2a1a8cd8-cbf2-49da-f077-52bc26a50dc4"
      },
      "execution_count": 25,
      "outputs": [
        {
          "output_type": "stream",
          "name": "stdout",
          "text": [
            "+--------------+----------+--------+-------+-----------+--------------------+---------+-----------------+--------------------+\n",
            "|    reviewerID|      asin| helpful|overall| reviewTime|             reviews|Sentiment|Sentiment_Indexed|               words|\n",
            "+--------------+----------+--------+-------+-----------+--------------------+---------+-----------------+--------------------+\n",
            "|A2IBPI20UZIR0U|1384719342|  [0, 0]|      5|02 28, 2014|not much write bu...| Positive|              0.0|[not, much, write...|\n",
            "|A14VAT5EAX3D9S|1384719342|[13, 14]|      5|03 16, 2013|product exactly q...| Positive|              0.0|[product, exactly...|\n",
            "|A195EZSQDW3E21|1384719342|  [1, 1]|      5|08 28, 2013|primary job devic...| Positive|              0.0|[primary, job, de...|\n",
            "|A2C00NNG1ZQQG2|1384719342|  [0, 0]|      5|02 14, 2014|nice windscreen p...| Positive|              0.0|[nice, windscreen...|\n",
            "| A94QU4C90B1AX|1384719342|  [0, 0]|      5|02 21, 2014|pop filter great ...| Positive|              0.0|[pop, filter, gre...|\n",
            "|A2A039TZMZHH9Y|B00004Y2UT|  [0, 0]|      5|12 21, 2012|good bought anoth...| Positive|              0.0|[good, bought, an...|\n",
            "|A1UPZM995ZAH90|B00004Y2UT|  [0, 0]|      5|01 19, 2014|used monster cabl...| Positive|              0.0|[used, monster, c...|\n",
            "| AJNFQI3YR6XJ5|B00004Y2UT|  [0, 0]|      3|11 16, 2012|use cable run out...|  Neutral|              1.0|[use, cable, run,...|\n",
            "|A3M1PLEYNDEYO8|B00004Y2UT|  [0, 0]|      5| 07 6, 2008|perfect epiphone ...| Positive|              0.0|[perfect, epiphon...|\n",
            "| AMNTZU1YQN1TH|B00004Y2UT|  [0, 0]|      5| 01 8, 2014|monster makes bes...| Positive|              0.0|[monster, makes, ...|\n",
            "|A2NYK9KWFMJV4Y|B00004Y2UT|  [6, 6]|      5|04 19, 2012|monster makes wid...| Positive|              0.0|[monster, makes, ...|\n",
            "|A35QFQI0M46LWO|B00005ML71|  [0, 0]|      4|04 22, 2014|got if needed fou...| Positive|              0.0|[got, if, needed,...|\n",
            "|A2NIT6BKW11XJQ|B00005ML71|  [0, 0]|      3|11 17, 2013|if not use using ...|  Neutral|              1.0|[if, not, use, us...|\n",
            "|A1C0O09LOLVI39|B00005ML71|  [0, 0]|      5|06 16, 2013|love used yamaha ...| Positive|              0.0|[love, used, yama...|\n",
            "|A17SLR18TUMULM|B00005ML71|  [0, 0]|      5|12 31, 2012|bought use home s...| Positive|              0.0|[bought, use, hom...|\n",
            "|A2PD27UKAD3Q00|B00005ML71|  [0, 0]|      2|08 17, 2013|bought use keyboa...| Negative|              2.0|[bought, use, key...|\n",
            "| AKSFZ4G1AXYFC|B000068NSX|  [0, 0]|      4|08 13, 2013|fender cable perf...| Positive|              0.0|[fender, cable, p...|\n",
            "| A67OJZLHBBUQ9|B000068NSX|  [0, 0]|      5| 07 9, 2013|wanted looks alon...| Positive|              0.0|[wanted, looks, a...|\n",
            "|A2EZWZ8MBEDOLN|B000068NSX|  [3, 3]|      5|03 18, 2013|ive using cables ...| Positive|              0.0|[ive, using, cabl...|\n",
            "|A1CL807EOUPVP1|B000068NSX|  [0, 0]|      5| 08 7, 2013|fender cords look...| Positive|              0.0|[fender, cords, l...|\n",
            "+--------------+----------+--------+-------+-----------+--------------------+---------+-----------------+--------------------+\n",
            "only showing top 20 rows\n",
            "\n"
          ]
        }
      ]
    },
    {
      "cell_type": "code",
      "source": [
        "df_tokenized.printSchema()"
      ],
      "metadata": {
        "id": "lWuVy_EzhJsI",
        "colab": {
          "base_uri": "https://localhost:8080/"
        },
        "outputId": "94eb56ba-8652-4dfe-ae89-99f7bd77182e"
      },
      "execution_count": 26,
      "outputs": [
        {
          "output_type": "stream",
          "name": "stdout",
          "text": [
            "root\n",
            " |-- reviewerID: string (nullable = true)\n",
            " |-- asin: string (nullable = true)\n",
            " |-- helpful: string (nullable = true)\n",
            " |-- overall: integer (nullable = true)\n",
            " |-- reviewTime: string (nullable = true)\n",
            " |-- reviews: string (nullable = true)\n",
            " |-- Sentiment: string (nullable = true)\n",
            " |-- Sentiment_Indexed: double (nullable = false)\n",
            " |-- words: array (nullable = true)\n",
            " |    |-- element: string (containsNull = true)\n",
            "\n"
          ]
        }
      ]
    },
    {
      "cell_type": "code",
      "source": [
        "# # cHECKING FOR MISSPELLED WORDS\n",
        "# # Configuration\n",
        "\n",
        "# DOMAIN_WORDS = [\n",
        "#     \"epiphone\", \"fender\", \"windscreen\", \"yamaha\", \"ive\", \"monster\",\n",
        "#     \"plugin\", \"bluetooth\", \"mic\", \"ipad\", \"ipod\", \"amps\", \"distortion\",\n",
        "#     \"gig\", \"amp\", \"aux\", \"acoustic\", \"pedal\", \"tuner\", \"preamp\",\n",
        "#     \"podcast\", \"adapter\", \"playlist\"\n",
        "# ]\n",
        "# # Initialize spell checker\n",
        "# def init_spell_checker():\n",
        "#     checker = SpellChecker()\n",
        "#     checker.word_frequency.load_words(DOMAIN_WORDS)\n",
        "#     return checker\n",
        "\n",
        "# # Spell-check function\n",
        "# @pandas_udf(ArrayType(StringType()))\n",
        "# def check_misspellings(tokens: pd.Series) -> pd.Series:\n",
        "#     checker = init_spell_checker()\n",
        "#     def check_tokens(token_list):\n",
        "#         # Handle None or non-list inputs\n",
        "#         if token_list is None or not isinstance(token_list, (list, tuple)):\n",
        "#             return []\n",
        "#         # Handle empty lists\n",
        "#         if len(token_list) == 0:\n",
        "#             return []\n",
        "#         # Process valid tokens\n",
        "#         valid_tokens = [t.lower() for t in token_list if isinstance(t, str) and len(t) >= MIN_TOKEN_LENGTH and not t.isdigit()]\n",
        "#         return list(checker.unknown(valid_tokens))\n",
        "#     return tokens.apply(check_tokens)\n",
        "\n",
        "# # Main processing\n",
        "# def main(df_tokenized):\n",
        "#     # Cache and repartition\n",
        "#     df_tokenized.cache()\n",
        "#     df_tokenized = df_tokenized.repartition(8)  # Adjust based on cores\n",
        "\n",
        "#     # Add misspelled words column\n",
        "#     result_df = df_tokenized.withColumn(\"misspelled_words\", check_misspellings(\"words\"))\n",
        "\n",
        "#     # Show sample results\n",
        "#     print(\"Sample rows with misspellings:\")\n",
        "#     result_df.select(\"reviewerID\", \"reviews\", \"words\", \"misspelled_words\").show(5, truncate=False)\n",
        "\n",
        "#     # Count total misspelled words\n",
        "#     misspelling_count = result_df.select(explode(\"misspelled_words\").alias(\"misspelled_word\")).count()\n",
        "#     print(f\"Total number of misspelled words: {misspelling_count}\")\n",
        "\n",
        "#     # Cleanup\n",
        "#     df_tokenized.unpersist()\n",
        "\n",
        "\n",
        "# # Run spell-checking (assuming df_tokenized is loaded)\n",
        "# main(df_tokenized)\n",
        "\n",
        "# # Optional: Stop SparkSession\n",
        "# # spark.stop()"
      ],
      "metadata": {
        "id": "TLE8Dn54XKRE"
      },
      "execution_count": null,
      "outputs": []
    },
    {
      "cell_type": "code",
      "source": [
        "! pip install spacy"
      ],
      "metadata": {
        "id": "LbPSvbIlgplo",
        "colab": {
          "base_uri": "https://localhost:8080/"
        },
        "outputId": "d60245d7-145c-4459-f9c4-841a7d502923"
      },
      "execution_count": 27,
      "outputs": [
        {
          "output_type": "stream",
          "name": "stdout",
          "text": [
            "Requirement already satisfied: spacy in /usr/local/lib/python3.11/dist-packages (3.8.5)\n",
            "Requirement already satisfied: spacy-legacy<3.1.0,>=3.0.11 in /usr/local/lib/python3.11/dist-packages (from spacy) (3.0.12)\n",
            "Requirement already satisfied: spacy-loggers<2.0.0,>=1.0.0 in /usr/local/lib/python3.11/dist-packages (from spacy) (1.0.5)\n",
            "Requirement already satisfied: murmurhash<1.1.0,>=0.28.0 in /usr/local/lib/python3.11/dist-packages (from spacy) (1.0.12)\n",
            "Requirement already satisfied: cymem<2.1.0,>=2.0.2 in /usr/local/lib/python3.11/dist-packages (from spacy) (2.0.11)\n",
            "Requirement already satisfied: preshed<3.1.0,>=3.0.2 in /usr/local/lib/python3.11/dist-packages (from spacy) (3.0.9)\n",
            "Requirement already satisfied: thinc<8.4.0,>=8.3.4 in /usr/local/lib/python3.11/dist-packages (from spacy) (8.3.6)\n",
            "Requirement already satisfied: wasabi<1.2.0,>=0.9.1 in /usr/local/lib/python3.11/dist-packages (from spacy) (1.1.3)\n",
            "Requirement already satisfied: srsly<3.0.0,>=2.4.3 in /usr/local/lib/python3.11/dist-packages (from spacy) (2.5.1)\n",
            "Requirement already satisfied: catalogue<2.1.0,>=2.0.6 in /usr/local/lib/python3.11/dist-packages (from spacy) (2.0.10)\n",
            "Requirement already satisfied: weasel<0.5.0,>=0.1.0 in /usr/local/lib/python3.11/dist-packages (from spacy) (0.4.1)\n",
            "Requirement already satisfied: typer<1.0.0,>=0.3.0 in /usr/local/lib/python3.11/dist-packages (from spacy) (0.15.3)\n",
            "Requirement already satisfied: tqdm<5.0.0,>=4.38.0 in /usr/local/lib/python3.11/dist-packages (from spacy) (4.67.1)\n",
            "Requirement already satisfied: numpy>=1.19.0 in /usr/local/lib/python3.11/dist-packages (from spacy) (2.0.2)\n",
            "Requirement already satisfied: requests<3.0.0,>=2.13.0 in /usr/local/lib/python3.11/dist-packages (from spacy) (2.32.3)\n",
            "Requirement already satisfied: pydantic!=1.8,!=1.8.1,<3.0.0,>=1.7.4 in /usr/local/lib/python3.11/dist-packages (from spacy) (2.11.4)\n",
            "Requirement already satisfied: jinja2 in /usr/local/lib/python3.11/dist-packages (from spacy) (3.1.6)\n",
            "Requirement already satisfied: setuptools in /usr/local/lib/python3.11/dist-packages (from spacy) (75.2.0)\n",
            "Requirement already satisfied: packaging>=20.0 in /usr/local/lib/python3.11/dist-packages (from spacy) (24.2)\n",
            "Requirement already satisfied: langcodes<4.0.0,>=3.2.0 in /usr/local/lib/python3.11/dist-packages (from spacy) (3.5.0)\n",
            "Requirement already satisfied: language-data>=1.2 in /usr/local/lib/python3.11/dist-packages (from langcodes<4.0.0,>=3.2.0->spacy) (1.3.0)\n",
            "Requirement already satisfied: annotated-types>=0.6.0 in /usr/local/lib/python3.11/dist-packages (from pydantic!=1.8,!=1.8.1,<3.0.0,>=1.7.4->spacy) (0.7.0)\n",
            "Requirement already satisfied: pydantic-core==2.33.2 in /usr/local/lib/python3.11/dist-packages (from pydantic!=1.8,!=1.8.1,<3.0.0,>=1.7.4->spacy) (2.33.2)\n",
            "Requirement already satisfied: typing-extensions>=4.12.2 in /usr/local/lib/python3.11/dist-packages (from pydantic!=1.8,!=1.8.1,<3.0.0,>=1.7.4->spacy) (4.13.2)\n",
            "Requirement already satisfied: typing-inspection>=0.4.0 in /usr/local/lib/python3.11/dist-packages (from pydantic!=1.8,!=1.8.1,<3.0.0,>=1.7.4->spacy) (0.4.0)\n",
            "Requirement already satisfied: charset-normalizer<4,>=2 in /usr/local/lib/python3.11/dist-packages (from requests<3.0.0,>=2.13.0->spacy) (3.4.2)\n",
            "Requirement already satisfied: idna<4,>=2.5 in /usr/local/lib/python3.11/dist-packages (from requests<3.0.0,>=2.13.0->spacy) (3.10)\n",
            "Requirement already satisfied: urllib3<3,>=1.21.1 in /usr/local/lib/python3.11/dist-packages (from requests<3.0.0,>=2.13.0->spacy) (2.4.0)\n",
            "Requirement already satisfied: certifi>=2017.4.17 in /usr/local/lib/python3.11/dist-packages (from requests<3.0.0,>=2.13.0->spacy) (2025.4.26)\n",
            "Requirement already satisfied: blis<1.4.0,>=1.3.0 in /usr/local/lib/python3.11/dist-packages (from thinc<8.4.0,>=8.3.4->spacy) (1.3.0)\n",
            "Requirement already satisfied: confection<1.0.0,>=0.0.1 in /usr/local/lib/python3.11/dist-packages (from thinc<8.4.0,>=8.3.4->spacy) (0.1.5)\n",
            "Requirement already satisfied: click>=8.0.0 in /usr/local/lib/python3.11/dist-packages (from typer<1.0.0,>=0.3.0->spacy) (8.2.0)\n",
            "Requirement already satisfied: shellingham>=1.3.0 in /usr/local/lib/python3.11/dist-packages (from typer<1.0.0,>=0.3.0->spacy) (1.5.4)\n",
            "Requirement already satisfied: rich>=10.11.0 in /usr/local/lib/python3.11/dist-packages (from typer<1.0.0,>=0.3.0->spacy) (13.9.4)\n",
            "Requirement already satisfied: cloudpathlib<1.0.0,>=0.7.0 in /usr/local/lib/python3.11/dist-packages (from weasel<0.5.0,>=0.1.0->spacy) (0.21.0)\n",
            "Requirement already satisfied: smart-open<8.0.0,>=5.2.1 in /usr/local/lib/python3.11/dist-packages (from weasel<0.5.0,>=0.1.0->spacy) (7.1.0)\n",
            "Requirement already satisfied: MarkupSafe>=2.0 in /usr/local/lib/python3.11/dist-packages (from jinja2->spacy) (3.0.2)\n",
            "Requirement already satisfied: marisa-trie>=1.1.0 in /usr/local/lib/python3.11/dist-packages (from language-data>=1.2->langcodes<4.0.0,>=3.2.0->spacy) (1.2.1)\n",
            "Requirement already satisfied: markdown-it-py>=2.2.0 in /usr/local/lib/python3.11/dist-packages (from rich>=10.11.0->typer<1.0.0,>=0.3.0->spacy) (3.0.0)\n",
            "Requirement already satisfied: pygments<3.0.0,>=2.13.0 in /usr/local/lib/python3.11/dist-packages (from rich>=10.11.0->typer<1.0.0,>=0.3.0->spacy) (2.19.1)\n",
            "Requirement already satisfied: wrapt in /usr/local/lib/python3.11/dist-packages (from smart-open<8.0.0,>=5.2.1->weasel<0.5.0,>=0.1.0->spacy) (1.17.2)\n",
            "Requirement already satisfied: mdurl~=0.1 in /usr/local/lib/python3.11/dist-packages (from markdown-it-py>=2.2.0->rich>=10.11.0->typer<1.0.0,>=0.3.0->spacy) (0.1.2)\n"
          ]
        }
      ]
    },
    {
      "cell_type": "code",
      "source": [
        "# 2. Lemmatization UDF\n",
        "import spacy\n",
        "from pyspark.sql.functions import udf, col, size\n",
        "from pyspark.sql.types import ArrayType, StringType\n",
        "\n",
        "nlp = spacy.load('en_core_web_sm')\n",
        "\n",
        "def lemmatize(tokens):\n",
        "    # Handle None, non-list, or empty inputs\n",
        "    if not tokens or not isinstance(tokens, (list, tuple)) or len(tokens) == 0:\n",
        "        return []\n",
        "    # Join tokens into a string for SpaCy processing\n",
        "    text = \" \".join([t for t in tokens if isinstance(t, str)])\n",
        "    # Process the text with SpaCy NLP pipeline\n",
        "    doc = nlp(text)\n",
        "    # Return all lemmas, without filtering stopwords or punctuation\n",
        "    return [token.lemma_ for token in doc if not token.is_punct]\n",
        "\n",
        "# Register the UDF with PySpark\n",
        "lemmatize_udf = udf(lemmatize, ArrayType(StringType()))\n",
        "\n",
        "# Apply the UDF to create the 'lemmatized' column\n",
        "df_tokenized = df_tokenized.withColumn(\"lemmatized\", lemmatize_udf(df_tokenized[\"words\"]))\n",
        "\n",
        "# # Add word counts for validation\n",
        "# df_tokenized = df_tokenized.withColumn(\"words_count\", size(col(\"words\"))) \\\n",
        "#                            .withColumn(\"lemmatized_count\", size(col(\"lemmatized\")))\n",
        "\n",
        "# Show the results\n",
        "print(\"Sample rows with lemmatization:\")\n",
        "df_tokenized.select(\"reviews\", \"words\", \"lemmatized\").show(10, truncate=False)\n",
        "\n",
        "# Validation checks\n",
        "total_rows = df_tokenized.count()\n",
        "non_null_lemmatized = df_tokenized.filter(col(\"lemmatized\").isNotNull()).count()\n",
        "non_empty_lemmatized = df_tokenized.filter(size(col(\"lemmatized\")) > 0).count()\n",
        "\n",
        "print(f\"Total rows: {total_rows}\")\n",
        "print(f\"Rows with non-null lemmatized column: {non_null_lemmatized}\")\n",
        "print(f\"Rows with non-empty lemmatized lists: {non_empty_lemmatized}\")\n",
        "\n",
        "print(\"Rows with empty lemmatized lists (if any):\")\n",
        "df_tokenized.filter(size(col(\"lemmatized\")) == 0) \\\n",
        "            .select(\"reviewerID\", \"reviews\", \"words\", \"lemmatized\") \\\n",
        "            .show(5, truncate=False)"
      ],
      "metadata": {
        "id": "_S8Ih5bTghnG",
        "colab": {
          "base_uri": "https://localhost:8080/"
        },
        "outputId": "e25e8cdd-babb-4488-afd7-8bbb32ec6939"
      },
      "execution_count": 28,
      "outputs": [
        {
          "output_type": "stream",
          "name": "stdout",
          "text": [
            "Sample rows with lemmatization:\n",
            "+----------------------------------------------------------------------------------------------------------------------------------------------------------------------------------------------------------------------------------------------------------------------------------------------------------------------------------------------------------------------------------------------------------------------------------------------------------------------------------------------------------------------------------------------------------+--------------------------------------------------------------------------------------------------------------------------------------------------------------------------------------------------------------------------------------------------------------------------------------------------------------------------------------------------------------------------------------------------------------------------------------------------------------------------------------------------------------------------------------------------------------------------------------------------------------------------------------------------+---------------------------------------------------------------------------------------------------------------------------------------------------------------------------------------------------------------------------------------------------------------------------------------------------------------------------------------------------------------------------------------------------------------------------------------------------------------------------------------------------------------------------------------------------------------------------------------------------------------------------+\n",
            "|reviews                                                                                                                                                                                                                                                                                                                                                                                                                                                                                                                                                   |words                                                                                                                                                                                                                                                                                                                                                                                                                                                                                                                                                                                                                                             |lemmatized                                                                                                                                                                                                                                                                                                                                                                                                                                                                                                                                                                                                                 |\n",
            "+----------------------------------------------------------------------------------------------------------------------------------------------------------------------------------------------------------------------------------------------------------------------------------------------------------------------------------------------------------------------------------------------------------------------------------------------------------------------------------------------------------------------------------------------------------+--------------------------------------------------------------------------------------------------------------------------------------------------------------------------------------------------------------------------------------------------------------------------------------------------------------------------------------------------------------------------------------------------------------------------------------------------------------------------------------------------------------------------------------------------------------------------------------------------------------------------------------------------+---------------------------------------------------------------------------------------------------------------------------------------------------------------------------------------------------------------------------------------------------------------------------------------------------------------------------------------------------------------------------------------------------------------------------------------------------------------------------------------------------------------------------------------------------------------------------------------------------------------------------+\n",
            "|not much write but exactly supposed filters pop sounds recordings much crisp one lowest prices pop filters amazon might well buy honestly work despite pricinggood                                                                                                                                                                                                                                                                                                                                                                                        |[not, much, write, but, exactly, supposed, filters, pop, sounds, recordings, much, crisp, one, lowest, prices, pop, filters, amazon, might, well, buy, honestly, work, despite, pricinggood]                                                                                                                                                                                                                                                                                                                                                                                                                                                      |[not, much, write, but, exactly, suppose, filter, pop, sound, recording, much, crisp, one, low, price, pop, filter, amazon, might, well, buy, honestly, work, despite, pricinggood]                                                                                                                                                                                                                                                                                                                                                                                                                                        |\n",
            "|product exactly quite affordablei not realized double screened arrived even better expectedas added bonus one screens carries small hint smell old grape candy used buy reminiscents sake cannot stop putting pop filter next nose smelling recording dif needed pop filter will work well expensive ones may even come pleasing aroma like mine didbuy product jake                                                                                                                                                                                      |[product, exactly, quite, affordablei, not, realized, double, screened, arrived, even, better, expectedas, added, bonus, one, screens, carries, small, hint, smell, old, grape, candy, used, buy, reminiscents, sake, cannot, stop, putting, pop, filter, next, nose, smelling, recording, dif, needed, pop, filter, will, work, well, expensive, ones, may, even, come, pleasing, aroma, like, mine, didbuy, product, jake]                                                                                                                                                                                                                      |[product, exactly, quite, affordablei, not, realize, double, screened, arrive, even, well, expecteda, add, bonus, one, screen, carry, small, hint, smell, old, grape, candy, use, buy, reminiscent, sake, can, not, stop, put, pop, filter, next, nose, smell, recording, dif, need, pop, filter, will, work, well, expensive, one, may, even, come, pleasing, aroma, like, mine, didbuy, product, jake]                                                                                                                                                                                                                   |\n",
            "|primary job device block breath would otherwise produce popping sound allowing voice pass no noticeable reduction volume high frequencies double cloth filter blocks pops lets voice no coloration metal clamp mount attaches mike stand secure enough keep attached goose neck needs little coaxing stay put itit job well                                                                                                                                                                                                                               |[primary, job, device, block, breath, would, otherwise, produce, popping, sound, allowing, voice, pass, no, noticeable, reduction, volume, high, frequencies, double, cloth, filter, blocks, pops, lets, voice, no, coloration, metal, clamp, mount, attaches, mike, stand, secure, enough, keep, attached, goose, neck, needs, little, coaxing, stay, put, itit, job, well]                                                                                                                                                                                                                                                                      |[primary, job, device, block, breath, would, otherwise, produce, pop, sound, allow, voice, pass, no, noticeable, reduction, volume, high, frequency, double, cloth, filter, block, pop, lets, voice, no, coloration, metal, clamp, mount, attache, mike, stand, secure, enough, keep, attach, goose, neck, need, little, coax, stay, put, itit, job, well]                                                                                                                                                                                                                                                                 |\n",
            "|nice windscreen protects mxl mic prevents pops thing gooseneck marginally able hold screen position requires careful positioning clamp avoid sagginggood windscreen money                                                                                                                                                                                                                                                                                                                                                                                 |[nice, windscreen, protects, mxl, mic, prevents, pops, thing, gooseneck, marginally, able, hold, screen, position, requires, careful, positioning, clamp, avoid, sagginggood, windscreen, money]                                                                                                                                                                                                                                                                                                                                                                                                                                                  |[nice, windscreen, protect, mxl, mic, prevent, pop, thing, gooseneck, marginally, able, hold, screen, position, require, careful, positioning, clamp, avoid, sagginggood, windscreen, money]                                                                                                                                                                                                                                                                                                                                                                                                                               |\n",
            "|pop filter great looks performs like studio filter if youre recording vocals will eliminate pops gets recorded singno pops record vocals                                                                                                                                                                                                                                                                                                                                                                                                                  |[pop, filter, great, looks, performs, like, studio, filter, if, youre, recording, vocals, will, eliminate, pops, gets, recorded, singno, pops, record, vocals]                                                                                                                                                                                                                                                                                                                                                                                                                                                                                    |[pop, filter, great, look, perform, like, studio, filter, if, you, re, record, vocal, will, eliminate, pop, get, record, singno, pop, record, vocal]                                                                                                                                                                                                                                                                                                                                                                                                                                                                       |\n",
            "|good bought another one love heavy cord gold connectors bass sounds great learned last night coil guess read instructions carefully but no harm done still works greatthe best cable                                                                                                                                                                                                                                                                                                                                                                      |[good, bought, another, one, love, heavy, cord, gold, connectors, bass, sounds, great, learned, last, night, coil, guess, read, instructions, carefully, but, no, harm, done, still, works, greatthe, best, cable]                                                                                                                                                                                                                                                                                                                                                                                                                                |[good, buy, another, one, love, heavy, cord, gold, connectors, bass, sound, great, learn, last, night, coil, guess, read, instruction, carefully, but, no, harm, do, still, work, greatthe, good, cable]                                                                                                                                                                                                                                                                                                                                                                                                                   |\n",
            "|used monster cables years good reason lifetime warranty worth price alone simple fact cables break but getting replace no cost atmonster standard instrument cable                                                                                                                                                                                                                                                                                                                                                                                        |[used, monster, cables, years, good, reason, lifetime, warranty, worth, price, alone, simple, fact, cables, break, but, getting, replace, no, cost, atmonster, standard, instrument, cable]                                                                                                                                                                                                                                                                                                                                                                                                                                                       |[use, monster, cable, year, good, reason, lifetime, warranty, worth, price, alone, simple, fact, cable, break, but, getting, replace, no, cost, atmonster, standard, instrument, cable]                                                                                                                                                                                                                                                                                                                                                                                                                                    |\n",
            "|use cable run output pedal chain input fender amp bought monster cable hook pedal board thought would try another one update guitar using high end planet waves cable bought found input jacks new monster cable didnt fit fender strat jack little disappointed didnt return stated use output pedal board save money went back planet waves cablei payed back eighties planet waves comes around im getting get pay thought waves lot money back daybut havent bought guitar cable since plus years still workingplanet waves winsdidnt fit fender strat|[use, cable, run, output, pedal, chain, input, fender, amp, bought, monster, cable, hook, pedal, board, thought, would, try, another, one, update, guitar, using, high, end, planet, waves, cable, bought, found, input, jacks, new, monster, cable, didnt, fit, fender, strat, jack, little, disappointed, didnt, return, stated, use, output, pedal, board, save, money, went, back, planet, waves, cablei, payed, back, eighties, planet, waves, comes, around, im, getting, get, pay, thought, waves, lot, money, back, daybut, havent, bought, guitar, cable, since, plus, years, still, workingplanet, waves, winsdidnt, fit, fender, strat]|[use, cable, run, output, pedal, chain, input, fender, amp, buy, monster, cable, hook, pedal, board, think, would, try, another, one, update, guitar, use, high, end, planet, wave, cable, buy, find, input, jack, new, monster, cable, do, not, fit, fender, strat, jack, little, disappointed, do, not, return, stated, use, output, pedal, board, save, money, go, back, planet, wave, cablei, pay, back, eighty, planet, wave, come, around, I, m, get, get, pay, thought, wave, lot, money, back, daybut, have, not, buy, guitar, cable, since, plus, year, still, workingplanet, wave, winsdidnt, fit, fender, strat]|\n",
            "|perfect epiphone sheraton ii monster cables well constructed several never problems years got one wanted degree pluggreat cable                                                                                                                                                                                                                                                                                                                                                                                                                           |[perfect, epiphone, sheraton, ii, monster, cables, well, constructed, several, never, problems, years, got, one, wanted, degree, pluggreat, cable]                                                                                                                                                                                                                                                                                                                                                                                                                                                                                                |[perfect, epiphone, sheraton, ii, monster, cable, well, construct, several, never, problem, year, get, one, want, degree, pluggreat, cable]                                                                                                                                                                                                                                                                                                                                                                                                                                                                                |\n",
            "|monster makes best cables lifetime warranty doesnt hurt either isnt top line series but works great bass guitar rig time cant go wrong monster cablesbest instrument cables market                                                                                                                                                                                                                                                                                                                                                                        |[monster, makes, best, cables, lifetime, warranty, doesnt, hurt, either, isnt, top, line, series, but, works, great, bass, guitar, rig, time, cant, go, wrong, monster, cablesbest, instrument, cables, market]                                                                                                                                                                                                                                                                                                                                                                                                                                   |[monster, make, good, cable, lifetime, warranty, do, not, hurt, either, be, not, top, line, series, but, work, great, bass, guitar, rig, time, can, not, go, wrong, monster, cablesbest, instrument, cable, market]                                                                                                                                                                                                                                                                                                                                                                                                        |\n",
            "+----------------------------------------------------------------------------------------------------------------------------------------------------------------------------------------------------------------------------------------------------------------------------------------------------------------------------------------------------------------------------------------------------------------------------------------------------------------------------------------------------------------------------------------------------------+--------------------------------------------------------------------------------------------------------------------------------------------------------------------------------------------------------------------------------------------------------------------------------------------------------------------------------------------------------------------------------------------------------------------------------------------------------------------------------------------------------------------------------------------------------------------------------------------------------------------------------------------------+---------------------------------------------------------------------------------------------------------------------------------------------------------------------------------------------------------------------------------------------------------------------------------------------------------------------------------------------------------------------------------------------------------------------------------------------------------------------------------------------------------------------------------------------------------------------------------------------------------------------------+\n",
            "only showing top 10 rows\n",
            "\n",
            "Total rows: 10261\n",
            "Rows with non-null lemmatized column: 10261\n",
            "Rows with non-empty lemmatized lists: 10261\n",
            "Rows with empty lemmatized lists (if any):\n",
            "+----------+-------+-----+----------+\n",
            "|reviewerID|reviews|words|lemmatized|\n",
            "+----------+-------+-----+----------+\n",
            "+----------+-------+-----+----------+\n",
            "\n"
          ]
        }
      ]
    },
    {
      "cell_type": "code",
      "source": [
        "# 3. Balancing\n",
        "major_class_count = df_tokenized.filter(F.col(\"Sentiment_Indexed\") == 0.0).count()\n",
        "df_class0 = df_tokenized.filter(F.col(\"Sentiment_Indexed\") == 0.0)\n",
        "df_class1 = df_tokenized.filter(F.col(\"Sentiment_Indexed\") == 1.0)\n",
        "df_class2 = df_tokenized.filter(F.col(\"Sentiment_Indexed\") == 2.0)\n",
        "\n",
        "fraction1 = float(major_class_count) / df_class1.count()\n",
        "fraction2 = float(major_class_count) / df_class2.count()\n",
        "\n",
        "df_class1_oversampled = df_class1.sample(withReplacement=True, fraction=fraction1, seed=42)\n",
        "df_class2_oversampled = df_class2.sample(withReplacement=True, fraction=fraction2, seed=42)\n",
        "\n",
        "df_balanced = df_class0.union(df_class1_oversampled).union(df_class2_oversampled)\n",
        "df_balanced = df_balanced.orderBy(F.rand(seed=42))\n",
        "\n",
        "# Verify balancing\n",
        "df_balanced.groupBy(\"Sentiment_Indexed\").count().orderBy(\"Sentiment_Indexed\").show()"
      ],
      "metadata": {
        "id": "2KsW1YZVQptM",
        "colab": {
          "base_uri": "https://localhost:8080/"
        },
        "outputId": "b91b2949-f83f-4595-f9a5-cb7de1703ea6"
      },
      "execution_count": 29,
      "outputs": [
        {
          "output_type": "stream",
          "name": "stdout",
          "text": [
            "+-----------------+-----+\n",
            "|Sentiment_Indexed|count|\n",
            "+-----------------+-----+\n",
            "|              0.0| 9022|\n",
            "|              1.0| 9080|\n",
            "|              2.0| 9067|\n",
            "+-----------------+-----+\n",
            "\n"
          ]
        }
      ]
    },
    {
      "cell_type": "code",
      "source": [
        "# 3. TF-IDF Vectorization\n",
        "from pyspark.ml.feature import HashingTF, IDF\n",
        "from pyspark.sql.functions import col\n",
        "\n",
        "\n",
        "# Step 1: Generate bigrams (ngram_range=(2,2))\n",
        "ngram = NGram(n=2, inputCol=\"lemmatized\", outputCol=\"bigrams\")\n",
        "df_ngram = ngram.transform(df_balanced)\n",
        "\n",
        "# Step 2: Apply HashingTF to create term frequency vectors (max_features=5000)\n",
        "hashing_tf = HashingTF(inputCol=\"bigrams\", outputCol=\"raw_features\", numFeatures=5000)\n",
        "df_tf = hashing_tf.transform(df_ngram)\n",
        "\n",
        "# Configure IDF\n",
        "# idf = IDF(inputCol=\"raw_features\", outputCol=\"tfidf\")\n",
        "# # Apply HashingTF to create term frequency vectors\n",
        "# df_tokenized = hashing_tf.transform(df_tokenized)\n",
        "# Fit and save the model\n",
        "# idf_model = idf.fit(df_tokenized)\n",
        "# SAVE the IDFModel\n",
        "# Step 3: Apply IDF to compute TF-IDF scores\n",
        "idf = IDF(inputCol=\"raw_features\", outputCol=\"tfidf\")\n",
        "idf_model = idf.fit(df_tf)\n",
        "df_tfidf = idf_model.transform(df_tf)\n",
        "# idf_model.save(\"/content/idf_model2\")\n",
        "idf_model.save(\"/content/idf_model4\")\n",
        "print(\"IDF model saved to /content/idf_model3\")\n",
        "# Transform the data\n",
        "# df_tokenized = idf_model.transform(df_tokenized)\n",
        "\n",
        "# # Apply HashingTF to create term frequency vectors\n",
        "# df_tokenized = hashing_tf.transform(df_tokenized)\n",
        "\n",
        "# # Apply IDF to compute TF-IDF scores\n",
        "# df_tokenized = idf.fit(df_tokenized).transform(df_tokenized)\n",
        "\n",
        "# Step 5: Show sample results\n",
        "print(\"Sample rows with TF-IDF:\")\n",
        "df_tfidf.select(\"reviews\", \"lemmatized\", \"bigrams\", \"tfidf\").show(10, truncate=False)"
      ],
      "metadata": {
        "id": "-cva4d5IoChR",
        "colab": {
          "base_uri": "https://localhost:8080/"
        },
        "outputId": "eba19b93-cdf4-4dd1-90f4-e48c8072a2ab"
      },
      "execution_count": 30,
      "outputs": [
        {
          "output_type": "stream",
          "name": "stdout",
          "text": [
            "IDF model saved to /content/idf_model3\n",
            "Sample rows with TF-IDF:\n",
            "+--------------------------------------------------------------------------------------------------------------------------------------------------------------------------------------------------------------------------------------------------------------------------------------------------------------------------------------------------------------------------------------------------------------------------------------------------------------------------------------------------------------+-------------------------------------------------------------------------------------------------------------------------------------------------------------------------------------------------------------------------------------------------------------------------------------------------------------------------------------------------------------------------------------------------------------------------------------------------------------------------------------------------------------------------------------------------------------------------------------+-----------------------------------------------------------------------------------------------------------------------------------------------------------------------------------------------------------------------------------------------------------------------------------------------------------------------------------------------------------------------------------------------------------------------------------------------------------------------------------------------------------------------------------------------------------------------------------------------------------------------------------------------------------------------------------------------------------------------------------------------------------------------------------------------------------------------------------------------------------------------------------------------------------------------------------------------------------------------------------------------------------------------------------------------------------------------------+-----------------------------------------------------------------------------------------------------------------------------------------------------------------------------------------------------------------------------------------------------------------------------------------------------------------------------------------------------------------------------------------------------------------------------------------------------------------------------------------------------------------------------------------------------------------------------------------------------------------------------------------------------------------------------------------------------------------------------------------------------------------------------------------------------------------------------------------------------------------------------------------------------------------------------------------------------------------------------------------------------------------------------------------------------------------------------------------------------------------------------------------------------------------------------------------------------------------------------------------------------------------------------------------------------------------------------------------------------------------------------------------------------------------------------------------------------------------------------------------------------------------------------------------------------------------------------------------------------------------------------------------------------------------------------------------------------------------------------------------------------------------------------------------------------------+\n",
            "|reviews                                                                                                                                                                                                                                                                                                                                                                                                                                                                                                       |lemmatized                                                                                                                                                                                                                                                                                                                                                                                                                                                                                                                                                                           |bigrams                                                                                                                                                                                                                                                                                                                                                                                                                                                                                                                                                                                                                                                                                                                                                                                                                                                                                                                                                                                                                                                                      |tfidf                                                                                                                                                                                                                                                                                                                                                                                                                                                                                                                                                                                                                                                                                                                                                                                                                                                                                                                                                                                                                                                                                                                                                                                                                                                                                                                                                                                                                                                                                                                                                                                                                                                                                                                                                                                                      |\n",
            "+--------------------------------------------------------------------------------------------------------------------------------------------------------------------------------------------------------------------------------------------------------------------------------------------------------------------------------------------------------------------------------------------------------------------------------------------------------------------------------------------------------------+-------------------------------------------------------------------------------------------------------------------------------------------------------------------------------------------------------------------------------------------------------------------------------------------------------------------------------------------------------------------------------------------------------------------------------------------------------------------------------------------------------------------------------------------------------------------------------------+-----------------------------------------------------------------------------------------------------------------------------------------------------------------------------------------------------------------------------------------------------------------------------------------------------------------------------------------------------------------------------------------------------------------------------------------------------------------------------------------------------------------------------------------------------------------------------------------------------------------------------------------------------------------------------------------------------------------------------------------------------------------------------------------------------------------------------------------------------------------------------------------------------------------------------------------------------------------------------------------------------------------------------------------------------------------------------+-----------------------------------------------------------------------------------------------------------------------------------------------------------------------------------------------------------------------------------------------------------------------------------------------------------------------------------------------------------------------------------------------------------------------------------------------------------------------------------------------------------------------------------------------------------------------------------------------------------------------------------------------------------------------------------------------------------------------------------------------------------------------------------------------------------------------------------------------------------------------------------------------------------------------------------------------------------------------------------------------------------------------------------------------------------------------------------------------------------------------------------------------------------------------------------------------------------------------------------------------------------------------------------------------------------------------------------------------------------------------------------------------------------------------------------------------------------------------------------------------------------------------------------------------------------------------------------------------------------------------------------------------------------------------------------------------------------------------------------------------------------------------------------------------------------+\n",
            "|back bought deoxitnot right name but cant remember worked much better cost much less made military spray levels but low still way high work but stuff used much better dont see much else may stick itit wasteful cost good luck but flammable would call averagethere used better stuff                                                                                                                                                                                                                      |[back, buy, deoxitnot, right, name, but, can, not, remember, work, much, well, cost, much, less, make, military, spray, level, but, low, still, way, high, work, but, stuff, use, much, well, do, not, see, much, else, may, stick, itit, wasteful, cost, good, luck, but, flammable, would, call, averagethere, use, well, stuff]                                                                                                                                                                                                                                                   |[back buy, buy deoxitnot, deoxitnot right, right name, name but, but can, can not, not remember, remember work, work much, much well, well cost, cost much, much less, less make, make military, military spray, spray level, level but, but low, low still, still way, way high, high work, work but, but stuff, stuff use, use much, much well, well do, do not, not see, see much, much else, else may, may stick, stick itit, itit wasteful, wasteful cost, cost good, good luck, luck but, but flammable, flammable would, would call, call averagethere, averagethere use, use well, well stuff]                                                                                                                                                                                                                                                                                                                                                                                                                                                                       |(5000,[23,219,357,503,641,709,816,865,954,986,994,1031,1036,1336,1436,1453,1552,1666,1671,2251,2434,2486,2583,2656,2677,2858,2862,2893,3060,3157,3235,3355,3420,3592,3728,3756,3836,3979,4113,4264,4311,4368,4516,4552,4824,4861,4918,4971],[4.704537166488031,4.901601005019189,3.4019337587204674,4.700480365792417,4.238606862629931,4.56796163148228,4.660792617525174,6.604226846876513,4.169613991142979,4.4353171568759855,3.674627431406735,4.725071768929738,4.578656920599028,4.700480365792417,2.2685731315138615,4.225932421733203,4.184002728595079,4.582247588729756,4.243721963296702,4.8485765367109686,4.377986225136876,4.048661380725317,1.1010074993940646,4.392757542457189,4.105075470005408,4.973426739590444,4.708610491875667,4.553876891600541,4.323764670970238,3.794771743248798,4.246289358801947,4.825373639631304,4.9681216873607505,4.454126488833482,4.429125186628064,4.630138876434171,4.323764670970238,4.312714834783653,4.098401362917715,4.793768300215973,5.604698516432302,4.290974848147247,3.7115865529439596,4.793768300215973,4.5967405960323235,4.512775215914989,4.926664973682405,4.668605157261967])                                                                                                                                                                                                                                                                                                                                                                                                                                                                                                                                                                                                                                                      |\n",
            "|capo will job if squeeze open im hoping leaving headstock will lessen spring tension open place guitar cannot one handvery stiff                                                                                                                                                                                                                                                                                                                                                                              |[capo, will, job, if, squeeze, open, I, m, hope, leave, headstock, will, lessen, spring, tension, open, place, guitar, can, not, one, handvery, stiff]                                                                                                                                                                                                                                                                                                                                                                                                                               |[capo will, will job, job if, if squeeze, squeeze open, open I, I m, m hope, hope leave, leave headstock, headstock will, will lessen, lessen spring, spring tension, tension open, open place, place guitar, guitar can, can not, not one, one handvery, handvery stiff]                                                                                                                                                                                                                                                                                                                                                                                                                                                                                                                                                                                                                                                                                                                                                                                                    |(5000,[102,251,307,459,559,655,952,986,1038,1072,1154,1324,1436,1583,2725,2810,3550,3570,3692,4226,4392,4897],[4.931754043189876,4.466865514610911,4.5967405960323235,4.301785764251463,4.241161142435027,4.413810951655021,4.410776047959867,4.4353171568759855,4.931754043189876,4.737598028748919,4.470075790241159,4.312714834783653,2.2685731315138615,4.789333703148108,1.9125743321534767,3.9072497266754884,3.975457976702022,4.476527425522648,4.793768300215973,4.611446743422019,4.68043961490897,4.413810951655021])                                                                                                                                                                                                                                                                                                                                                                                                                                                                                                                                                                                                                                                                                                                                                                                                                                                                                                                                                                                                                                                                                                                                                                                                                                                                           |\n",
            "|bought capo guys correctional facility work gets abused dont look last long would not buy guitaryou get pay                                                                                                                                                                                                                                                                                                                                                                                                   |[buy, capo, guy, correctional, facility, work, get, abuse, do, not, look, last, long, would, not, buy, guitaryou, get, pay]                                                                                                                                                                                                                                                                                                                                                                                                                                                          |[buy capo, capo guy, guy correctional, correctional facility, facility work, work get, get abuse, abuse do, do not, not look, look last, last long, long would, would not, not buy, buy guitaryou, guitaryou get, get pay]                                                                                                                                                                                                                                                                                                                                                                                                                                                                                                                                                                                                                                                                                                                                                                                                                                                   |(5000,[55,83,745,800,1002,1614,1911,2097,2184,2563,2583,2755,3845,3950,4036,4072,4542,4782],[4.009359528377703,3.4299467949481413,4.7674509918986,4.22090728553053,4.246289358801947,4.148411783492376,5.011371671154568,3.7689221617874726,4.479768919446819,4.550386486660773,1.1010074993940646,2.6399410471777416,5.240055402844392,5.0450827284968796,4.656909117498776,3.6320073446993466,3.5302695165760105,4.45729606359476])                                                                                                                                                                                                                                                                                                                                                                                                                                                                                                                                                                                                                                                                                                                                                                                                                                                                                                                                                                                                                                                                                                                                                                                                                                                                                                                                                                      |\n",
            "|got grandkids right felt if uke well worth low price like uke strings take long time set sometimes feels if never will probably would improved set aguilas buy clipon tuner snarf makes great one vibrationsensing mode microphone set various instruments chromatic metronome function inexpensivedecent little uke                                                                                                                                                                                          |[get, grandkid, right, feel, if, uke, well, worth, low, price, like, uke, string, take, long, time, set, sometimes, feel, if, never, will, probably, would, improve, set, aguilas, buy, clipon, tuner, snarf, make, great, one, vibrationsense, mode, microphone, set, various, instrument, chromatic, metronome, function, inexpensivedecent, little, uke]                                                                                                                                                                                                                          |[get grandkid, grandkid right, right feel, feel if, if uke, uke well, well worth, worth low, low price, price like, like uke, uke string, string take, take long, long time, time set, set sometimes, sometimes feel, feel if, if never, never will, will probably, probably would, would improve, improve set, set aguilas, aguilas buy, buy clipon, clipon tuner, tuner snarf, snarf make, make great, great one, one vibrationsense, vibrationsense mode, mode microphone, microphone set, set various, various instrument, instrument chromatic, chromatic metronome, metronome function, function inexpensivedecent, inexpensivedecent little, little uke]                                                                                                                                                                                                                                                                                                                                                                                                              |(5000,[169,329,564,572,649,692,887,1055,1061,1130,1435,1565,1818,2116,2280,2397,2559,2698,2776,2788,2965,2970,2988,3100,3212,3278,3487,3569,3700,3963,3973,4238,4263,4307,4378,4439,4443,4745,4879,4881,4905,4954,4972,4992],[4.793768300215973,4.512775215914989,4.942010543357065,4.489556925812982,4.372138255254454,4.798222650565354,4.0236600785198995,4.811706000902641,3.9464704398287695,5.110002274596195,4.600396907235433,4.754547587062692,4.502758437671518,3.281330884255728,4.293666639812958,4.9471785135155075,4.329335716019693,4.607749881540692,4.6964399562554116,5.179430781027958,5.254041644819132,4.285612905005862,4.450966928543113,9.500566376552468,4.5967405960323235,4.957595274373763,4.413810951655021,4.293666639812958,4.085185311526189,4.700480365792417,4.114044139988168,4.668605157261967,5.473670254025898,3.9618258279119645,3.8748144509223343,5.140964500200162,4.877149909155024,3.927601955524387,4.725071768929738,4.323764670970238,4.246289358801947,4.725071768929738,3.880147796897697,5.422376959638347])                                                                                                                                                                                                                                                                                                                                                                                                                                                                                                                                                                                                                                                                                                                                             |\n",
            "|price hardly complain but unfortunately item not correct size fender strat replacement checked american standard mim strat squier would not fit used one dogs chew bones cut would accurateehhh could better                                                                                                                                                                                                                                                                                                  |[price, hardly, complain, but, unfortunately, item, not, correct, size, fender, strat, replacement, check, american, standard, mim, strat, squier, would, not, fit, use, one, dog, chew, bone, cut, would, accurateehhh, could, well]                                                                                                                                                                                                                                                                                                                                                |[price hardly, hardly complain, complain but, but unfortunately, unfortunately item, item not, not correct, correct size, size fender, fender strat, strat replacement, replacement check, check american, american standard, standard mim, mim strat, strat squier, squier would, would not, not fit, fit use, use one, one dog, dog chew, chew bone, bone cut, cut would, would accurateehhh, accurateehhh could, could well]                                                                                                                                                                                                                                                                                                                                                                                                                                                                                                                                                                                                                                              |(5000,[35,53,79,205,461,485,727,1117,1175,1333,1377,1635,1691,1821,1900,2046,2150,2421,2681,2716,2745,2755,3009,3639,3750,4206,4254,4285,4529,4673],[4.6453482950977,4.125369289345222,4.2010555169777986,4.604066636124396,4.630138876434171,4.750283188276234,4.733405150488883,4.5399877794398735,4.737598028748919,4.392757542457189,4.660792617525174,5.016911851530183,4.516136563617694,4.346237526822296,4.6453482950977,4.466865514610911,4.668605157261967,4.758830248854693,4.473296404941202,4.811706000902641,5.247024072160486,2.6399410471777416,4.293666639812958,4.692415805955686,4.543442014307961,4.441547706626621,3.2783968968209405,4.346237526822296,3.650253464927151,4.56796163148228])                                                                                                                                                                                                                                                                                                                                                                                                                                                                                                                                                                                                                                                                                                                                                                                                                                                                                                                                                                                                                                                                                          |\n",
            "|great unit price offer lot variations echo delay typesit sturdy enough use not stage piece even would nothesitate use way cant say battery life use withan ac adapter sounds great using outputs differentamps drive mine sometimes behringer ab box using one ofthe preamp gain controls behringer tube amp modeleronly downside settings type control echo delay types bithard read without getting close especially dim lightingthis isnt really big deal though often dont put floorbehringer echo machine|[great, unit, price, offer, lot, variation, echo, delay, typesit, sturdy, enough, use, not, stage, piece, even, would, nothesitate, use, way, can, not, say, battery, life, use, withan, ac, adapter, sound, great, use, output, differentamp, drive, mine, sometimes, behringer, ab, box, use, one, ofthe, preamp, gain, control, behringer, tube, amp, modeleronly, downside, setting, type, control, echo, delay, type, bithard, read, without, get, close, especially, dim, lightingthis, be, not, really, big, deal, though, often, do, not, put, floorbehringer, echo, machine]|[great unit, unit price, price offer, offer lot, lot variation, variation echo, echo delay, delay typesit, typesit sturdy, sturdy enough, enough use, use not, not stage, stage piece, piece even, even would, would nothesitate, nothesitate use, use way, way can, can not, not say, say battery, battery life, life use, use withan, withan ac, ac adapter, adapter sound, sound great, great use, use output, output differentamp, differentamp drive, drive mine, mine sometimes, sometimes behringer, behringer ab, ab box, box use, use one, one ofthe, ofthe preamp, preamp gain, gain control, control behringer, behringer tube, tube amp, amp modeleronly, modeleronly downside, downside setting, setting type, type control, control echo, echo delay, delay type, type bithard, bithard read, read without, without get, get close, close especially, especially dim, dim lightingthis, lightingthis be, be not, not really, really big, big deal, deal though, though often, often do, do not, not put, put floorbehringer, floorbehringer echo, echo machine]|(5000,[65,159,428,484,530,548,557,643,652,738,744,838,887,1001,1084,1195,1283,1412,1422,1423,1431,1436,1584,1592,1806,1839,1871,1949,1950,1963,2305,2315,2449,2562,2573,2583,2595,2646,2656,2807,2946,3016,3043,3110,3114,3177,3249,3353,3403,3409,3532,3640,3642,3651,3927,3952,4022,4043,4134,4231,4243,4338,4377,4436,4512,4529,4547,4554,4574,4642,4675,4707,4718,4877,4938],[9.669180589472457,4.575079099251144,4.712700477127192,3.9932626013355286,4.725071768929738,4.5894678367032435,4.091771504379046,3.8162779484697618,4.585851196233055,4.205981635313854,4.676479213692874,4.307235369019027,4.0236600785198995,4.604066636124396,4.109549750400329,4.807191320548114,4.040257969928938,4.585851196233055,4.676479213692874,3.905419899998412,4.615157322818554,2.2685731315138615,4.5967405960323235,3.899950424193877,4.444677599635549,4.546908222284447,4.704537166488031,3.6936756263774293,4.186421109459361,3.3887612301639285,4.441547706626621,4.607749881540692,5.365681615961802,4.340571789286619,4.264448093813818,1.1010074993940646,4.280279559030499,5.0450827284968796,4.392757542457189,4.017506212945522,4.2284544911659125,4.441547706626621,4.320990744087513,4.6226200440201435,4.277623514972382,5.464936574057144,3.182554188380617,5.185988181574117,4.550386486660773,4.5894678367032435,3.9182995628620736,4.926664973682405,4.290974848147247,4.502758437671518,4.720930976263707,4.867534450455582,4.6964399562554116,5.1222723671880095,4.6964399562554116,4.604066636124396,4.839230674292731,2.343913288486892,4.676479213692874,8.966041909666393,4.750283188276234,3.650253464927151,4.630138876434171,4.802696930960274,5.011371671154568,4.5894678367032435,4.600396907235433,4.560894464259188,4.660792617525174,4.942010543357065,4.936869143856646])|\n",
            "|ive happy joyo pedals ive gotten but really love one use crate amp tube preamp clean channel strat sounds greati really like pedal                                                                                                                                                                                                                                                                                                                                                                            |[I, ve, happy, joyo, pedal, I, ve, get, but, really, love, one, use, crate, amp, tube, preamp, clean, channel, strat, sound, greati, really, like, pedal]                                                                                                                                                                                                                                                                                                                                                                                                                            |[I ve, ve happy, happy joyo, joyo pedal, pedal I, I ve, ve get, get but, but really, really love, love one, one use, use crate, crate amp, amp tube, tube preamp, preamp clean, clean channel, channel strat, strat sound, sound greati, greati really, really like, like pedal]                                                                                                                                                                                                                                                                                                                                                                                                                                                                                                                                                                                                                                                                                                                                                                                             |(5000,[7,154,227,530,661,937,947,996,1063,1228,1267,1337,1552,2435,2660,2719,3035,3686,4158,4445,4882,4970,4972],[5.07996998749732,3.7593982802762174,4.704537166488031,4.725071768929738,4.131540478163739,4.246289358801947,4.432216379197737,4.633919599274077,4.660792617525174,4.926664973682405,4.952373330392612,4.853282427748381,4.184002728595079,4.02571981148291,4.578656920599028,4.0360825985184565,3.7328963395307104,4.896662723378606,4.304506854365823,4.901601005019189,4.46366551188024,4.546908222284447,3.880147796897697])                                                                                                                                                                                                                                                                                                                                                                                                                                                                                                                                                                                                                                                                                                                                                                                                                                                                                                                                                                                                                                                                                                                                                                                                                                                          |\n",
            "|if like love playing music good buy pretty much supposed plug ready use pretty fast accurate price light weightthe thing takes little longer tune stringoverall good enough buy itits ok                                                                                                                                                                                                                                                                                                                      |[if, like, love, play, music, good, buy, pretty, much, suppose, plug, ready, use, pretty, fast, accurate, price, light, weightthe, thing, take, little, long, tune, stringoverall, good, enough, buy, itit, ok]                                                                                                                                                                                                                                                                                                                                                                      |[if like, like love, love play, play music, music good, good buy, buy pretty, pretty much, much suppose, suppose plug, plug ready, ready use, use pretty, pretty fast, fast accurate, accurate price, price light, light weightthe, weightthe thing, thing take, take little, little long, long tune, tune stringoverall, stringoverall good, good enough, enough buy, buy itit, itit ok]                                                                                                                                                                                                                                                                                                                                                                                                                                                                                                                                                                                                                                                                                    |(5000,[109,508,512,793,975,1031,1045,1229,1313,1783,1852,1882,2042,2204,2739,2845,2892,2962,3238,3284,3431,3539,3789,4008,4234,4258,4381,4565,4591],[4.0743038113386545,4.238606862629931,4.660792617525174,4.3182244905946225,4.839230674292731,4.725071768929738,3.896320656143298,4.637714670242629,4.536545435248901,3.850294833748016,4.2488633627971195,4.410776047959867,4.450966928543113,4.802696930960274,4.107310107806825,4.637714670242629,4.174387269895637,4.309971348837902,4.360543922473534,4.422971321053685,5.219436115641657,4.422971321053685,4.733405150488883,4.557379522151743,4.479768919446819,4.5967405960323235,4.725071768929738,5.282615017263189,4.492841001014172])                                                                                                                                                                                                                                                                                                                                                                                                                                                                                                                                                                                                                                                                                                                                                                                                                                                                                                                                                                                                                                                                                                       |\n",
            "|simple product others stated could probably diy one pretty easilybut price bother thing good ones range dont think material time going take make one minsan hour if go buy materials going worthwhile versus ordering bad boy online andvoila arrives two days later no fuss no muss assuming prime well doesnt days plus will look good camerafor price dont see will find something better                                                                                                                  |[simple, product, other, state, could, probably, diy, one, pretty, easilybut, price, bother, the, good, one, range, do, not, think, material, time, go, take, make, one, minsan, hour, if, go, buy, material, go, worthwhile, versus, order, bad, boy, online, andvoila, arrive, two, day, later, no, fuss, no, muss, assume, prime, well, do, not, day, plus, will, look, good, camerafor, price, do, not, see, will, find, something, well]                                                                                                                                        |[simple product, product other, other state, state could, could probably, probably diy, diy one, one pretty, pretty easilybut, easilybut price, price bother, bother the, the good, good one, one range, range do, do not, not think, think material, material time, time go, go take, take make, make one, one minsan, minsan hour, hour if, if go, go buy, buy material, material go, go worthwhile, worthwhile versus, versus order, order bad, bad boy, boy online, online andvoila, andvoila arrive, arrive two, two day, day later, later no, no fuss, fuss no, no muss, muss assume, assume prime, prime well, well do, do not, not day, day plus, plus will, will look, look good, good camerafor, camerafor price, price do, do not, not see, see will, will find, find something, something well]                                                                                                                                                                                                                                                                  |(5000,[76,148,176,219,357,404,474,640,725,728,744,887,1102,1153,1208,1409,1432,1492,1639,1815,1830,1834,1998,2014,2063,2252,2256,2267,2301,2324,2457,2583,2605,2710,2976,2987,3000,3084,3116,3157,3280,3301,3399,3418,3627,3638,3918,3961,3973,4091,4354,4377,4402,4426,4438,4525,4546,4759,4806,4856,4919,4943,4990],[4.716807259079845,4.218404155312411,4.369227045046995,4.901601005019189,3.4019337587204674,5.473670254025898,4.7674509918986,5.0450827284968796,4.793768300215973,3.204079683166891,4.676479213692874,4.0236600785198995,4.516136563617694,5.056577107922615,4.6453482950977,4.343400645487097,4.312714834783653,4.896662723378606,4.395738170595327,4.337750912944977,4.118558820342695,4.604066636124396,4.585851196233055,4.422971321053685,3.612723000533742,4.2488633627971195,4.404733733503905,4.676479213692874,4.492841001014172,4.793768300215973,4.4353171568759855,3.3030224981821936,4.288290282776578,4.816241156068032,4.656909117498776,4.962844630259907,4.343400645487097,4.2010555169777986,4.989512877342069,3.794771743248798,4.720930976263707,4.557379522151743,4.6226200440201435,4.881992533630813,4.454126488833482,4.637714670242629,4.301785764251463,4.891748708576177,4.114044139988168,4.896662723378606,4.6226200440201435,4.676479213692874,4.771789393497198,3.1231307679098164,4.653040640720856,3.9952606039982017,3.8855097400390823,3.5365707346527393,4.7460368973947835,4.585851196233055,4.820796972603892,5.0450827284968796,4.372138255254454])                                                                                                                                                                                                                                                                                          |\n",
            "|finally feedback free use taylor kk pure pickup systemi play mostly church worship team usually right front monitorthis blocks tones entering guitar via soundholei dont get huge loss tone but little biti will take worry moving around getting feedback like crazyhighly recommendbuzz free                                                                                                                                                                                                                |[finally, feedback, free, use, taylor, kk, pure, pickup, systemi, play, mostly, church, worship, team, usually, right, front, monitorthis, block, tone, enter, guitar, via, soundholei, do, not, get, huge, loss, tone, but, little, biti, will, take, worry, move, around, get, feedback, like, crazyhighly, recommendbuzz, free]                                                                                                                                                                                                                                                   |[finally feedback, feedback free, free use, use taylor, taylor kk, kk pure, pure pickup, pickup systemi, systemi play, play mostly, mostly church, church worship, worship team, team usually, usually right, right front, front monitorthis, monitorthis block, block tone, tone enter, enter guitar, guitar via, via soundholei, soundholei do, do not, not get, get huge, huge loss, loss tone, tone but, but little, little biti, biti will, will take, take worry, worry move, move around, around get, get feedback, feedback like, like crazyhighly, crazyhighly recommendbuzz, recommendbuzz free]                                                                                                                                                                                                                                                                                                                                                                                                                                                                   |(5000,[47,108,164,346,394,512,626,698,735,807,1131,1195,1254,1303,1428,1469,1578,1710,1718,1727,1755,1835,1939,2146,2322,2552,2583,3032,3254,3484,3605,3749,4063,4089,4090,4178,4181,4194,4335,4360,4687,4764,4967],[3.909082907757149,4.492841001014172,4.134522671331709,4.600396907235433,4.630138876434171,4.660792617525174,4.615157322818554,4.483020954833196,4.973426739590444,4.210932140473711,4.789333703148108,4.807191320548114,4.533114900152111,4.401726212439949,4.704537166488031,4.210932140473711,4.633919599274077,3.940772418714132,4.7460368973947835,4.516136563617694,4.502758437671518,4.346237526822296,4.213416613801372,5.405847657687137,4.7674509918986,4.383868595039943,1.1010074993940646,5.192588865605469,4.6453482950977,5.0450827284968796,3.288210518269265,4.637714670242629,4.3809230848101866,4.896662723378606,4.3265463139321145,4.896662723378606,4.536545435248901,4.789333703148108,2.863858492507101,4.167235868738012,4.6453482950977,4.896662723378606,4.6491870714048655])                                                                                                                                                                                                                                                                                                                                                                                                                                                                                                                                                                                                                                                                                                                                                                               |\n",
            "+--------------------------------------------------------------------------------------------------------------------------------------------------------------------------------------------------------------------------------------------------------------------------------------------------------------------------------------------------------------------------------------------------------------------------------------------------------------------------------------------------------------+-------------------------------------------------------------------------------------------------------------------------------------------------------------------------------------------------------------------------------------------------------------------------------------------------------------------------------------------------------------------------------------------------------------------------------------------------------------------------------------------------------------------------------------------------------------------------------------+-----------------------------------------------------------------------------------------------------------------------------------------------------------------------------------------------------------------------------------------------------------------------------------------------------------------------------------------------------------------------------------------------------------------------------------------------------------------------------------------------------------------------------------------------------------------------------------------------------------------------------------------------------------------------------------------------------------------------------------------------------------------------------------------------------------------------------------------------------------------------------------------------------------------------------------------------------------------------------------------------------------------------------------------------------------------------------+-----------------------------------------------------------------------------------------------------------------------------------------------------------------------------------------------------------------------------------------------------------------------------------------------------------------------------------------------------------------------------------------------------------------------------------------------------------------------------------------------------------------------------------------------------------------------------------------------------------------------------------------------------------------------------------------------------------------------------------------------------------------------------------------------------------------------------------------------------------------------------------------------------------------------------------------------------------------------------------------------------------------------------------------------------------------------------------------------------------------------------------------------------------------------------------------------------------------------------------------------------------------------------------------------------------------------------------------------------------------------------------------------------------------------------------------------------------------------------------------------------------------------------------------------------------------------------------------------------------------------------------------------------------------------------------------------------------------------------------------------------------------------------------------------------------+\n",
            "only showing top 10 rows\n",
            "\n"
          ]
        }
      ]
    },
    {
      "cell_type": "code",
      "source": [
        "columns_to_drop = [\n",
        "    \"asin\",\n",
        "    \"reviewerID\",\n",
        "    \"reviews\",\n",
        "    \"Sentiment\",\n",
        "    \"overall\",\n",
        "    \"words\",\n",
        "    \"lemmatized\",\n",
        "    \"words_count\",\n",
        "    \"lemmatized_count\",\n",
        "    \"helpful\",\n",
        "    \"year\",\n",
        "    \"month\",\n",
        "    \"day\",\n",
        "    \"polarity\",\n",
        "    \"review_len\",\n",
        "    \"word_count\",\n",
        "    \"bigrams\",\n",
        "    \"raw_features\",\n",
        "    \"reviewTime\"\n",
        "\n",
        "\n",
        "]\n",
        "\n",
        "df_cleaned = df_tfidf.drop(*columns_to_drop)"
      ],
      "metadata": {
        "id": "RZLVa3x7q8Xx"
      },
      "execution_count": 31,
      "outputs": []
    },
    {
      "cell_type": "code",
      "source": [
        "df_cleaned.printSchema()"
      ],
      "metadata": {
        "id": "i6nKeP1ErefK",
        "colab": {
          "base_uri": "https://localhost:8080/"
        },
        "outputId": "c99c3fbc-b129-4a48-ef8f-b57873540bbf"
      },
      "execution_count": 32,
      "outputs": [
        {
          "output_type": "stream",
          "name": "stdout",
          "text": [
            "root\n",
            " |-- Sentiment_Indexed: double (nullable = false)\n",
            " |-- tfidf: vector (nullable = true)\n",
            "\n"
          ]
        }
      ]
    },
    {
      "cell_type": "code",
      "source": [
        "# Group by the target column and count\n",
        "df_balanced.groupBy(\"Sentiment_Indexed\").count().orderBy(\"Sentiment_Indexed\").show()\n"
      ],
      "metadata": {
        "id": "HoX8lgj7r98N",
        "colab": {
          "base_uri": "https://localhost:8080/"
        },
        "outputId": "56cd4ea6-6824-424d-9ffb-a75a8a280d36"
      },
      "execution_count": 33,
      "outputs": [
        {
          "output_type": "stream",
          "name": "stdout",
          "text": [
            "+-----------------+-----+\n",
            "|Sentiment_Indexed|count|\n",
            "+-----------------+-----+\n",
            "|              0.0| 9022|\n",
            "|              1.0| 9080|\n",
            "|              2.0| 9067|\n",
            "+-----------------+-----+\n",
            "\n"
          ]
        }
      ]
    },
    {
      "cell_type": "code",
      "source": [
        "# from pyspark.sql import functions as F\n",
        "\n",
        "# # Calculate the number of samples in the majority class (class 0)\n",
        "# major_class_count = df_cleaned.filter(F.col(\"Sentiment_Indexed\") == 0.0).count()\n",
        "\n",
        "# # Get the dataframes for each class\n",
        "# df_class0 = df_cleaned.filter(F.col(\"Sentiment_Indexed\") == 0.0)\n",
        "# df_class1 = df_cleaned.filter(F.col(\"Sentiment_Indexed\") == 1.0)\n",
        "# df_class2 = df_cleaned.filter(F.col(\"Sentiment_Indexed\") == 2.0)\n",
        "\n",
        "# # Calculate the oversampling fraction for minority classes\n",
        "# fraction1 = float(major_class_count) / df_class1.count()\n",
        "# fraction2 = float(major_class_count) / df_class2.count()\n",
        "\n",
        "# # Oversample the minority classes\n",
        "# df_class1_oversampled = df_class1.sample(withReplacement=True, fraction=fraction1, seed=42)\n",
        "# df_class2_oversampled = df_class2.sample(withReplacement=True, fraction=fraction2, seed=42)\n",
        "\n",
        "# # Combine the oversampled dataframes with the majority class\n",
        "# df_balanced = df_class0.union(df_class1_oversampled).union(df_class2_oversampled)\n",
        "\n",
        "# # Check the balance of the new dataframe\n",
        "# df_balanced.groupBy(\"Sentiment_Indexed\").count().orderBy(\"Sentiment_Indexed\").show()\n",
        "\n",
        "# # If you need to shuffle the dataset (recommended)\n",
        "# df_balanced = df_balanced.orderBy(F.rand(seed=42))"
      ],
      "metadata": {
        "id": "2Wf1r9Mwtpm_",
        "colab": {
          "base_uri": "https://localhost:8080/"
        },
        "outputId": "8f05f0fd-b3b9-48ef-d52a-91e2b8799606"
      },
      "execution_count": null,
      "outputs": [
        {
          "output_type": "stream",
          "name": "stdout",
          "text": [
            "+-----------------+-----+\n",
            "|Sentiment_Indexed|count|\n",
            "+-----------------+-----+\n",
            "|              0.0| 9022|\n",
            "|              1.0| 9080|\n",
            "|              2.0| 9067|\n",
            "+-----------------+-----+\n",
            "\n"
          ]
        }
      ]
    },
    {
      "cell_type": "code",
      "source": [
        "\n",
        "# Split the data (80% train, 10% validation, 10% test)\n",
        "train_data, val_data, test_data = df_cleaned.randomSplit([0.8, 0.1, 0.1], seed=42)\n",
        "\n",
        "# Cache the dataframes for better performance\n",
        "train_data.cache()\n",
        "val_data.cache()\n",
        "test_data.cache()\n",
        "train_data.groupBy(\"Sentiment_Indexed\").count().orderBy(\"Sentiment_Indexed\").show()"
      ],
      "metadata": {
        "id": "fc_yo4beumHH",
        "colab": {
          "base_uri": "https://localhost:8080/"
        },
        "outputId": "fe432f88-be6f-45e5-e39f-1f6b5af0eda9"
      },
      "execution_count": 34,
      "outputs": [
        {
          "output_type": "stream",
          "name": "stdout",
          "text": [
            "+-----------------+-----+\n",
            "|Sentiment_Indexed|count|\n",
            "+-----------------+-----+\n",
            "|              0.0| 7199|\n",
            "|              1.0| 7236|\n",
            "|              2.0| 7209|\n",
            "+-----------------+-----+\n",
            "\n"
          ]
        }
      ]
    },
    {
      "cell_type": "code",
      "source": [
        "train_data.groupBy(\"Sentiment_Indexed\").count().orderBy(\"Sentiment_Indexed\").show()"
      ],
      "metadata": {
        "id": "NSzX95_M9Zq4",
        "colab": {
          "base_uri": "https://localhost:8080/"
        },
        "outputId": "c8cbb460-c3b3-479b-d35f-08682dfc59c9"
      },
      "execution_count": 35,
      "outputs": [
        {
          "output_type": "stream",
          "name": "stdout",
          "text": [
            "+-----------------+-----+\n",
            "|Sentiment_Indexed|count|\n",
            "+-----------------+-----+\n",
            "|              0.0| 7199|\n",
            "|              1.0| 7236|\n",
            "|              2.0| 7209|\n",
            "+-----------------+-----+\n",
            "\n"
          ]
        }
      ]
    },
    {
      "cell_type": "code",
      "source": [
        "# # 3. Balancing\n",
        "# major_class_count = train_data.filter(F.col(\"Sentiment_Indexed\") == 0.0).count()\n",
        "# df_class0 = train_data.filter(F.col(\"Sentiment_Indexed\") == 0.0)\n",
        "# df_class1 = train_data.filter(F.col(\"Sentiment_Indexed\") == 1.0)\n",
        "# df_class2 = train_data.filter(F.col(\"Sentiment_Indexed\") == 2.0)\n",
        "\n",
        "# fraction1 = float(major_class_count) / df_class1.count()\n",
        "# fraction2 = float(major_class_count) / df_class2.count()\n",
        "\n",
        "# df_class1_oversampled = df_class1.sample(withReplacement=True, fraction=fraction1, seed=42)\n",
        "# df_class2_oversampled = df_class2.sample(withReplacement=True, fraction=fraction2, seed=42)\n",
        "\n",
        "# df_balanced = df_class0.union(df_class1_oversampled).union(df_class2_oversampled)\n",
        "# df_balanced = df_balanced.orderBy(F.rand(seed=42))\n",
        "\n",
        "# # Verify balancing\n",
        "# df_balanced.groupBy(\"Sentiment_Indexed\").count().orderBy(\"Sentiment_Indexed\").show()"
      ],
      "metadata": {
        "colab": {
          "base_uri": "https://localhost:8080/"
        },
        "id": "p8LKvFye2z6E",
        "outputId": "e3536ed2-db69-4ab3-8c8a-f23fee742733"
      },
      "execution_count": null,
      "outputs": [
        {
          "output_type": "stream",
          "name": "stdout",
          "text": [
            "+-----------------+-----+\n",
            "|Sentiment_Indexed|count|\n",
            "+-----------------+-----+\n",
            "|              0.0| 7282|\n",
            "|              1.0| 7317|\n",
            "|              2.0| 7297|\n",
            "+-----------------+-----+\n",
            "\n"
          ]
        }
      ]
    },
    {
      "cell_type": "code",
      "source": [
        "\n",
        "# # Check dataset sizes\n",
        "# print(\"Train data count:\", train_data.count())\n",
        "# print(\"Validation data count:\", val_data.count())\n"
      ],
      "metadata": {
        "id": "u0ZsxC4A5dkx"
      },
      "execution_count": null,
      "outputs": []
    },
    {
      "cell_type": "code",
      "source": [
        "# from pyspark.sql import functions as F\n",
        "# import os\n",
        "# import glob\n",
        "# from google.colab import files\n",
        "\n",
        "# # Combine the DataFrames\n",
        "# combined_data = train_data.union(val_data)\n",
        "\n",
        "# # Save to a single JSON file\n",
        "# combined_data.coalesce(1).write.json(\"/content/combined_data1.json\")\n",
        "# print(\"JSON file written to /content/combined_data.json\")\n",
        "\n",
        "# # Rename the generated JSON file\n",
        "# json_files = glob.glob(\"/content/combined_data.json/part-*.json\")\n",
        "# if json_files:\n",
        "#     os.rename(json_files[0], \"/content/combined_data.json\")\n",
        "#     print(\"JSON file prepared as /content/combined_data.json\")\n",
        "#     # Download the file\n",
        "#     files.download(\"/content/combined_data.json\")\n",
        "# else:\n",
        "#     print(\"Error: JSON file not found\")"
      ],
      "metadata": {
        "id": "ua7f0WDY3AnU"
      },
      "execution_count": null,
      "outputs": []
    },
    {
      "cell_type": "code",
      "source": [
        "from pyspark.ml.classification import LogisticRegression, DecisionTreeClassifier, RandomForestClassifier, NaiveBayes, LinearSVC, GBTClassifier\n",
        "from pyspark.ml.feature import VectorAssembler, StandardScaler\n",
        "from pyspark.ml.evaluation import MulticlassClassificationEvaluator\n",
        "from pyspark.ml import Pipeline\n",
        "from pyspark.sql import functions as F\n",
        "import time\n",
        "import pandas as pd\n",
        "from pyspark.ml.feature import BucketedRandomProjectionLSH\n",
        "from pyspark.sql.window import Window\n",
        "import matplotlib.pyplot as plt\n",
        "import numpy as np\n",
        "\n",
        "\n",
        "\n",
        "\n",
        "# Create KNN approximation using LSH on 'tfidf' features\n",
        "def knn_predict(train_data, val_data, k=5):\n",
        "    \"\"\"\n",
        "    Approximate KNN in PySpark using Locality Sensitive Hashing on TF-IDF features\n",
        "    \"\"\"\n",
        "    brp = BucketedRandomProjectionLSH(\n",
        "        inputCol=\"tfidf\",\n",
        "        outputCol=\"hashes\",\n",
        "        numHashTables=5,\n",
        "        bucketLength=2.0\n",
        "    )\n",
        "    brp_model = brp.fit(train_data)\n",
        "\n",
        "    train_hashed = brp_model.transform(train_data)\n",
        "    val_hashed = brp_model.transform(val_data)\n",
        "\n",
        "    val_with_neighbors = brp_model.approxSimilarityJoin(\n",
        "        val_hashed,\n",
        "        train_hashed,\n",
        "        threshold=100.0,\n",
        "        distCol=\"distance\"\n",
        "    )\n",
        "\n",
        "    window = Window.partitionBy(\"datasetA.id\").orderBy(\"distance\")\n",
        "    val_with_knn = val_with_neighbors.withColumn(\"rank\", F.row_number().over(window))\n",
        "    val_with_knn = val_with_knn.filter(F.col(\"rank\") <= k)\n",
        "\n",
        "    val_predictions = val_with_knn.groupBy(\"datasetA.id\") \\\n",
        "        .agg(\n",
        "            F.first(\"datasetA.tfidf\").alias(\"features\"),\n",
        "            F.collect_list(\"datasetB.Sentiment_Indexed\").alias(\"neighbor_labels\")\n",
        "        )\n",
        "\n",
        "    val_predictions = val_predictions.withColumn(\n",
        "        \"prediction\",\n",
        "        F.expr(\"double(array_sort(neighbor_labels)[int(size(neighbor_labels)/2)])\")\n",
        "    )\n",
        "\n",
        "    return val_predictions\n",
        "\n",
        "# Evaluation function\n",
        "def get_metrics(predictions):\n",
        "    metrics = {}\n",
        "    for metric in [\"f1\", \"weightedPrecision\", \"weightedRecall\", \"accuracy\"]:\n",
        "        evaluator = MulticlassClassificationEvaluator(\n",
        "            labelCol=\"Sentiment_Indexed\",\n",
        "            predictionCol=\"prediction\",\n",
        "            metricName=metric\n",
        "        )\n",
        "        metrics[metric] = evaluator.evaluate(predictions)\n",
        "    return metrics\n",
        "\n",
        "# Models using 'tfidf' as features\n",
        "models = {\n",
        "    \"Logistic Regression\": LogisticRegression(\n",
        "        labelCol=\"Sentiment_Indexed\",\n",
        "        featuresCol=\"tfidf\",\n",
        "        maxIter=100,\n",
        "        regParam=0.1\n",
        "    ),\n",
        "    \"Decision Tree\": DecisionTreeClassifier(\n",
        "        labelCol=\"Sentiment_Indexed\",\n",
        "        featuresCol=\"tfidf\",\n",
        "        maxDepth=5\n",
        "    ),\n",
        "    \"Random Forest\": RandomForestClassifier(\n",
        "        labelCol=\"Sentiment_Indexed\",\n",
        "        featuresCol=\"tfidf\",\n",
        "        numTrees=50,\n",
        "        maxDepth=5\n",
        "    ),\n",
        "    \"Naive Bayes\": NaiveBayes(\n",
        "        labelCol=\"Sentiment_Indexed\",\n",
        "        featuresCol=\"tfidf\",\n",
        "        modelType=\"multinomial\"\n",
        "    )\n",
        "    # \"Linear SVC\": LinearSVC(\n",
        "    #     labelCol=\"Sentiment_Indexed\",\n",
        "    #     featuresCol=\"tfidf\",\n",
        "    #     maxIter=100,\n",
        "    #     regParam=0.1\n",
        "    # ),\n",
        "    # \"Gradient Boosted Trees\": GBTClassifier(\n",
        "    #     labelCol=\"Sentiment_Indexed\",\n",
        "    #     featuresCol=\"tfidf\",\n",
        "    #     maxIter=10,\n",
        "    #     maxDepth=5\n",
        "    # )\n",
        "}\n",
        "\n",
        "# Training and evaluating models\n",
        "def train_evaluate(model_name, model):\n",
        "    start_time = time.time()\n",
        "    try:\n",
        "        if model_name == \"KNN (Approximate)\":\n",
        "            predictions = knn_predict(train_data, val_data, k=5)\n",
        "        else:\n",
        "            print(f\"Training {model_name}...\")\n",
        "            model_fitted = model.fit(train_data)\n",
        "            predictions = model_fitted.transform(val_data)\n",
        "\n",
        "        metrics = get_metrics(predictions)\n",
        "        training_time = time.time() - start_time\n",
        "\n",
        "        return {\n",
        "            \"Model\": model_name,\n",
        "            \"F1 Score\": metrics[\"f1\"],\n",
        "            \"Precision\": metrics[\"weightedPrecision\"],\n",
        "            \"Recall\": metrics[\"weightedRecall\"],\n",
        "            \"Accuracy\": metrics[\"accuracy\"],\n",
        "            \"Training Time (s)\": training_time\n",
        "        }\n",
        "    except Exception as e:\n",
        "        print(f\"Error with {model_name}: {str(e)}\")\n",
        "        return {\n",
        "            \"Model\": model_name,\n",
        "            \"F1 Score\": 0,\n",
        "            \"Precision\": 0,\n",
        "            \"Recall\": 0,\n",
        "            \"Accuracy\": 0,\n",
        "            \"Training Time (s)\": 0,\n",
        "            \"Error\": str(e)\n",
        "        }\n",
        "\n",
        "# Run everything\n",
        "results = []\n",
        "for model_name, model in models.items():\n",
        "    result = train_evaluate(model_name, model)\n",
        "    results.append(result)\n",
        "    print(f\"Completed {model_name}\")\n",
        "\n",
        "# Try KNN\n",
        "try:\n",
        "    print(\"Training KNN (Approximate)...\")\n",
        "    result = train_evaluate(\"KNN (Approximate)\", None)\n",
        "    results.append(result)\n",
        "    print(\"Completed KNN (Approximate)\")\n",
        "except Exception as e:\n",
        "    print(f\"Error with KNN (Approximate): {str(e)}\")\n",
        "\n",
        "# Make a results dataframe\n",
        "results_df = pd.DataFrame(results).sort_values(\"F1 Score\", ascending=False)\n",
        "\n",
        "# Show final results\n",
        "print(\"\\nModel Comparison:\")\n",
        "print(results_df)\n",
        "\n",
        "best_model = results_df.iloc[0]\n",
        "print(f\"\\nBest model: {best_model['Model']} with F1 Score: {best_model['F1 Score']:.4f}\")\n",
        "\n",
        "# Plot F1 score bar chart\n",
        "plt.figure(figsize=(12, 6))\n",
        "plt.bar(results_df[\"Model\"], results_df[\"F1 Score\"])\n",
        "plt.title(\"Model Comparison - F1 Scores\")\n",
        "plt.xlabel(\"Model\")\n",
        "plt.ylabel(\"F1 Score\")\n",
        "plt.xticks(rotation=45, ha=\"right\")\n",
        "plt.tight_layout()\n",
        "plt.savefig(\"model_comparison_f1.png\")\n",
        "\n",
        "# Radar plot\n",
        "metrics = [\"F1 Score\", \"Precision\", \"Recall\", \"Accuracy\"]\n",
        "angles = np.linspace(0, 2 * np.pi, len(metrics), endpoint=False).tolist()\n",
        "angles += angles[:1]\n",
        "\n",
        "fig, ax = plt.subplots(figsize=(10, 10), subplot_kw=dict(polar=True))\n",
        "\n",
        "for i, model in results_df.iterrows():\n",
        "    values = [model[metric] for metric in metrics]\n",
        "    values += values[:1]\n",
        "    ax.plot(angles, values, linewidth=1, label=model[\"Model\"])\n",
        "    ax.fill(angles, values, alpha=0.1)\n",
        "\n",
        "ax.set_theta_offset(np.pi / 2)\n",
        "ax.set_theta_direction(-1)\n",
        "ax.set_thetagrids(np.degrees(angles[:-1]), metrics)\n",
        "ax.set_ylim(0, 1)\n",
        "plt.legend(loc=\"upper right\", bbox_to_anchor=(0.1, 0.1))\n",
        "plt.title(\"Model Performance Comparison\")\n",
        "plt.tight_layout()\n",
        "plt.savefig(\"model_comparison_radar.png\")\n"
      ],
      "metadata": {
        "id": "9xGkcVQS6udv",
        "colab": {
          "base_uri": "https://localhost:8080/",
          "height": 1000
        },
        "outputId": "5be25077-fb6b-40a7-c518-ea00db1fd25b"
      },
      "execution_count": 38,
      "outputs": [
        {
          "output_type": "stream",
          "name": "stdout",
          "text": [
            "Training Logistic Regression...\n",
            "Completed Logistic Regression\n",
            "Training Decision Tree...\n",
            "Completed Decision Tree\n",
            "Training Random Forest...\n",
            "Completed Random Forest\n",
            "Training Naive Bayes...\n",
            "Completed Naive Bayes\n",
            "Training KNN (Approximate)...\n",
            "Error with KNN (Approximate): [FIELD_NOT_FOUND] No such struct field `id` in `Sentiment_Indexed`, `tfidf`, `hashes`.\n",
            "Completed KNN (Approximate)\n",
            "\n",
            "Model Comparison:\n",
            "                 Model  F1 Score  Precision    Recall  Accuracy  \\\n",
            "0  Logistic Regression  0.947425   0.950043  0.948175  0.948175   \n",
            "3          Naive Bayes  0.805699   0.805544  0.806204  0.806204   \n",
            "2        Random Forest  0.588787   0.616515  0.586861  0.586861   \n",
            "1        Decision Tree  0.423128   0.524776  0.466058  0.466058   \n",
            "4    KNN (Approximate)  0.000000   0.000000  0.000000  0.000000   \n",
            "\n",
            "   Training Time (s)                                              Error  \n",
            "0         430.891248                                                NaN  \n",
            "3          16.586183                                                NaN  \n",
            "2         120.236692                                                NaN  \n",
            "1          77.797198                                                NaN  \n",
            "4           0.000000  [FIELD_NOT_FOUND] No such struct field `id` in...  \n",
            "\n",
            "Best model: Logistic Regression with F1 Score: 0.9474\n"
          ]
        },
        {
          "output_type": "display_data",
          "data": {
            "text/plain": [
              "<Figure size 1200x600 with 1 Axes>"
            ],
            "image/png": "[encoded data removed]"
          },
          "metadata": {}
        },
        {
          "output_type": "display_data",
          "data": {
            "text/plain": [
              "<Figure size 1000x1000 with 1 Axes>"
            ],
            "image/png": "[encoded data removed]"
          },
          "metadata": {}
        }
      ]
    },
    {
      "cell_type": "code",
      "source": [
        "\n",
        "from pyspark.ml.classification import LogisticRegression, DecisionTreeClassifier, RandomForestClassifier, NaiveBayes, LinearSVC, GBTClassifier\n",
        "from pyspark.ml.feature import VectorAssembler, StandardScaler\n",
        "from pyspark.ml.evaluation import MulticlassClassificationEvaluator\n",
        "from pyspark.ml import Pipeline\n",
        "from pyspark.sql import functions as F\n",
        "import time\n",
        "import pandas as pd\n",
        "from pyspark.ml.feature import BucketedRandomProjectionLSH\n",
        "from pyspark.sql.window import Window\n",
        "import matplotlib.pyplot as plt\n",
        "import numpy as np # Define Logistic Regression with your parameters\n",
        "lr = LogisticRegression(\n",
        "    labelCol=\"Sentiment_Indexed\",\n",
        "    featuresCol=\"tfidf\",\n",
        "    maxIter=100,\n",
        "    regParam=0.1\n",
        ")\n",
        "\n",
        "# Fit the model\n",
        "lr_model = lr.fit(train_data)\n",
        "\n",
        "# Save the model to disk\n",
        "model_save_path = \"logistic_regression_model\"\n",
        "lr_model.save(model_save_path)\n",
        "print(f\"Model saved to {model_save_path}\")"
      ],
      "metadata": {
        "id": "BHypLyqyJbUN",
        "colab": {
          "base_uri": "https://localhost:8080/"
        },
        "outputId": "f2485eab-af67-4008-9605-ef636fd07b24"
      },
      "execution_count": 39,
      "outputs": [
        {
          "output_type": "stream",
          "name": "stdout",
          "text": [
            "Model saved to logistic_regression_model\n"
          ]
        }
      ]
    },
    {
      "cell_type": "code",
      "source": [
        "from pyspark.ml.classification import LogisticRegression, DecisionTreeClassifier, RandomForestClassifier, NaiveBayes, LinearSVC, GBTClassifier\n",
        "from pyspark.ml.feature import VectorAssembler, StandardScaler\n",
        "from pyspark.ml.evaluation import MulticlassClassificationEvaluator\n",
        "from pyspark.ml import Pipeline\n",
        "from pyspark.sql import functions as F\n",
        "import time\n",
        "import pandas as pd\n",
        "from pyspark.ml.feature import BucketedRandomProjectionLSH\n",
        "from pyspark.sql.window import Window\n",
        "import matplotlib.pyplot as plt\n",
        "import numpy as np # Define Logistic Regression with your parameters\n",
        "NB = NaiveBayes(\n",
        "        labelCol=\"Sentiment_Indexed\",\n",
        "        featuresCol=\"tfidf\",\n",
        "        modelType=\"multinomial\"\n",
        "    )\n",
        "\n",
        "# Fit the model\n",
        "NB_model = NB.fit(train_data)\n",
        "\n",
        "# Save the model to disk\n",
        "model_save_path = \"Naive_Bayes_model\"\n",
        "lr_model.save(model_save_path)\n",
        "print(f\"Model saved to {model_save_path}\")"
      ],
      "metadata": {
        "colab": {
          "base_uri": "https://localhost:8080/"
        },
        "id": "hkisAWNsEeOv",
        "outputId": "47c188d3-54e8-4241-987e-b36565f4e637"
      },
      "execution_count": 40,
      "outputs": [
        {
          "output_type": "stream",
          "name": "stdout",
          "text": [
            "Model saved to Naive_Bayes_model\n"
          ]
        }
      ]
    },
    {
      "cell_type": "code",
      "source": [
        "# #hamza add this at 2:29 17/5/25\n",
        "# # Save the model to disk\n",
        "# model_save_path = \"logistic_regression_model\"\n",
        "# lr_model.save(model_save_path)\n",
        "# print(f\"Model saved to {model_save_path}\")\n",
        "\n",
        "lr_model.write().overwrite().save(\"lr_model\")"
      ],
      "metadata": {
        "id": "SLRn2f-Lbyyv"
      },
      "execution_count": null,
      "outputs": []
    },
    {
      "cell_type": "code",
      "source": [
        "# from pyspark.ml.classification import LogisticRegression, LogisticRegressionModel\n",
        "\n",
        "# # (1) Train the model\n",
        "# lr = LogisticRegression(\n",
        "#     labelCol=\"Sentiment_Indexed\",\n",
        "#     featuresCol=\"tfidf\",  # or \"final_features\" if combined\n",
        "#     maxIter=100,\n",
        "#     regParam=0.1\n",
        "# )\n",
        "# lr_model = lr.fit(train_data)\n",
        "\n",
        "# # (2) Define where to save (use an absolute path)\n",
        "# save_path = \"file:///C:/saved_lr_model\"  # Windows\n",
        "# # Or for Mac/Linux: save_path = \"file:///home/username/Desktop/saved_lr_model\"\n",
        "\n",
        "# # (3) Save the model\n",
        "# lr_model.save(save_path)\n",
        "# print(f\"Model saved to: {save_path}\")"
      ],
      "metadata": {
        "id": "bCCAZqtGLrum"
      },
      "execution_count": null,
      "outputs": []
    },
    {
      "cell_type": "code",
      "source": [
        "# # importation du model\n",
        "# from pyspark.ml.classification import LogisticRegressionModel\n",
        "\n",
        "# # Load the saved model\n",
        "# loaded_lr_model = LogisticRegressionModel.load(save_path)\n",
        "\n",
        "# # Make predictions\n",
        "# predictions = loaded_lr_model.transform(test_data)\n",
        "# predictions.show(5)"
      ],
      "metadata": {
        "id": "b_L5dZC0Jo6h"
      },
      "execution_count": null,
      "outputs": []
    },
    {
      "cell_type": "code",
      "source": [
        "# import shutil\n",
        "# lr_model.save(\"spark_model\")\n",
        "# shutil.make_archive('spark_model', 'zip', 'spark_model')\n",
        "\n",
        "# from google.colab import files\n",
        "\n",
        "# files.download('spark_model.zip')"
      ],
      "metadata": {
        "id": "8hvE_13Og1je"
      },
      "execution_count": null,
      "outputs": []
    },
    {
      "cell_type": "code",
      "source": [
        "# from pyspark.ml.classification import LogisticRegressionModel\n",
        "\n",
        "# # Load the saved model\n",
        "# loaded_lr_model = LogisticRegressionModel.load(\"spark_model.zip\")"
      ],
      "metadata": {
        "id": "pYyLftPei1Q4"
      },
      "execution_count": null,
      "outputs": []
    },
    {
      "cell_type": "code",
      "source": [
        "# test_pd = test_data.toPandas()\n",
        "# test_pd.to_csv(\"test_data.csv\", index=False)\n",
        "# from google.colab import files\n",
        "\n",
        "# files.download(\"test_data.csv\")\n"
      ],
      "metadata": {
        "id": "ObgRhZ0zj9kn"
      },
      "execution_count": null,
      "outputs": []
    },
    {
      "cell_type": "code",
      "source": [
        "# test_data.write.csv(\"test_data_csv\", header=True)\n"
      ],
      "metadata": {
        "id": "WdF1owFPk10P"
      },
      "execution_count": null,
      "outputs": []
    },
    {
      "cell_type": "code",
      "source": [
        "# import shutil\n",
        "# shutil.make_archive('test_data_csv', 'zip', 'test_data_csv')\n",
        "# from google.colab import files\n",
        "# files.download(\"test_data_csv.zip\")\n"
      ],
      "metadata": {
        "id": "00z-uNR5k5nE"
      },
      "execution_count": null,
      "outputs": []
    },
    {
      "cell_type": "code",
      "source": [
        "import shutil\n",
        "\n",
        "shutil.make_archive(\"logistic_regression_model\", 'zip', \"logistic_regression_model\")\n",
        "from google.colab import files\n",
        "\n",
        "files.download(\"logistic_regression_model.zip\")\n",
        "\n",
        "shutil.make_archive(\"Naive_Bayes_model\", 'zip', \"Naive_Bayes_model\")\n",
        "from google.colab import files\n",
        "\n",
        "files.download(\"Naive_Bayes_model.zip\")"
      ],
      "metadata": {
        "id": "tG8IPfMAY5Lz",
        "colab": {
          "base_uri": "https://localhost:8080/",
          "height": 17
        },
        "outputId": "cdec225d-3c56-44de-fdde-17ef848d14ef"
      },
      "execution_count": 53,
      "outputs": [
        {
          "output_type": "display_data",
          "data": {
            "text/plain": [
              "<IPython.core.display.Javascript object>"
            ],
            "application/javascript": [
              "\n",
              "    async function download(id, filename, size) {\n",
              "      if (!google.colab.kernel.accessAllowed) {\n",
              "        return;\n",
              "      }\n",
              "      const div = document.createElement('div');\n",
              "      const label = document.createElement('label');\n",
              "      label.textContent = `Downloading \"${filename}\": `;\n",
              "      div.appendChild(label);\n",
              "      const progress = document.createElement('progress');\n",
              "      progress.max = size;\n",
              "      div.appendChild(progress);\n",
              "      document.body.appendChild(div);\n",
              "\n",
              "      const buffers = [];\n",
              "      let downloaded = 0;\n",
              "\n",
              "      const channel = await google.colab.kernel.comms.open(id);\n",
              "      // Send a message to notify the kernel that we're ready.\n",
              "      channel.send({})\n",
              "\n",
              "      for await (const message of channel.messages) {\n",
              "        // Send a message to notify the kernel that we're ready.\n",
              "        channel.send({})\n",
              "        if (message.buffers) {\n",
              "          for (const buffer of message.buffers) {\n",
              "            buffers.push(buffer);\n",
              "            downloaded += buffer.byteLength;\n",
              "            progress.value = downloaded;\n",
              "          }\n",
              "        }\n",
              "      }\n",
              "      const blob = new Blob(buffers, {type: 'application/binary'});\n",
              "      const a = document.createElement('a');\n",
              "      a.href = window.URL.createObjectURL(blob);\n",
              "      a.download = filename;\n",
              "      div.appendChild(a);\n",
              "      a.click();\n",
              "      div.remove();\n",
              "    }\n",
              "  "
            ]
          },
          "metadata": {}
        },
        {
          "output_type": "display_data",
          "data": {
            "text/plain": [
              "<IPython.core.display.Javascript object>"
            ],
            "application/javascript": [
              "download(\"download_3affe330-63ab-4c5d-b708-c4c0faa07ede\", \"logistic_regression_model.zip\", 119382)"
            ]
          },
          "metadata": {}
        },
        {
          "output_type": "display_data",
          "data": {
            "text/plain": [
              "<IPython.core.display.Javascript object>"
            ],
            "application/javascript": [
              "\n",
              "    async function download(id, filename, size) {\n",
              "      if (!google.colab.kernel.accessAllowed) {\n",
              "        return;\n",
              "      }\n",
              "      const div = document.createElement('div');\n",
              "      const label = document.createElement('label');\n",
              "      label.textContent = `Downloading \"${filename}\": `;\n",
              "      div.appendChild(label);\n",
              "      const progress = document.createElement('progress');\n",
              "      progress.max = size;\n",
              "      div.appendChild(progress);\n",
              "      document.body.appendChild(div);\n",
              "\n",
              "      const buffers = [];\n",
              "      let downloaded = 0;\n",
              "\n",
              "      const channel = await google.colab.kernel.comms.open(id);\n",
              "      // Send a message to notify the kernel that we're ready.\n",
              "      channel.send({})\n",
              "\n",
              "      for await (const message of channel.messages) {\n",
              "        // Send a message to notify the kernel that we're ready.\n",
              "        channel.send({})\n",
              "        if (message.buffers) {\n",
              "          for (const buffer of message.buffers) {\n",
              "            buffers.push(buffer);\n",
              "            downloaded += buffer.byteLength;\n",
              "            progress.value = downloaded;\n",
              "          }\n",
              "        }\n",
              "      }\n",
              "      const blob = new Blob(buffers, {type: 'application/binary'});\n",
              "      const a = document.createElement('a');\n",
              "      a.href = window.URL.createObjectURL(blob);\n",
              "      a.download = filename;\n",
              "      div.appendChild(a);\n",
              "      a.click();\n",
              "      div.remove();\n",
              "    }\n",
              "  "
            ]
          },
          "metadata": {}
        },
        {
          "output_type": "display_data",
          "data": {
            "text/plain": [
              "<IPython.core.display.Javascript object>"
            ],
            "application/javascript": [
              "download(\"download_c2246cb9-3bd3-42a8-8e0f-323576256559\", \"Naive_Bayes_model.zip\", 119382)"
            ]
          },
          "metadata": {}
        }
      ]
    },
    {
      "cell_type": "code",
      "source": [
        "# # 1. Import required packages\n",
        "# import spacy\n",
        "# from pyspark.sql import SparkSession\n",
        "# from pyspark.sql.functions import udf, col\n",
        "# from pyspark.sql.types import ArrayType, StringType\n",
        "# from pyspark.ml.feature import Tokenizer, HashingTF, IDF\n",
        "# from pyspark.ml.classification import LogisticRegressionModel\n",
        "\n",
        "# # 2. Start Spark session\n",
        "# spark = SparkSession.builder.getOrCreate()\n",
        "\n",
        "# # 3. Load spaCy model\n",
        "# nlp = spacy.load(\"en_core_web_sm\")\n",
        "\n",
        "# # 4. Define lemmatization UDF\n",
        "# def lemmatize(tokens):\n",
        "#     if not tokens or not isinstance(tokens, (list, tuple)) or len(tokens) == 0:\n",
        "#         return []\n",
        "#     text = \" \".join([t for t in tokens if isinstance(t, str)])\n",
        "#     doc = nlp(text)\n",
        "#     return [token.lemma_ for token in doc if not token.is_punct]\n",
        "\n",
        "# lemmatize_udf = udf(lemmatize, ArrayType(StringType()))\n",
        "\n",
        "# # 5. Sample review\n",
        "# sample_text = [\"This product is awful, It broke within a day, and the quality is terrible. Waste of money, do not buy!\"]\n",
        "# sample_text2 = [\"The product is okay. It does the job , but nothing special. I expected better for the price, but its not bad either.\"]\n",
        "# df = spark.createDataFrame([(0, sample_text2[0])], [\"id\", \"reviews\"])\n",
        "\n",
        "# # 6. Tokenize\n",
        "# tokenizer = Tokenizer(inputCol=\"reviews\", outputCol=\"words\")\n",
        "# df_tokenized = tokenizer.transform(df)\n",
        "\n",
        "# # 7. Lemmatize\n",
        "# df_tokenized = df_tokenized.withColumn(\"lemmatized\", lemmatize_udf(col(\"words\")))\n",
        "\n",
        "# # 8. Vectorization - match column names exactly!\n",
        "# hashing_tf = HashingTF(inputCol=\"lemmatized\", outputCol=\"raw_features\", numFeatures=10000)\n",
        "# df_featurized = hashing_tf.transform(df_tokenized)\n",
        "\n",
        "# idf = IDF(inputCol=\"raw_features\", outputCol=\"tfidf\")\n",
        "# idf_model = idf.fit(df_featurized)\n",
        "# df_final = idf_model.transform(df_featurized)\n",
        "\n",
        "# # 9. Load model\n",
        "# model_path = \"/content/logistic_regression_model\"  # or adjust\n",
        "# loaded_model = LogisticRegressionModel.load(model_path)\n",
        "\n",
        "# # 10. Predict\n",
        "# predictions = loaded_model.transform(df_final)\n",
        "\n",
        "# # 11. Show prediction\n",
        "# predictions.select(\"reviews\", \"prediction\", \"probability\").show(truncate=False)\n"
      ],
      "metadata": {
        "id": "Vgz2j4jrBuwp"
      },
      "execution_count": null,
      "outputs": []
    },
    {
      "cell_type": "code",
      "source": [
        "# # 1. Import required packages\n",
        "# import spacy\n",
        "# from pyspark.sql import SparkSession\n",
        "# from pyspark.sql.functions import udf, col\n",
        "# from pyspark.sql.types import ArrayType, StringType\n",
        "# from pyspark.ml.feature import Tokenizer, HashingTF, IDFModel\n",
        "# from pyspark.ml.classification import LogisticRegressionModel\n",
        "\n",
        "# # 2. Start Spark session\n",
        "# spark = SparkSession.builder.getOrCreate()\n",
        "\n",
        "# # 3. Load spaCy model\n",
        "# nlp = spacy.load(\"en_core_web_sm\")\n",
        "\n",
        "# # 4. Define lemmatization UDF\n",
        "# def lemmatize(tokens):\n",
        "#     if not tokens or not isinstance(tokens, (list, tuple)) or len(tokens) == 0:\n",
        "#         return []\n",
        "#     text = \" \".join([t for t in tokens if isinstance(t, str)])\n",
        "#     doc = nlp(text)\n",
        "#     return [token.lemma_ for token in doc if not token.is_punct]\n",
        "\n",
        "# lemmatize_udf = udf(lemmatize, ArrayType(StringType()))\n",
        "\n",
        "# # 5. Sample review\n",
        "# sample_text = [\"This product is awful, It broke within a day, and the quality is terrible. Waste of money, do not buy!\"]\n",
        "# sample_text2 = [\"The product is okay. It does the job , but nothing special. I expected better for the price, but its not bad either.\"]\n",
        "# df = spark.createDataFrame([(0, sample_text2[0])], [\"id\", \"reviews\"])\n",
        "\n",
        "# # 6. Tokenize\n",
        "# tokenizer = Tokenizer(inputCol=\"reviews\", outputCol=\"words\")\n",
        "# df_tokenized = tokenizer.transform(df)\n",
        "\n",
        "# # 7. Lemmatize\n",
        "# df_tokenized = df_tokenized.withColumn(\"lemmatized\", lemmatize_udf(col(\"words\")))\n",
        "\n",
        "# # 8. HashingTF (must match training config)\n",
        "# hashing_tf = HashingTF(inputCol=\"lemmatized\", outputCol=\"raw_features\", numFeatures=10000)\n",
        "# df_featurized = hashing_tf.transform(df_tokenized)\n",
        "\n",
        "# # ✅ 9. Load the **trained** IDF model (DON'T refit!)\n",
        "# idf_model = IDFModel.load(\"/content/idf_model2\")  # <-- path to the saved model\n",
        "# df_final = idf_model.transform(df_featurized)\n",
        "\n",
        "# # ✅ 10. Load the trained Logistic Regression model\n",
        "# model_path = \"/content/logistic_regression_model\"\n",
        "# loaded_model = LogisticRegressionModel.load(model_path)\n",
        "\n",
        "# # 11. Predict\n",
        "# predictions = loaded_model.transform(df_final)\n",
        "\n",
        "# # 12. Show prediction\n",
        "# predictions.select(\"reviews\", \"prediction\", \"probability\").show(truncate=False)\n"
      ],
      "metadata": {
        "id": "jVTQ69-UQjjS",
        "colab": {
          "base_uri": "https://localhost:8080/"
        },
        "outputId": "eb5c94d1-e6f7-47be-f1d8-8087feb8a37a"
      },
      "execution_count": null,
      "outputs": [
        {
          "output_type": "stream",
          "name": "stdout",
          "text": [
            "+--------------------------------------------------------------------------------------------------------------------+----------+------------------------------------------------------------+\n",
            "|reviews                                                                                                             |prediction|probability                                                 |\n",
            "+--------------------------------------------------------------------------------------------------------------------+----------+------------------------------------------------------------+\n",
            "|The product is okay. It does the job , but nothing special. I expected better for the price, but its not bad either.|0.0       |[0.8298584216874925,0.14593129288190596,0.02421028543060156]|\n",
            "+--------------------------------------------------------------------------------------------------------------------+----------+------------------------------------------------------------+\n",
            "\n"
          ]
        }
      ]
    },
    {
      "cell_type": "code",
      "source": [
        "import shutil\n",
        "\n",
        "shutil.make_archive(\"idf_model4\", 'zip', \"idf_model4\")\n",
        "from google.colab import files\n",
        "\n",
        "files.download(\"idf_model4.zip\")"
      ],
      "metadata": {
        "id": "YdYFuPH0WscU",
        "colab": {
          "base_uri": "https://localhost:8080/",
          "height": 17
        },
        "outputId": "a2d8552c-c1f0-4ad7-b21a-2b55079565c8"
      },
      "execution_count": 52,
      "outputs": [
        {
          "output_type": "display_data",
          "data": {
            "text/plain": [
              "<IPython.core.display.Javascript object>"
            ],
            "application/javascript": [
              "\n",
              "    async function download(id, filename, size) {\n",
              "      if (!google.colab.kernel.accessAllowed) {\n",
              "        return;\n",
              "      }\n",
              "      const div = document.createElement('div');\n",
              "      const label = document.createElement('label');\n",
              "      label.textContent = `Downloading \"${filename}\": `;\n",
              "      div.appendChild(label);\n",
              "      const progress = document.createElement('progress');\n",
              "      progress.max = size;\n",
              "      div.appendChild(progress);\n",
              "      document.body.appendChild(div);\n",
              "\n",
              "      const buffers = [];\n",
              "      let downloaded = 0;\n",
              "\n",
              "      const channel = await google.colab.kernel.comms.open(id);\n",
              "      // Send a message to notify the kernel that we're ready.\n",
              "      channel.send({})\n",
              "\n",
              "      for await (const message of channel.messages) {\n",
              "        // Send a message to notify the kernel that we're ready.\n",
              "        channel.send({})\n",
              "        if (message.buffers) {\n",
              "          for (const buffer of message.buffers) {\n",
              "            buffers.push(buffer);\n",
              "            downloaded += buffer.byteLength;\n",
              "            progress.value = downloaded;\n",
              "          }\n",
              "        }\n",
              "      }\n",
              "      const blob = new Blob(buffers, {type: 'application/binary'});\n",
              "      const a = document.createElement('a');\n",
              "      a.href = window.URL.createObjectURL(blob);\n",
              "      a.download = filename;\n",
              "      div.appendChild(a);\n",
              "      a.click();\n",
              "      div.remove();\n",
              "    }\n",
              "  "
            ]
          },
          "metadata": {}
        },
        {
          "output_type": "display_data",
          "data": {
            "text/plain": [
              "<IPython.core.display.Javascript object>"
            ],
            "application/javascript": [
              "download(\"download_6fe96123-1197-4623-b1e7-298c010f441a\", \"idf_model4.zip\", 15133)"
            ]
          },
          "metadata": {}
        }
      ]
    },
    {
      "cell_type": "code",
      "source": [
        "# import pyspark\n",
        "# print(pyspark.__version__)"
      ],
      "metadata": {
        "id": "VlblVwGPccfn"
      },
      "execution_count": null,
      "outputs": []
    },
    {
      "cell_type": "code",
      "source": [
        "# df_final.show()\n"
      ],
      "metadata": {
        "colab": {
          "base_uri": "https://localhost:8080/"
        },
        "id": "euZNMqvpiXIQ",
        "outputId": "39a133eb-0993-4147-d1c2-943f312f13d3"
      },
      "execution_count": null,
      "outputs": [
        {
          "output_type": "stream",
          "name": "stdout",
          "text": [
            "+---+--------------------+--------------------+--------------------+--------------------+--------------------+\n",
            "| id|             reviews|               words|          lemmatized|        raw_features|               tfidf|\n",
            "+---+--------------------+--------------------+--------------------+--------------------+--------------------+\n",
            "|  0|The product is ok...|[the, product, is...|[the, product, be...|(10000,[157,447,5...|(10000,[157,447,5...|\n",
            "+---+--------------------+--------------------+--------------------+--------------------+--------------------+\n",
            "\n"
          ]
        }
      ]
    },
    {
      "cell_type": "code",
      "source": [
        "# 1. Import required packages\n",
        "import spacy\n",
        "from pyspark.sql import SparkSession\n",
        "from pyspark.sql.functions import udf, col\n",
        "from pyspark.sql.types import ArrayType, StringType\n",
        "from pyspark.ml.feature import Tokenizer, NGram, HashingTF, IDFModel\n",
        "from pyspark.ml.classification import LogisticRegressionModel\n",
        "\n",
        "# 2. Start Spark session\n",
        "spark = SparkSession.builder.getOrCreate()\n",
        "\n",
        "# 3. Load spaCy model\n",
        "nlp = spacy.load(\"en_core_web_sm\")\n",
        "\n",
        "# 4. Define lemmatization UDF\n",
        "def lemmatize(tokens):\n",
        "    if not tokens or not isinstance(tokens, (list, tuple)) or len(tokens) == 0:\n",
        "        return []\n",
        "    text = \" \".join([t for t in tokens if isinstance(t, str)])\n",
        "    doc = nlp(text)\n",
        "    return [token.lemma_ for token in doc if not token.is_punct]\n",
        "\n",
        "lemmatize_udf = udf(lemmatize, ArrayType(StringType()))\n",
        "\n",
        "# 5. Sample review\n",
        "sample_text = [\"The size chart is completely inaccurate. Doesn't fit at all.\"]\n",
        "df = spark.createDataFrame([(0, sample_text[0])], [\"id\", \"reviews\"])\n",
        "\n",
        "# 6. Tokenize\n",
        "tokenizer = Tokenizer(inputCol=\"reviews\", outputCol=\"words\")\n",
        "df_tokenized = tokenizer.transform(df)\n",
        "\n",
        "# 7. Lemmatize\n",
        "df_tokenized = df_tokenized.withColumn(\"lemmatized\", lemmatize_udf(col(\"words\")))\n",
        "\n",
        "# 8. Generate bigrams (ngram_range=(2,2), matching training)\n",
        "ngram = NGram(n=2, inputCol=\"lemmatized\", outputCol=\"bigrams\")\n",
        "df_ngram = ngram.transform(df_tokenized)\n",
        "\n",
        "# 9. HashingTF (must match training config: numFeatures=5000)\n",
        "hashing_tf = HashingTF(inputCol=\"bigrams\", outputCol=\"raw_features\", numFeatures=5000)\n",
        "df_featurized = hashing_tf.transform(df_ngram)\n",
        "\n",
        "df_featurized.show()\n",
        "\n",
        "# 10. Load the trained IDF model (DON'T refit!)\n",
        "try:\n",
        "    idf_model = IDFModel.load(\"/content/idf_model4\")\n",
        "    df_final = idf_model.transform(df_featurized)\n",
        "except Exception as e:\n",
        "    print(f\"Error loading IDF model: {e}\")\n",
        "    spark.stop()\n",
        "    raise\n",
        "\n",
        "# 11. Load the trained Logistic Regression model\n",
        "try:\n",
        "    model_path = \"/content/logistic_regression_model\"\n",
        "    loaded_model = LogisticRegressionModel.load(model_path)\n",
        "except Exception as e:\n",
        "    print(f\"Error loading Logistic Regression model: {e}\")\n",
        "    spark.stop()\n",
        "    raise\n",
        "\n",
        "# 12. Predict\n",
        "predictions = loaded_model.transform(df_final)\n",
        "\n",
        "# 13. Show prediction with sentiment label mapping\n",
        "sentiment_mapping = {0.0: \"Positive\", 1.0: \"Neutral\", 2.0: \"Negative\"}\n",
        "from pyspark.sql.functions import udf\n",
        "from pyspark.sql.types import StringType\n",
        "\n",
        "def map_sentiment(pred):\n",
        "    return sentiment_mapping.get(pred, \"Unknown\")\n",
        "\n",
        "map_sentiment_udf = udf(map_sentiment, StringType())\n",
        "predictions = predictions.withColumn(\"sentiment\", map_sentiment_udf(col(\"prediction\")))\n",
        "\n",
        "# 14. Show results\n",
        "predictions.select(\"reviews\", \"sentiment\", \"prediction\", \"probability\").show(truncate=False)\n",
        "\n",
        "# 15. Stop Spark session\n",
        "spark.stop()"
      ],
      "metadata": {
        "colab": {
          "base_uri": "https://localhost:8080/"
        },
        "id": "43G3l_BtCV5H",
        "outputId": "65619322-67c7-422a-8331-378c268466db"
      },
      "execution_count": 49,
      "outputs": [
        {
          "output_type": "stream",
          "name": "stdout",
          "text": [
            "+---+--------------------+--------------------+--------------------+--------------------+--------------------+\n",
            "| id|             reviews|               words|          lemmatized|             bigrams|        raw_features|\n",
            "+---+--------------------+--------------------+--------------------+--------------------+--------------------+\n",
            "|  0|The size chart is...|[the, size, chart...|[the, size, chart...|[the size, size c...|(5000,[165,460,19...|\n",
            "+---+--------------------+--------------------+--------------------+--------------------+--------------------+\n",
            "\n",
            "+------------------------------------------------------------+---------+----------+-----------------------------------------------------------+\n",
            "|reviews                                                     |sentiment|prediction|probability                                                |\n",
            "+------------------------------------------------------------+---------+----------+-----------------------------------------------------------+\n",
            "|The size chart is completely inaccurate. Doesn't fit at all.|Positive |0.0       |[0.7573235868590263,0.1523483221490158,0.09032809099195782]|\n",
            "+------------------------------------------------------------+---------+----------+-----------------------------------------------------------+\n",
            "\n"
          ]
        }
      ]
    },
    {
      "cell_type": "code",
      "source": [
        "# 1. Import required packages\n",
        "import spacy\n",
        "from pyspark.sql import SparkSession\n",
        "from pyspark.sql.functions import udf, col\n",
        "from pyspark.sql.types import ArrayType, StringType\n",
        "from pyspark.ml.feature import Tokenizer, NGram, HashingTF, IDFModel\n",
        "from pyspark.ml.classification import LogisticRegressionModel\n",
        "\n",
        "# 2. Start Spark session\n",
        "spark = SparkSession.builder.getOrCreate()\n",
        "\n",
        "# 3. Load spaCy model\n",
        "nlp = spacy.load(\"en_core_web_sm\")\n",
        "\n",
        "# 4. Define lemmatization UDF\n",
        "def lemmatize(tokens):\n",
        "    if not tokens or not isinstance(tokens, (list, tuple)) or len(tokens) == 0:\n",
        "        return []\n",
        "    text = \" \".join([t for t in tokens if isinstance(t, str)])\n",
        "    doc = nlp(text)\n",
        "    return [token.lemma_ for token in doc if not token.is_punct]\n",
        "\n",
        "lemmatize_udf = udf(lemmatize, ArrayType(StringType()))\n",
        "\n",
        "# 5. Sample review\n",
        "sample_text = [\"Battery life is terrible. Barely lasts a few hours, even with minimal use.\"]\n",
        "df = spark.createDataFrame([(0, sample_text[0])], [\"id\", \"reviews\"])\n",
        "\n",
        "# 6. Tokenize\n",
        "tokenizer = Tokenizer(inputCol=\"reviews\", outputCol=\"words\")\n",
        "df_tokenized = tokenizer.transform(df)\n",
        "\n",
        "# 7. Lemmatize\n",
        "df_tokenized = df_tokenized.withColumn(\"lemmatized\", lemmatize_udf(col(\"words\")))\n",
        "\n",
        "# 8. Generate bigrams (ngram_range=(2,2), matching training)\n",
        "ngram = NGram(n=2, inputCol=\"lemmatized\", outputCol=\"bigrams\")\n",
        "df_ngram = ngram.transform(df_tokenized)\n",
        "\n",
        "# 9. HashingTF (must match training config: numFeatures=5000)\n",
        "hashing_tf = HashingTF(inputCol=\"bigrams\", outputCol=\"raw_features\", numFeatures=5000)\n",
        "df_featurized = hashing_tf.transform(df_ngram)\n",
        "\n",
        "df_featurized.show()\n",
        "\n",
        "# 10. Load the trained IDF model (DON'T refit!)\n",
        "try:\n",
        "    idf_model = IDFModel.load(\"/content/idf_model4\")\n",
        "    df_final = idf_model.transform(df_featurized)\n",
        "except Exception as e:\n",
        "    print(f\"Error loading IDF model: {e}\")\n",
        "    spark.stop()\n",
        "    raise\n",
        "\n",
        "# 11. Load the trained Logistic Regression model\n",
        "try:\n",
        "    model_path = \"/content/Naive_Bayes_model\"\n",
        "    loaded_model = LogisticRegressionModel.load(model_path)\n",
        "except Exception as e:\n",
        "    print(f\"Error loading Naive Bayes model: {e}\")\n",
        "    spark.stop()\n",
        "    raise\n",
        "\n",
        "# 12. Predict\n",
        "predictions = loaded_model.transform(df_final)\n",
        "\n",
        "# 13. Show prediction with sentiment label mapping\n",
        "sentiment_mapping = {0.0: \"Positive\", 1.0: \"Neutral\", 2.0: \"Negative\"}\n",
        "from pyspark.sql.functions import udf\n",
        "from pyspark.sql.types import StringType\n",
        "\n",
        "def map_sentiment(pred):\n",
        "    return sentiment_mapping.get(pred, \"Unknown\")\n",
        "\n",
        "map_sentiment_udf = udf(map_sentiment, StringType())\n",
        "predictions = predictions.withColumn(\"sentiment\", map_sentiment_udf(col(\"prediction\")))\n",
        "\n",
        "# 14. Show results\n",
        "predictions.select(\"reviews\", \"sentiment\", \"prediction\", \"probability\").show(truncate=False)\n",
        "\n",
        "# 15. Stop Spark session\n",
        "spark.stop()"
      ],
      "metadata": {
        "colab": {
          "base_uri": "https://localhost:8080/"
        },
        "id": "wWLrPzDOPzz8",
        "outputId": "7692422c-8fb4-4b53-e533-664c4bf25e10"
      },
      "execution_count": 55,
      "outputs": [
        {
          "output_type": "stream",
          "name": "stdout",
          "text": [
            "+---+--------------------+--------------------+--------------------+--------------------+--------------------+\n",
            "| id|             reviews|               words|          lemmatized|             bigrams|        raw_features|\n",
            "+---+--------------------+--------------------+--------------------+--------------------+--------------------+\n",
            "|  0|Battery life is t...|[battery, life, i...|[battery, life, b...|[battery life, li...|(5000,[173,283,74...|\n",
            "+---+--------------------+--------------------+--------------------+--------------------+--------------------+\n",
            "\n",
            "+--------------------------------------------------------------------------+---------+----------+-------------------------------------------------------------+\n",
            "|reviews                                                                   |sentiment|prediction|probability                                                  |\n",
            "+--------------------------------------------------------------------------+---------+----------+-------------------------------------------------------------+\n",
            "|Battery life is terrible. Barely lasts a few hours, even with minimal use.|Positive |0.0       |[0.7115576844292576,0.24649235696429572,0.041949958606446854]|\n",
            "+--------------------------------------------------------------------------+---------+----------+-------------------------------------------------------------+\n",
            "\n"
          ]
        }
      ]
    }
  ],
  "metadata": {
    "kernelspec": {
      "display_name": "Python 3",
      "name": "python3"
    },
    "language_info": {
      "codemirror_mode": {
        "name": "ipython",
        "version": 3
      },
      "file_extension": ".py",
      "mimetype": "text/x-python",
      "name": "python",
      "nbconvert_exporter": "python",
      "pygments_lexer": "ipython3",
      "version": "3.11.8"
    },
    "colab": {
      "provenance": [],
      "gpuType": "T4"
    },
    "accelerator": "GPU"
  },
  "nbformat": 4,
  "nbformat_minor": 0
}