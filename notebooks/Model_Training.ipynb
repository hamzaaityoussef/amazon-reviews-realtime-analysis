{
  "cells": [
    {
      "cell_type": "code",
      "execution_count": 20,
      "metadata": {
        "id": "i0kd8mAK0t5D"
      },
      "outputs": [],
      "source": [
        "# import findspark\n",
        "# try:\n",
        "#     findspark.init()\n",
        "#     print(\"Spark found by findspark.\")\n",
        "# except:\n",
        "#     print(\"Spark not found by findspark.\")"
      ]
    },
    {
      "cell_type": "code",
      "execution_count": 21,
      "metadata": {
        "colab": {
          "base_uri": "https://localhost:8080/"
        },
        "id": "QkTXbv8k0t5H",
        "outputId": "12826f3e-716e-4807-c194-1d30a67bd7d0"
      },
      "outputs": [
        {
          "output_type": "stream",
          "name": "stdout",
          "text": [
            "openjdk version \"11.0.27\" 2025-04-15\n",
            "OpenJDK Runtime Environment (build 11.0.27+6-post-Ubuntu-0ubuntu122.04)\n",
            "OpenJDK 64-Bit Server VM (build 11.0.27+6-post-Ubuntu-0ubuntu122.04, mixed mode, sharing)\n"
          ]
        }
      ],
      "source": [
        "!java -version"
      ]
    },
    {
      "cell_type": "code",
      "execution_count": 22,
      "metadata": {
        "id": "3DCBuBky0t5I"
      },
      "outputs": [],
      "source": [
        "import sys\n",
        "import os\n",
        "os.environ[\"PYSPARK_PYTHON\"] = sys.executable\n",
        "os.environ[\"PYSPARK_DRIVER_PYTHON\"] = sys.executable"
      ]
    },
    {
      "cell_type": "code",
      "execution_count": 23,
      "metadata": {
        "id": "_qpRGO860t5J"
      },
      "outputs": [],
      "source": [
        "from pyspark.sql.functions import col, concat_ws\n",
        "from pyspark.sql import SparkSession\n",
        "from pyspark.ml.feature import Tokenizer, NGram, HashingTF, IDF\n",
        "from pyspark.sql.functions import col\n",
        "from sklearn.feature_extraction.text import TfidfVectorizer\n",
        "from pyspark.sql.functions import udf\n",
        "from pyspark.sql.types import StringType\n",
        "from pyspark.sql.functions import split, trim, size\n",
        "from pyspark.sql.functions import length\n",
        "from pyspark.sql.types import ArrayType, StringType\n",
        "from pyspark.ml.feature import StringIndexer\n",
        "from textblob import TextBlob\n",
        "from pyspark.ml import Pipeline\n",
        "from imblearn.over_sampling import SMOTE\n",
        "from pyspark.sql.functions import col\n",
        "from pyspark.sql import SparkSession\n",
        "from collections import Counter\n",
        "from pyspark.sql.types import DoubleType\n",
        "from pyspark.sql.functions import explode, lit, rand\n",
        "import pyspark.sql.functions as F\n",
        "from wordcloud import WordCloud,STOPWORDS\n",
        "from pyspark.ml.classification import LogisticRegression, DecisionTreeClassifier, RandomForestClassifier, NaiveBayes\n",
        "from pyspark.ml.evaluation import MulticlassClassificationEvaluator\n",
        "from pyspark.ml.tuning import CrossValidator, ParamGridBuilder\n",
        "import re\n",
        "import string\n",
        "import pandas as pd\n",
        "from pyspark.sql.types import FloatType"
      ]
    },
    {
      "cell_type": "code",
      "execution_count": 24,
      "metadata": {
        "id": "rLWvpN5g0t5J"
      },
      "outputs": [],
      "source": [
        "reviews = pd.read_csv('Musical_instruments_reviews.csv')"
      ]
    },
    {
      "cell_type": "code",
      "source": [
        "MIN_TOKEN_LENGTH = 2\n",
        "SPARK_MEMORY = \"8g\"\n",
        "\n",
        "spark = SparkSession.builder \\\n",
        "    .appName(\"Amazon Sentiment Analysis\") .config(\"spark.driver.memory\", SPARK_MEMORY) \\\n",
        "    .getOrCreate()\n",
        "\n",
        "df3 = spark.read.csv(\"Musical_instruments_reviews.csv\", header=True)"
      ],
      "metadata": {
        "id": "6eVHPUT-KUXI"
      },
      "execution_count": 25,
      "outputs": []
    },
    {
      "cell_type": "code",
      "execution_count": 25,
      "metadata": {
        "id": "Xyw5xeip0t5J"
      },
      "outputs": [],
      "source": []
    },
    {
      "cell_type": "code",
      "execution_count": 26,
      "metadata": {
        "id": "We_jTFyv0t5K"
      },
      "outputs": [],
      "source": [
        "df = spark.createDataFrame(reviews)"
      ]
    },
    {
      "cell_type": "code",
      "execution_count": 27,
      "metadata": {
        "colab": {
          "base_uri": "https://localhost:8080/"
        },
        "id": "pB5_9G9t0t5K",
        "outputId": "79356f8f-eede-474c-993e-d401670a45be"
      },
      "outputs": [
        {
          "output_type": "stream",
          "name": "stdout",
          "text": [
            "+--------------+----------+--------------------+--------+--------------------+-------+--------------------+--------------------+-----------+\n",
            "|    reviewerID|      asin|        reviewerName| helpful|          reviewText|overall|             summary|      unixReviewTime| reviewTime|\n",
            "+--------------+----------+--------------------+--------+--------------------+-------+--------------------+--------------------+-----------+\n",
            "|A2IBPI20UZIR0U|1384719342|\"cassandra tu \"\"Yeah|    well|    that's just like|  u...\"|              [0, 0]|Not much to write...|        5.0|\n",
            "|A14VAT5EAX3D9S|1384719342|                Jake|[13, 14]|The product does ...|    5.0|                Jake|          1363392000|03 16, 2013|\n",
            "|A195EZSQDW3E21|1384719342|\"Rick Bennette \"\"...|  [1, 1]|The primary job o...|    5.0|It Does The Job Well|          1377648000|08 28, 2013|\n",
            "|A2C00NNG1ZQQG2|1384719342|\"RustyBill \"\"Sund...|  [0, 0]|Nice windscreen p...|    5.0|GOOD WINDSCREEN F...|          1392336000|02 14, 2014|\n",
            "| A94QU4C90B1AX|1384719342|       SEAN MASLANKA|  [0, 0]|This pop filter i...|    5.0|No more pops when...|          1392940800|02 21, 2014|\n",
            "+--------------+----------+--------------------+--------+--------------------+-------+--------------------+--------------------+-----------+\n",
            "only showing top 5 rows\n",
            "\n"
          ]
        }
      ],
      "source": [
        "#\n",
        "df3.show(5)"
      ]
    },
    {
      "cell_type": "code",
      "execution_count": 28,
      "metadata": {
        "id": "C3OUfO480t5K"
      },
      "outputs": [],
      "source": [
        "df = df3.fillna({'reviewText': 'Missing'})"
      ]
    },
    {
      "cell_type": "code",
      "execution_count": 29,
      "metadata": {
        "id": "ICpnyy6Q0t5K"
      },
      "outputs": [],
      "source": [
        "# Combine 'reviewText' and 'summary' into a new column 'reviews'\n",
        "df = df.withColumn('reviews', concat_ws('', col('reviewText'), col('summary')))\n",
        "\n",
        "# Drop the original 'reviewText' and 'summary' columns\n",
        "df = df.drop('reviewText', 'summary')"
      ]
    },
    {
      "cell_type": "code",
      "execution_count": 30,
      "metadata": {
        "colab": {
          "base_uri": "https://localhost:8080/"
        },
        "id": "yHYfGYXi0t5M",
        "outputId": "733fcbda-4e63-4285-83e8-70841350f0c0"
      },
      "outputs": [
        {
          "output_type": "stream",
          "name": "stdout",
          "text": [
            "+--------------+----------+--------------------+--------+-------+--------------------+-----------+--------------------+\n",
            "|    reviewerID|      asin|        reviewerName| helpful|overall|      unixReviewTime| reviewTime|             reviews|\n",
            "+--------------+----------+--------------------+--------+-------+--------------------+-----------+--------------------+\n",
            "|A2IBPI20UZIR0U|1384719342|\"cassandra tu \"\"Yeah|    well|  u...\"|Not much to write...|        5.0| that's just like...|\n",
            "|A14VAT5EAX3D9S|1384719342|                Jake|[13, 14]|    5.0|          1363392000|03 16, 2013|The product does ...|\n",
            "|A195EZSQDW3E21|1384719342|\"Rick Bennette \"\"...|  [1, 1]|    5.0|          1377648000|08 28, 2013|The primary job o...|\n",
            "|A2C00NNG1ZQQG2|1384719342|\"RustyBill \"\"Sund...|  [0, 0]|    5.0|          1392336000|02 14, 2014|Nice windscreen p...|\n",
            "| A94QU4C90B1AX|1384719342|       SEAN MASLANKA|  [0, 0]|    5.0|          1392940800|02 21, 2014|This pop filter i...|\n",
            "|A2A039TZMZHH9Y|B00004Y2UT|\"Bill Lewey \"\"ble...|  [0, 0]|    5.0|          1356048000|12 21, 2012|So good that I bo...|\n",
            "|A1UPZM995ZAH90|B00004Y2UT|               Brian|  [0, 0]|    5.0|          1390089600|01 19, 2014|I have used monst...|\n",
            "| AJNFQI3YR6XJ5|B00004Y2UT|\"Fender Guy \"\"Ric...|  [0, 0]|    3.0|          1353024000|11 16, 2012|I now use this ca...|\n",
            "|A3M1PLEYNDEYO8|B00004Y2UT| \"G. Thomas \"\"Tom\"\"\"|  [0, 0]|    5.0|          1215302400| 07 6, 2008|Perfect for my Ep...|\n",
            "| AMNTZU1YQN1TH|B00004Y2UT|         Kurt Robair|  [0, 0]|    5.0|          1389139200| 01 8, 2014|Monster makes the...|\n",
            "|A2NYK9KWFMJV4Y|B00004Y2UT|\"Mike Tarrani \"\"J...|  [6, 6]|    5.0|          1334793600|04 19, 2012|Monster makes a w...|\n",
            "|A35QFQI0M46LWO|B00005ML71|       Christopher C|  [0, 0]|    4.0|          1398124800|04 22, 2014|I got it to have ...|\n",
            "|A2NIT6BKW11XJQ|B00005ML71|                 Jai|  [0, 0]|    3.0|          1384646400|11 17, 2013|If you are not us...|\n",
            "|A1C0O09LOLVI39|B00005ML71|             Michael|  [0, 0]|    5.0|          1371340800|06 16, 2013|I love it, I used...|\n",
            "|A17SLR18TUMULM|B00005ML71|         Straydogger|  [0, 0]|    5.0|          1356912000|12 31, 2012|I bought this to ...|\n",
            "|A2PD27UKAD3Q00|B00005ML71|\"Wilhelmina Zeitg...|  [0, 0]|    2.0|          1376697600|08 17, 2013|I bought this to ...|\n",
            "| AKSFZ4G1AXYFC|B000068NSX|    \"C.E. \"\"Frank\"\"\"|  [0, 0]|    4.0|          1376352000|08 13, 2013|This Fender cable...|\n",
            "| A67OJZLHBBUQ9|B000068NSX|\"Charles F. Marks...|  [0, 0]|    5.0|          1373328000| 07 9, 2013|wanted it just on...|\n",
            "|A2EZWZ8MBEDOLN|B000068NSX|              Charlo|  [3, 3]|    5.0|          1363564800|03 18, 2013|I've been using t...|\n",
            "|A1CL807EOUPVP1|B000068NSX|             GunHawk|  [0, 0]|    5.0|          1375833600| 08 7, 2013|Fender cords look...|\n",
            "+--------------+----------+--------------------+--------+-------+--------------------+-----------+--------------------+\n",
            "only showing top 20 rows\n",
            "\n"
          ]
        }
      ],
      "source": [
        "df.show()"
      ]
    },
    {
      "cell_type": "code",
      "execution_count": 31,
      "metadata": {
        "id": "nckNRi8x0t5M"
      },
      "outputs": [],
      "source": [
        "from pyspark.sql.functions import udf, col\n",
        "from pyspark.sql.types import StringType, IntegerType\n",
        "\n",
        "# Cast the column to IntegerType\n",
        "df = df.withColumn(\"overall\", col(\"overall\").cast(IntegerType()))\n",
        "\n",
        "# Define the sentiment function\n",
        "def sent(overall):\n",
        "    if overall is None:\n",
        "        return 'Unknown'\n",
        "    elif overall == 3:\n",
        "        return 'Neutral'\n",
        "    elif overall > 3:\n",
        "        return 'Positive'\n",
        "    else:\n",
        "        return 'Negative'\n",
        "\n",
        "# Register the UDF\n",
        "sent_udf = udf(sent, StringType())\n",
        "\n",
        "# Apply the UDF\n",
        "df = df.withColumn(\"Sentiment\", sent_udf(col(\"overall\")))\n",
        "\n",
        "\n"
      ]
    },
    {
      "cell_type": "code",
      "execution_count": 32,
      "metadata": {
        "colab": {
          "base_uri": "https://localhost:8080/"
        },
        "id": "bpJIiRGt0t5M",
        "outputId": "2cf9cfa5-6795-4d21-d1d7-3e6e390f68c6"
      },
      "outputs": [
        {
          "output_type": "stream",
          "name": "stdout",
          "text": [
            "+--------------+----------+--------------------+--------+-------+--------------------+-----------+--------------------+---------+\n",
            "|    reviewerID|      asin|        reviewerName| helpful|overall|      unixReviewTime| reviewTime|             reviews|Sentiment|\n",
            "+--------------+----------+--------------------+--------+-------+--------------------+-----------+--------------------+---------+\n",
            "|A2IBPI20UZIR0U|1384719342|\"cassandra tu \"\"Yeah|    well|   NULL|Not much to write...|        5.0| that's just like...|  Unknown|\n",
            "|A14VAT5EAX3D9S|1384719342|                Jake|[13, 14]|      5|          1363392000|03 16, 2013|The product does ...| Positive|\n",
            "|A195EZSQDW3E21|1384719342|\"Rick Bennette \"\"...|  [1, 1]|      5|          1377648000|08 28, 2013|The primary job o...| Positive|\n",
            "|A2C00NNG1ZQQG2|1384719342|\"RustyBill \"\"Sund...|  [0, 0]|      5|          1392336000|02 14, 2014|Nice windscreen p...| Positive|\n",
            "| A94QU4C90B1AX|1384719342|       SEAN MASLANKA|  [0, 0]|      5|          1392940800|02 21, 2014|This pop filter i...| Positive|\n",
            "|A2A039TZMZHH9Y|B00004Y2UT|\"Bill Lewey \"\"ble...|  [0, 0]|      5|          1356048000|12 21, 2012|So good that I bo...| Positive|\n",
            "|A1UPZM995ZAH90|B00004Y2UT|               Brian|  [0, 0]|      5|          1390089600|01 19, 2014|I have used monst...| Positive|\n",
            "| AJNFQI3YR6XJ5|B00004Y2UT|\"Fender Guy \"\"Ric...|  [0, 0]|      3|          1353024000|11 16, 2012|I now use this ca...|  Neutral|\n",
            "|A3M1PLEYNDEYO8|B00004Y2UT| \"G. Thomas \"\"Tom\"\"\"|  [0, 0]|      5|          1215302400| 07 6, 2008|Perfect for my Ep...| Positive|\n",
            "| AMNTZU1YQN1TH|B00004Y2UT|         Kurt Robair|  [0, 0]|      5|          1389139200| 01 8, 2014|Monster makes the...| Positive|\n",
            "+--------------+----------+--------------------+--------+-------+--------------------+-----------+--------------------+---------+\n",
            "only showing top 10 rows\n",
            "\n"
          ]
        }
      ],
      "source": [
        "df.show(10)"
      ]
    },
    {
      "cell_type": "code",
      "execution_count": 33,
      "metadata": {
        "colab": {
          "base_uri": "https://localhost:8080/"
        },
        "id": "VHRYCskO0t5N",
        "outputId": "ebf41a09-33c4-4df8-e331-90955624e828"
      },
      "outputs": [
        {
          "output_type": "stream",
          "name": "stdout",
          "text": [
            "+--------------+----------+--------------------+--------+-------+--------------------+--------------------+---------+----+-----+----+\n",
            "|    reviewerID|      asin|        reviewerName| helpful|overall|      unixReviewTime|             reviews|Sentiment|year|month| day|\n",
            "+--------------+----------+--------------------+--------+-------+--------------------+--------------------+---------+----+-----+----+\n",
            "|A2IBPI20UZIR0U|1384719342|\"cassandra tu \"\"Yeah|    well|   NULL|Not much to write...| that's just like...|  Unknown|NULL|  5.0|NULL|\n",
            "|A14VAT5EAX3D9S|1384719342|                Jake|[13, 14]|      5|          1363392000|The product does ...| Positive|2013|   03|  16|\n",
            "|A195EZSQDW3E21|1384719342|\"Rick Bennette \"\"...|  [1, 1]|      5|          1377648000|The primary job o...| Positive|2013|   08|  28|\n",
            "|A2C00NNG1ZQQG2|1384719342|\"RustyBill \"\"Sund...|  [0, 0]|      5|          1392336000|Nice windscreen p...| Positive|2014|   02|  14|\n",
            "| A94QU4C90B1AX|1384719342|       SEAN MASLANKA|  [0, 0]|      5|          1392940800|This pop filter i...| Positive|2014|   02|  21|\n",
            "+--------------+----------+--------------------+--------+-------+--------------------+--------------------+---------+----+-----+----+\n",
            "only showing top 5 rows\n",
            "\n"
          ]
        }
      ],
      "source": [
        "\n",
        "\n",
        "# Split 'reviewTime' into 'date' and 'year'\n",
        "df = df.withColumn('date', split(df['reviewTime'], ',').getItem(0))\n",
        "df = df.withColumn('year', trim(split(df['reviewTime'], ',').getItem(1)))\n",
        "\n",
        "# Split 'date' into 'month' and 'day'\n",
        "df = df.withColumn('month', split(df['date'], ' ').getItem(0))\n",
        "df = df.withColumn('day', split(df['date'], ' ').getItem(1))\n",
        "\n",
        "# Drop 'reviewTime' and 'date' columns\n",
        "df = df.drop('reviewTime', 'date')\n",
        "\n",
        "# Show the result\n",
        "df.show(5)\n"
      ]
    },
    {
      "cell_type": "code",
      "execution_count": 34,
      "metadata": {
        "id": "3mgpgdYq0t5N"
      },
      "outputs": [],
      "source": [
        "df = df.drop('reviewerName', 'unixReviewTime')"
      ]
    },
    {
      "cell_type": "code",
      "execution_count": 35,
      "metadata": {
        "id": "BMBD0H680t5N"
      },
      "outputs": [],
      "source": [
        "def clean_review(text):\n",
        "    text = str(text).lower()\n",
        "    text = re.sub('\\[.*?\\]', '', text)\n",
        "    text = re.sub('https?://\\S+|www\\.\\S+', '', text)\n",
        "    text = re.sub('<.*?>+', '', text)\n",
        "    text = re.sub('[%s]' % re.escape(string.punctuation), '', text)\n",
        "    text = re.sub('\\n', '', text)\n",
        "    text = re.sub('\\w*\\d\\w*', '', text)\n",
        "    return text"
      ]
    },
    {
      "cell_type": "code",
      "execution_count": 36,
      "metadata": {
        "id": "ex3Rrd3S0t5N"
      },
      "outputs": [],
      "source": [
        "clean_review_udf = udf(clean_review, StringType())"
      ]
    },
    {
      "cell_type": "code",
      "execution_count": 37,
      "metadata": {
        "id": "Dpn7uB810t5O"
      },
      "outputs": [],
      "source": [
        "df = df.withColumn('reviews', clean_review_udf(df['reviews']))"
      ]
    },
    {
      "cell_type": "code",
      "execution_count": 38,
      "metadata": {
        "colab": {
          "base_uri": "https://localhost:8080/"
        },
        "id": "q50_o5qv0t5O",
        "outputId": "5da85f8c-a730-4dd2-f2b0-1e99bb928b33"
      },
      "outputs": [
        {
          "output_type": "stream",
          "name": "stdout",
          "text": [
            "+--------------+----------+--------+-------+--------------------+---------+----+-----+----+\n",
            "|    reviewerID|      asin| helpful|overall|             reviews|Sentiment|year|month| day|\n",
            "+--------------+----------+--------+-------+--------------------+---------+----+-----+----+\n",
            "|A2IBPI20UZIR0U|1384719342|    well|   NULL|     thats just like|  Unknown|NULL|  5.0|NULL|\n",
            "|A14VAT5EAX3D9S|1384719342|[13, 14]|      5|the product does ...| Positive|2013|   03|  16|\n",
            "|A195EZSQDW3E21|1384719342|  [1, 1]|      5|the primary job o...| Positive|2013|   08|  28|\n",
            "|A2C00NNG1ZQQG2|1384719342|  [0, 0]|      5|nice windscreen p...| Positive|2014|   02|  14|\n",
            "| A94QU4C90B1AX|1384719342|  [0, 0]|      5|this pop filter i...| Positive|2014|   02|  21|\n",
            "+--------------+----------+--------+-------+--------------------+---------+----+-----+----+\n",
            "only showing top 5 rows\n",
            "\n"
          ]
        }
      ],
      "source": [
        "df.show(5)\n"
      ]
    },
    {
      "cell_type": "code",
      "execution_count": 39,
      "metadata": {
        "id": "nPhDCRsr0t5O"
      },
      "outputs": [],
      "source": [
        "stop_words= ['yourselves', 'between', 'whom', 'itself', 'is', \"she's\", 'up', 'herself', 'here', 'your', 'each',\n",
        "             'we', 'he', 'my', \"you've\", 'having', 'in', 'both', 'for', 'themselves', 'are', 'them', 'other',\n",
        "             'and', 'an', 'during', 'their', 'can', 'yourself', 'she', 'until', 'so', 'these', 'ours', 'above',\n",
        "             'what', 'while', 'have', 're', 'more', 'only', \"needn't\", 'when', 'just', 'that', 'were', \"don't\",\n",
        "             'very', 'should', 'any', 'y', 'isn', 'who',  'a', 'they', 'to', 'too', \"should've\", 'has', 'before',\n",
        "             'into', 'yours', \"it's\", 'do', 'against', 'on',  'now', 'her', 've', 'd', 'by', 'am', 'from',\n",
        "             'about', 'further', \"that'll\", \"you'd\", 'you', 'as', 'how', 'been', 'the', 'or', 'doing', 'such',\n",
        "             'his', 'himself', 'ourselves',  'was', 'through', 'out', 'below', 'own', 'myself', 'theirs',\n",
        "             'me', 'why', 'once',  'him', 'than', 'be', 'most', \"you'll\", 'same', 'some', 'with', 'few', 'it',\n",
        "             'at', 'after', 'its', 'which', 'there','our', 'this', 'hers', 'being', 'did', 'of', 'had', 'under',\n",
        "             'over','again', 'where', 'those', 'then', \"you're\", 'i', 'because', 'does', 'all']\n",
        "\n",
        "def remove_stopwords(text):\n",
        "    if text is None:\n",
        "        return \"\"\n",
        "    words = text.split()\n",
        "    filtered = [word for word in words if word not in stop_words]\n",
        "    return ' '.join(filtered)\n",
        "\n",
        "remove_stopwords_udf = udf(remove_stopwords, StringType())\n"
      ]
    },
    {
      "cell_type": "code",
      "execution_count": 40,
      "metadata": {
        "id": "djl6ft670t5P"
      },
      "outputs": [],
      "source": [
        "df = df.withColumn('reviews', remove_stopwords_udf(df['reviews']))"
      ]
    },
    {
      "cell_type": "code",
      "execution_count": 41,
      "metadata": {
        "id": "Mahe82I10t5P"
      },
      "outputs": [],
      "source": [
        "def get_polarity(text):\n",
        "    try:\n",
        "        return float(TextBlob(str(text)).sentiment.polarity)\n",
        "    except:\n",
        "        return 0.0\n",
        "\n",
        "polarity_udf = udf(get_polarity, FloatType())\n",
        "df = df.withColumn('polarity', polarity_udf(df['reviews']))"
      ]
    },
    {
      "cell_type": "code",
      "execution_count": 42,
      "metadata": {
        "colab": {
          "base_uri": "https://localhost:8080/"
        },
        "id": "Jb5k91AW0t5P",
        "outputId": "ed0f73c2-308b-426b-9652-ed2bd58d18ce"
      },
      "outputs": [
        {
          "output_type": "stream",
          "name": "stdout",
          "text": [
            "+--------------------+-----------+----------+----------+\n",
            "|             reviews|   polarity|review_len|word_count|\n",
            "+--------------------+-----------+----------+----------+\n",
            "|          thats like|        0.0|        10|         2|\n",
            "|product exactly q...|0.014285714|       356|        55|\n",
            "|primary job devic...|     0.1675|       315|        48|\n",
            "|nice windscreen p...| 0.33333334|       169|        22|\n",
            "|pop filter great ...|        0.8|       136|        21|\n",
            "+--------------------+-----------+----------+----------+\n",
            "only showing top 5 rows\n",
            "\n"
          ]
        }
      ],
      "source": [
        "df = df.withColumn('review_len', length(df['reviews']))\n",
        "df = df.withColumn('word_count', size(split(df['reviews'], ' ')))\n",
        "\n",
        "df.select('reviews', 'polarity', 'review_len', 'word_count').show(5)"
      ]
    },
    {
      "cell_type": "code",
      "execution_count": 43,
      "metadata": {
        "id": "rq2Cjb5f0t5P"
      },
      "outputs": [],
      "source": [
        "positive_review = df.filter(df[\"Sentiment\"] == 'Positive').na.drop()\n",
        "neutral_review  = df.filter(df[\"Sentiment\"] == 'Neutral').na.drop()\n",
        "negative_review = df.filter(df[\"Sentiment\"] == 'Negative').na.drop()"
      ]
    },
    {
      "cell_type": "code",
      "execution_count": 44,
      "metadata": {
        "colab": {
          "base_uri": "https://localhost:8080/"
        },
        "id": "vJSGfH150t5P",
        "outputId": "0c7b983a-8989-4057-e9e6-d4cc0870f67f"
      },
      "outputs": [
        {
          "output_type": "stream",
          "name": "stdout",
          "text": [
            "+--------------+----------+-------+-------+--------------------+---------+----+-----+---+------------+----------+----------+\n",
            "|    reviewerID|      asin|helpful|overall|             reviews|Sentiment|year|month|day|    polarity|review_len|word_count|\n",
            "+--------------+----------+-------+-------+--------------------+---------+----+-----+---+------------+----------+----------+\n",
            "|A2PD27UKAD3Q00|B00005ML71| [0, 0]|      2|bought use keyboa...| Negative|2013|   08| 17|  0.26944444|       430|        63|\n",
            "|A12ABV9NU02O29|B000068NW5| [2, 2]|      2|didnt expect cabl...| Negative|2011|   07|  6|-0.018707482|       281|        41|\n",
            "|A1L7M2JXN4EZCR|B000068NW5| [0, 0]|      1|hums crackles thi...| Negative|2014|   02|  9|         0.6|       183|        29|\n",
            "|A3UD50M7M72150|B000068NW5| [0, 0]|      1|im procheapo hate...| Negative|2014|   03| 14|       -0.25|       106|        16|\n",
            "|A1W3CEEQBJ4GTN|B000068NZC| [0, 0]|      2|bought canon vixi...| Negative|2013|   09| 16|   0.0734127|       620|       100|\n",
            "| AEN6KDJ3AJDK6|B000068O4H| [0, 2]|      2|got plug xlr cabl...| Negative|2013|   12| 30|        -0.5|       106|        18|\n",
            "|A3AOB0VF6H0IF4|B000165DSM| [0, 0]|      1|received time sta...| Negative|2013|   01| 27|         0.0|       158|        24|\n",
            "|A27DR1VO079F1V|B000165DSM| [0, 0]|      1|things terrible o...| Negative|2014|   02| 19| -0.40357143|       119|        17|\n",
            "| AAGD3GA9ZVPLQ|B0002CZSJO| [0, 0]|      2|handle spring str...| Negative|2013|   09| 19| 0.036666665|       187|        31|\n",
            "| AH0XON4XDOF2C|B0002CZTIO| [1, 1]|      2|good but think bi...| Negative|2014|   01| 25|         0.1|        73|        13|\n",
            "+--------------+----------+-------+-------+--------------------+---------+----+-----+---+------------+----------+----------+\n",
            "only showing top 10 rows\n",
            "\n"
          ]
        }
      ],
      "source": [
        "negative_review.show(10)"
      ]
    },
    {
      "cell_type": "code",
      "execution_count": 45,
      "metadata": {
        "colab": {
          "base_uri": "https://localhost:8080/"
        },
        "id": "2tlUKusF0t5Q",
        "outputId": "ea3b3633-3963-4e70-a6d4-eae471cf789e"
      },
      "outputs": [
        {
          "output_type": "stream",
          "name": "stdout",
          "text": [
            "root\n",
            " |-- reviewerID: string (nullable = true)\n",
            " |-- asin: string (nullable = true)\n",
            " |-- helpful: string (nullable = true)\n",
            " |-- overall: integer (nullable = true)\n",
            " |-- reviews: string (nullable = true)\n",
            " |-- Sentiment: string (nullable = true)\n",
            " |-- year: string (nullable = true)\n",
            " |-- month: string (nullable = true)\n",
            " |-- day: string (nullable = true)\n",
            " |-- polarity: float (nullable = true)\n",
            " |-- review_len: integer (nullable = true)\n",
            " |-- word_count: integer (nullable = false)\n",
            "\n"
          ]
        }
      ],
      "source": [
        "df.printSchema()\n"
      ]
    },
    {
      "cell_type": "code",
      "execution_count": 46,
      "metadata": {
        "colab": {
          "base_uri": "https://localhost:8080/"
        },
        "id": "2oyIxle40t5Q",
        "outputId": "63f89d8e-9fd8-4cd6-fd9d-76f8ec30688c"
      },
      "outputs": [
        {
          "output_type": "stream",
          "name": "stdout",
          "text": [
            "+---------+\n",
            "|Sentiment|\n",
            "+---------+\n",
            "|  Unknown|\n",
            "| Positive|\n",
            "| Positive|\n",
            "| Positive|\n",
            "| Positive|\n",
            "+---------+\n",
            "\n"
          ]
        }
      ],
      "source": [
        "df.select(\"Sentiment\").limit(5).show()\n"
      ]
    },
    {
      "cell_type": "code",
      "execution_count": 47,
      "metadata": {
        "colab": {
          "base_uri": "https://localhost:8080/"
        },
        "id": "WAAsyj--0t5Q",
        "outputId": "ac74cd74-fc1d-4291-efec-a367ece4b3d5"
      },
      "outputs": [
        {
          "output_type": "stream",
          "name": "stdout",
          "text": [
            "+--------------+----------+--------+-------+--------------------+---------+----+-----+----+-----------+----------+----------+\n",
            "|    reviewerID|      asin| helpful|overall|             reviews|Sentiment|year|month| day|   polarity|review_len|word_count|\n",
            "+--------------+----------+--------+-------+--------------------+---------+----+-----+----+-----------+----------+----------+\n",
            "|A2IBPI20UZIR0U|1384719342|    well|   NULL|          thats like|  Unknown|NULL|  5.0|NULL|        0.0|        10|         2|\n",
            "|A14VAT5EAX3D9S|1384719342|[13, 14]|      5|product exactly q...| Positive|2013|   03|  16|0.014285714|       356|        55|\n",
            "|A195EZSQDW3E21|1384719342|  [1, 1]|      5|primary job devic...| Positive|2013|   08|  28|     0.1675|       315|        48|\n",
            "|A2C00NNG1ZQQG2|1384719342|  [0, 0]|      5|nice windscreen p...| Positive|2014|   02|  14| 0.33333334|       169|        22|\n",
            "| A94QU4C90B1AX|1384719342|  [0, 0]|      5|pop filter great ...| Positive|2014|   02|  21|        0.8|       136|        21|\n",
            "+--------------+----------+--------+-------+--------------------+---------+----+-----+----+-----------+----------+----------+\n",
            "only showing top 5 rows\n",
            "\n"
          ]
        }
      ],
      "source": [
        "df.show(5)"
      ]
    },
    {
      "cell_type": "code",
      "execution_count": 48,
      "metadata": {
        "colab": {
          "base_uri": "https://localhost:8080/"
        },
        "id": "Yp1t3pFW0t5Q",
        "outputId": "29c56e98-d53c-4d77-bc78-b31f16255c3b"
      },
      "outputs": [
        {
          "output_type": "execute_result",
          "data": {
            "text/plain": [
              "DataFrame[reviewerID: string, asin: string, helpful: string, overall: int, reviews: string, Sentiment: string, year: string, month: string, day: string, polarity: float, review_len: int, word_count: int]"
            ]
          },
          "metadata": {},
          "execution_count": 48
        }
      ],
      "source": [
        "df.cache()\n"
      ]
    },
    {
      "cell_type": "code",
      "execution_count": 49,
      "metadata": {
        "id": "ztbIgI0w0t5R"
      },
      "outputs": [],
      "source": [
        "# pdf = df.select(\"*\").toPandas()\n",
        "# from sklearn import preprocessing\n",
        "\n",
        "# le = preprocessing.LabelEncoder()\n",
        "# pdf['Sentiment'] = le.fit_transform(pdf['Sentiment'])\n",
        "# df = spark.createDataFrame(pdf)"
      ]
    },
    {
      "cell_type": "code",
      "execution_count": 50,
      "metadata": {
        "colab": {
          "base_uri": "https://localhost:8080/"
        },
        "id": "xqIEvnz50t5R",
        "outputId": "10e87c5e-e202-49d6-caa5-cccb3b04e981"
      },
      "outputs": [
        {
          "output_type": "stream",
          "name": "stdout",
          "text": [
            "+---------+-----------------+\n",
            "|Sentiment|Sentiment_Indexed|\n",
            "+---------+-----------------+\n",
            "| Positive|              0.0|\n",
            "|  Unknown|              1.0|\n",
            "|  Neutral|              2.0|\n",
            "| Negative|              3.0|\n",
            "+---------+-----------------+\n",
            "\n"
          ]
        }
      ],
      "source": [
        "from pyspark.ml.feature import StringIndexer\n",
        "\n",
        "indexer = StringIndexer(inputCol=\"Sentiment\", outputCol=\"Sentiment_Indexed\")\n",
        "indexer_model = indexer.fit(df)\n",
        "df = indexer_model.transform(df)\n",
        "df.select(\"Sentiment\", \"Sentiment_Indexed\").distinct().show()"
      ]
    },
    {
      "cell_type": "code",
      "execution_count": 51,
      "metadata": {
        "colab": {
          "base_uri": "https://localhost:8080/"
        },
        "id": "wxhjdPHE0t5U",
        "outputId": "088f5f71-efab-477d-b791-3b6568093a29"
      },
      "outputs": [
        {
          "output_type": "stream",
          "name": "stdout",
          "text": [
            "+---------+-----------------+\n",
            "|Sentiment|Sentiment_Indexed|\n",
            "+---------+-----------------+\n",
            "| Positive|              2.0|\n",
            "| Negative|              0.0|\n",
            "|  Neutral|              1.0|\n",
            "+---------+-----------------+\n",
            "\n"
          ]
        }
      ],
      "source": [
        "from pyspark.sql import SparkSession\n",
        "from pyspark.ml.feature import StringIndexer\n",
        "\n",
        "spark = SparkSession.builder.getOrCreate()\n",
        "data = [(\"Positive\",), (\"Negative\",), (\"Neutral\",)]\n",
        "df2 = spark.createDataFrame(data, [\"Sentiment\"])\n",
        "indexer = StringIndexer(inputCol=\"Sentiment\", outputCol=\"Sentiment_Indexed\")\n",
        "model = indexer.fit(df2)\n",
        "df2 = model.transform(df2)\n",
        "df2.show()"
      ]
    },
    {
      "cell_type": "code",
      "source": [
        "df.groupBy('Sentiment').count().orderBy('count', ascending=False).show()"
      ],
      "metadata": {
        "colab": {
          "base_uri": "https://localhost:8080/"
        },
        "id": "t2UAfhQu1YNf",
        "outputId": "4475ba73-37bb-4ee8-8ddf-b58549d911c9"
      },
      "execution_count": 52,
      "outputs": [
        {
          "output_type": "stream",
          "name": "stdout",
          "text": [
            "+---------+-----+\n",
            "|Sentiment|count|\n",
            "+---------+-----+\n",
            "| Positive| 8387|\n",
            "|  Unknown|  753|\n",
            "|  Neutral|  699|\n",
            "| Negative|  422|\n",
            "+---------+-----+\n",
            "\n"
          ]
        }
      ]
    },
    {
      "cell_type": "code",
      "source": [
        "# Extracting 'reviews' for processing\n",
        "df_features = df.select(\"reviews\").alias(\"review_features\")\n",
        "df_features.show(5)"
      ],
      "metadata": {
        "colab": {
          "base_uri": "https://localhost:8080/"
        },
        "id": "KKKGwwyw1sSg",
        "outputId": "62206c98-a960-4794-a0f0-27eb131999fa"
      },
      "execution_count": 53,
      "outputs": [
        {
          "output_type": "stream",
          "name": "stdout",
          "text": [
            "+--------------------+\n",
            "|             reviews|\n",
            "+--------------------+\n",
            "|          thats like|\n",
            "|product exactly q...|\n",
            "|primary job devic...|\n",
            "|nice windscreen p...|\n",
            "|pop filter great ...|\n",
            "+--------------------+\n",
            "only showing top 5 rows\n",
            "\n"
          ]
        }
      ]
    },
    {
      "cell_type": "code",
      "source": [
        "review_features = df"
      ],
      "metadata": {
        "id": "kpKhrH1m788B"
      },
      "execution_count": 54,
      "outputs": []
    },
    {
      "cell_type": "code",
      "source": [
        "df2=df.toPandas()"
      ],
      "metadata": {
        "id": "uA3ioCO9Kgwi"
      },
      "execution_count": 55,
      "outputs": []
    },
    {
      "cell_type": "code",
      "source": [
        "df2.head()"
      ],
      "metadata": {
        "colab": {
          "base_uri": "https://localhost:8080/",
          "height": 536
        },
        "id": "poI52KJWKk8k",
        "outputId": "6dae8bbf-ffb5-475a-badd-ab25ed3d20c0"
      },
      "execution_count": 56,
      "outputs": [
        {
          "output_type": "execute_result",
          "data": {
            "text/plain": [
              "       reviewerID        asin   helpful  overall  \\\n",
              "0  A2IBPI20UZIR0U  1384719342      well      NaN   \n",
              "1  A14VAT5EAX3D9S  1384719342  [13, 14]      5.0   \n",
              "2  A195EZSQDW3E21  1384719342    [1, 1]      5.0   \n",
              "3  A2C00NNG1ZQQG2  1384719342    [0, 0]      5.0   \n",
              "4   A94QU4C90B1AX  1384719342    [0, 0]      5.0   \n",
              "\n",
              "                                             reviews Sentiment  year month  \\\n",
              "0                                         thats like   Unknown  None   5.0   \n",
              "1  product exactly quite affordablei not realized...  Positive  2013    03   \n",
              "2  primary job device block breath would otherwis...  Positive  2013    08   \n",
              "3  nice windscreen protects mxl mic prevents pops...  Positive  2014    02   \n",
              "4  pop filter great looks performs like studio fi...  Positive  2014    02   \n",
              "\n",
              "    day  polarity  review_len  word_count  Sentiment_Indexed  \n",
              "0  None  0.000000          10           2                1.0  \n",
              "1    16  0.014286         356          55                0.0  \n",
              "2    28  0.167500         315          48                0.0  \n",
              "3    14  0.333333         169          22                0.0  \n",
              "4    21  0.800000         136          21                0.0  "
            ],
            "text/html": [
              "\n",
              "  <div id=\"df-2c553a04-17d9-43a6-bb68-6d58ec470b13\" class=\"colab-df-container\">\n",
              "    <div>\n",
              "<style scoped>\n",
              "    .dataframe tbody tr th:only-of-type {\n",
              "        vertical-align: middle;\n",
              "    }\n",
              "\n",
              "    .dataframe tbody tr th {\n",
              "        vertical-align: top;\n",
              "    }\n",
              "\n",
              "    .dataframe thead th {\n",
              "        text-align: right;\n",
              "    }\n",
              "</style>\n",
              "<table border=\"1\" class=\"dataframe\">\n",
              "  <thead>\n",
              "    <tr style=\"text-align: right;\">\n",
              "      <th></th>\n",
              "      <th>reviewerID</th>\n",
              "      <th>asin</th>\n",
              "      <th>helpful</th>\n",
              "      <th>overall</th>\n",
              "      <th>reviews</th>\n",
              "      <th>Sentiment</th>\n",
              "      <th>year</th>\n",
              "      <th>month</th>\n",
              "      <th>day</th>\n",
              "      <th>polarity</th>\n",
              "      <th>review_len</th>\n",
              "      <th>word_count</th>\n",
              "      <th>Sentiment_Indexed</th>\n",
              "    </tr>\n",
              "  </thead>\n",
              "  <tbody>\n",
              "    <tr>\n",
              "      <th>0</th>\n",
              "      <td>A2IBPI20UZIR0U</td>\n",
              "      <td>1384719342</td>\n",
              "      <td>well</td>\n",
              "      <td>NaN</td>\n",
              "      <td>thats like</td>\n",
              "      <td>Unknown</td>\n",
              "      <td>None</td>\n",
              "      <td>5.0</td>\n",
              "      <td>None</td>\n",
              "      <td>0.000000</td>\n",
              "      <td>10</td>\n",
              "      <td>2</td>\n",
              "      <td>1.0</td>\n",
              "    </tr>\n",
              "    <tr>\n",
              "      <th>1</th>\n",
              "      <td>A14VAT5EAX3D9S</td>\n",
              "      <td>1384719342</td>\n",
              "      <td>[13, 14]</td>\n",
              "      <td>5.0</td>\n",
              "      <td>product exactly quite affordablei not realized...</td>\n",
              "      <td>Positive</td>\n",
              "      <td>2013</td>\n",
              "      <td>03</td>\n",
              "      <td>16</td>\n",
              "      <td>0.014286</td>\n",
              "      <td>356</td>\n",
              "      <td>55</td>\n",
              "      <td>0.0</td>\n",
              "    </tr>\n",
              "    <tr>\n",
              "      <th>2</th>\n",
              "      <td>A195EZSQDW3E21</td>\n",
              "      <td>1384719342</td>\n",
              "      <td>[1, 1]</td>\n",
              "      <td>5.0</td>\n",
              "      <td>primary job device block breath would otherwis...</td>\n",
              "      <td>Positive</td>\n",
              "      <td>2013</td>\n",
              "      <td>08</td>\n",
              "      <td>28</td>\n",
              "      <td>0.167500</td>\n",
              "      <td>315</td>\n",
              "      <td>48</td>\n",
              "      <td>0.0</td>\n",
              "    </tr>\n",
              "    <tr>\n",
              "      <th>3</th>\n",
              "      <td>A2C00NNG1ZQQG2</td>\n",
              "      <td>1384719342</td>\n",
              "      <td>[0, 0]</td>\n",
              "      <td>5.0</td>\n",
              "      <td>nice windscreen protects mxl mic prevents pops...</td>\n",
              "      <td>Positive</td>\n",
              "      <td>2014</td>\n",
              "      <td>02</td>\n",
              "      <td>14</td>\n",
              "      <td>0.333333</td>\n",
              "      <td>169</td>\n",
              "      <td>22</td>\n",
              "      <td>0.0</td>\n",
              "    </tr>\n",
              "    <tr>\n",
              "      <th>4</th>\n",
              "      <td>A94QU4C90B1AX</td>\n",
              "      <td>1384719342</td>\n",
              "      <td>[0, 0]</td>\n",
              "      <td>5.0</td>\n",
              "      <td>pop filter great looks performs like studio fi...</td>\n",
              "      <td>Positive</td>\n",
              "      <td>2014</td>\n",
              "      <td>02</td>\n",
              "      <td>21</td>\n",
              "      <td>0.800000</td>\n",
              "      <td>136</td>\n",
              "      <td>21</td>\n",
              "      <td>0.0</td>\n",
              "    </tr>\n",
              "  </tbody>\n",
              "</table>\n",
              "</div>\n",
              "    <div class=\"colab-df-buttons\">\n",
              "\n",
              "  <div class=\"colab-df-container\">\n",
              "    <button class=\"colab-df-convert\" onclick=\"convertToInteractive('df-2c553a04-17d9-43a6-bb68-6d58ec470b13')\"\n",
              "            title=\"Convert this dataframe to an interactive table.\"\n",
              "            style=\"display:none;\">\n",
              "\n",
              "  <svg xmlns=\"http://www.w3.org/2000/svg\" height=\"24px\" viewBox=\"0 -960 960 960\">\n",
              "    <path d=\"M120-120v-720h720v720H120Zm60-500h600v-160H180v160Zm220 220h160v-160H400v160Zm0 220h160v-160H400v160ZM180-400h160v-160H180v160Zm440 0h160v-160H620v160ZM180-180h160v-160H180v160Zm440 0h160v-160H620v160Z\"/>\n",
              "  </svg>\n",
              "    </button>\n",
              "\n",
              "  <style>\n",
              "    .colab-df-container {\n",
              "      display:flex;\n",
              "      gap: 12px;\n",
              "    }\n",
              "\n",
              "    .colab-df-convert {\n",
              "      background-color: #E8F0FE;\n",
              "      border: none;\n",
              "      border-radius: 50%;\n",
              "      cursor: pointer;\n",
              "      display: none;\n",
              "      fill: #1967D2;\n",
              "      height: 32px;\n",
              "      padding: 0 0 0 0;\n",
              "      width: 32px;\n",
              "    }\n",
              "\n",
              "    .colab-df-convert:hover {\n",
              "      background-color: #E2EBFA;\n",
              "      box-shadow: 0px 1px 2px rgba(60, 64, 67, 0.3), 0px 1px 3px 1px rgba(60, 64, 67, 0.15);\n",
              "      fill: #174EA6;\n",
              "    }\n",
              "\n",
              "    .colab-df-buttons div {\n",
              "      margin-bottom: 4px;\n",
              "    }\n",
              "\n",
              "    [theme=dark] .colab-df-convert {\n",
              "      background-color: #3B4455;\n",
              "      fill: #D2E3FC;\n",
              "    }\n",
              "\n",
              "    [theme=dark] .colab-df-convert:hover {\n",
              "      background-color: #434B5C;\n",
              "      box-shadow: 0px 1px 3px 1px rgba(0, 0, 0, 0.15);\n",
              "      filter: drop-shadow(0px 1px 2px rgba(0, 0, 0, 0.3));\n",
              "      fill: #FFFFFF;\n",
              "    }\n",
              "  </style>\n",
              "\n",
              "    <script>\n",
              "      const buttonEl =\n",
              "        document.querySelector('#df-2c553a04-17d9-43a6-bb68-6d58ec470b13 button.colab-df-convert');\n",
              "      buttonEl.style.display =\n",
              "        google.colab.kernel.accessAllowed ? 'block' : 'none';\n",
              "\n",
              "      async function convertToInteractive(key) {\n",
              "        const element = document.querySelector('#df-2c553a04-17d9-43a6-bb68-6d58ec470b13');\n",
              "        const dataTable =\n",
              "          await google.colab.kernel.invokeFunction('convertToInteractive',\n",
              "                                                    [key], {});\n",
              "        if (!dataTable) return;\n",
              "\n",
              "        const docLinkHtml = 'Like what you see? Visit the ' +\n",
              "          '<a target=\"_blank\" href=https://colab.research.google.com/notebooks/data_table.ipynb>data table notebook</a>'\n",
              "          + ' to learn more about interactive tables.';\n",
              "        element.innerHTML = '';\n",
              "        dataTable['output_type'] = 'display_data';\n",
              "        await google.colab.output.renderOutput(dataTable, element);\n",
              "        const docLink = document.createElement('div');\n",
              "        docLink.innerHTML = docLinkHtml;\n",
              "        element.appendChild(docLink);\n",
              "      }\n",
              "    </script>\n",
              "  </div>\n",
              "\n",
              "\n",
              "    <div id=\"df-8e73f42c-cd07-4fd2-9f43-c2e3bd5eb9f2\">\n",
              "      <button class=\"colab-df-quickchart\" onclick=\"quickchart('df-8e73f42c-cd07-4fd2-9f43-c2e3bd5eb9f2')\"\n",
              "                title=\"Suggest charts\"\n",
              "                style=\"display:none;\">\n",
              "\n",
              "<svg xmlns=\"http://www.w3.org/2000/svg\" height=\"24px\"viewBox=\"0 0 24 24\"\n",
              "     width=\"24px\">\n",
              "    <g>\n",
              "        <path d=\"M19 3H5c-1.1 0-2 .9-2 2v14c0 1.1.9 2 2 2h14c1.1 0 2-.9 2-2V5c0-1.1-.9-2-2-2zM9 17H7v-7h2v7zm4 0h-2V7h2v10zm4 0h-2v-4h2v4z\"/>\n",
              "    </g>\n",
              "</svg>\n",
              "      </button>\n",
              "\n",
              "<style>\n",
              "  .colab-df-quickchart {\n",
              "      --bg-color: #E8F0FE;\n",
              "      --fill-color: #1967D2;\n",
              "      --hover-bg-color: #E2EBFA;\n",
              "      --hover-fill-color: #174EA6;\n",
              "      --disabled-fill-color: #AAA;\n",
              "      --disabled-bg-color: #DDD;\n",
              "  }\n",
              "\n",
              "  [theme=dark] .colab-df-quickchart {\n",
              "      --bg-color: #3B4455;\n",
              "      --fill-color: #D2E3FC;\n",
              "      --hover-bg-color: #434B5C;\n",
              "      --hover-fill-color: #FFFFFF;\n",
              "      --disabled-bg-color: #3B4455;\n",
              "      --disabled-fill-color: #666;\n",
              "  }\n",
              "\n",
              "  .colab-df-quickchart {\n",
              "    background-color: var(--bg-color);\n",
              "    border: none;\n",
              "    border-radius: 50%;\n",
              "    cursor: pointer;\n",
              "    display: none;\n",
              "    fill: var(--fill-color);\n",
              "    height: 32px;\n",
              "    padding: 0;\n",
              "    width: 32px;\n",
              "  }\n",
              "\n",
              "  .colab-df-quickchart:hover {\n",
              "    background-color: var(--hover-bg-color);\n",
              "    box-shadow: 0 1px 2px rgba(60, 64, 67, 0.3), 0 1px 3px 1px rgba(60, 64, 67, 0.15);\n",
              "    fill: var(--button-hover-fill-color);\n",
              "  }\n",
              "\n",
              "  .colab-df-quickchart-complete:disabled,\n",
              "  .colab-df-quickchart-complete:disabled:hover {\n",
              "    background-color: var(--disabled-bg-color);\n",
              "    fill: var(--disabled-fill-color);\n",
              "    box-shadow: none;\n",
              "  }\n",
              "\n",
              "  .colab-df-spinner {\n",
              "    border: 2px solid var(--fill-color);\n",
              "    border-color: transparent;\n",
              "    border-bottom-color: var(--fill-color);\n",
              "    animation:\n",
              "      spin 1s steps(1) infinite;\n",
              "  }\n",
              "\n",
              "  @keyframes spin {\n",
              "    0% {\n",
              "      border-color: transparent;\n",
              "      border-bottom-color: var(--fill-color);\n",
              "      border-left-color: var(--fill-color);\n",
              "    }\n",
              "    20% {\n",
              "      border-color: transparent;\n",
              "      border-left-color: var(--fill-color);\n",
              "      border-top-color: var(--fill-color);\n",
              "    }\n",
              "    30% {\n",
              "      border-color: transparent;\n",
              "      border-left-color: var(--fill-color);\n",
              "      border-top-color: var(--fill-color);\n",
              "      border-right-color: var(--fill-color);\n",
              "    }\n",
              "    40% {\n",
              "      border-color: transparent;\n",
              "      border-right-color: var(--fill-color);\n",
              "      border-top-color: var(--fill-color);\n",
              "    }\n",
              "    60% {\n",
              "      border-color: transparent;\n",
              "      border-right-color: var(--fill-color);\n",
              "    }\n",
              "    80% {\n",
              "      border-color: transparent;\n",
              "      border-right-color: var(--fill-color);\n",
              "      border-bottom-color: var(--fill-color);\n",
              "    }\n",
              "    90% {\n",
              "      border-color: transparent;\n",
              "      border-bottom-color: var(--fill-color);\n",
              "    }\n",
              "  }\n",
              "</style>\n",
              "\n",
              "      <script>\n",
              "        async function quickchart(key) {\n",
              "          const quickchartButtonEl =\n",
              "            document.querySelector('#' + key + ' button');\n",
              "          quickchartButtonEl.disabled = true;  // To prevent multiple clicks.\n",
              "          quickchartButtonEl.classList.add('colab-df-spinner');\n",
              "          try {\n",
              "            const charts = await google.colab.kernel.invokeFunction(\n",
              "                'suggestCharts', [key], {});\n",
              "          } catch (error) {\n",
              "            console.error('Error during call to suggestCharts:', error);\n",
              "          }\n",
              "          quickchartButtonEl.classList.remove('colab-df-spinner');\n",
              "          quickchartButtonEl.classList.add('colab-df-quickchart-complete');\n",
              "        }\n",
              "        (() => {\n",
              "          let quickchartButtonEl =\n",
              "            document.querySelector('#df-8e73f42c-cd07-4fd2-9f43-c2e3bd5eb9f2 button');\n",
              "          quickchartButtonEl.style.display =\n",
              "            google.colab.kernel.accessAllowed ? 'block' : 'none';\n",
              "        })();\n",
              "      </script>\n",
              "    </div>\n",
              "\n",
              "    </div>\n",
              "  </div>\n"
            ],
            "application/vnd.google.colaboratory.intrinsic+json": {
              "type": "dataframe",
              "variable_name": "df2",
              "summary": "{\n  \"name\": \"df2\",\n  \"rows\": 10261,\n  \"fields\": [\n    {\n      \"column\": \"reviewerID\",\n      \"properties\": {\n        \"dtype\": \"category\",\n        \"num_unique_values\": 1429,\n        \"samples\": [\n          \"A3OJ0RGAECAGH8\",\n          \"AXMYGK3WC8BPP\",\n          \"A34WEXT7SIRFE4\"\n        ],\n        \"semantic_type\": \"\",\n        \"description\": \"\"\n      }\n    },\n    {\n      \"column\": \"asin\",\n      \"properties\": {\n        \"dtype\": \"category\",\n        \"num_unique_values\": 900,\n        \"samples\": [\n          \"B0002D0CNA\",\n          \"B007IHYBV2\",\n          \"B0002MJTZ8\"\n        ],\n        \"semantic_type\": \"\",\n        \"description\": \"\"\n      }\n    },\n    {\n      \"column\": \"helpful\",\n      \"properties\": {\n        \"dtype\": \"category\",\n        \"num_unique_values\": 278,\n        \"samples\": [\n          \"[4, 5]\",\n          \"[25, 26]\",\n          \"[0, 11]\"\n        ],\n        \"semantic_type\": \"\",\n        \"description\": \"\"\n      }\n    },\n    {\n      \"column\": \"overall\",\n      \"properties\": {\n        \"dtype\": \"number\",\n        \"std\": 0.8882539566965169,\n        \"min\": 1.0,\n        \"max\": 5.0,\n        \"num_unique_values\": 5,\n        \"samples\": [\n          3.0,\n          1.0,\n          4.0\n        ],\n        \"semantic_type\": \"\",\n        \"description\": \"\"\n      }\n    },\n    {\n      \"column\": \"reviews\",\n      \"properties\": {\n        \"dtype\": \"string\",\n        \"num_unique_values\": 10217,\n        \"samples\": [\n          \"bought hung fender strats wall comes mounting screws anchors needed mount properly couldnt happier productnice easy\",\n          \"mic fantastic ive singing writing recording almost years mic pretty much good silly expensive german mics ive used larger studios years theres slight presence peak but nothing like chinese mics isnt shrilling peaky male tenor vocals acoustic guitar sound great without need eq whatsoever beyond hi pass filter sub stuff mic also excellent candidate michael joly mod calls one audio wonders world makes no sense mic good michael mods mics youd hard pressed able tell difference one famous german name starts n im using totally stock great buy itlove\",\n          \"great amp but instructions minimal pretty worthless unless mixer use one instrument one microphone really puts sound though guess thats get amp used basketball gym turn gain fill place nice effects channelsgreat amp\"\n        ],\n        \"semantic_type\": \"\",\n        \"description\": \"\"\n      }\n    },\n    {\n      \"column\": \"Sentiment\",\n      \"properties\": {\n        \"dtype\": \"category\",\n        \"num_unique_values\": 4,\n        \"samples\": [\n          \"Positive\",\n          \"Negative\",\n          \"Unknown\"\n        ],\n        \"semantic_type\": \"\",\n        \"description\": \"\"\n      }\n    },\n    {\n      \"column\": \"year\",\n      \"properties\": {\n        \"dtype\": \"category\",\n        \"num_unique_values\": 24,\n        \"samples\": [\n          \"but does the job.\",\n          \"great value for my Seagull Entourage Rustic\",\n          \"2013\"\n        ],\n        \"semantic_type\": \"\",\n        \"description\": \"\"\n      }\n    },\n    {\n      \"column\": \"month\",\n      \"properties\": {\n        \"dtype\": \"category\",\n        \"num_unique_values\": 188,\n        \"samples\": [\n          \"1346976000\",\n          \"1385078400\",\n          \"Feels\"\n        ],\n        \"semantic_type\": \"\",\n        \"description\": \"\"\n      }\n    },\n    {\n      \"column\": \"day\",\n      \"properties\": {\n        \"dtype\": \"category\",\n        \"num_unique_values\": 276,\n        \"samples\": [\n          \"needed\",\n          \"tone\",\n          \"sweet!\"\n        ],\n        \"semantic_type\": \"\",\n        \"description\": \"\"\n      }\n    },\n    {\n      \"column\": \"polarity\",\n      \"properties\": {\n        \"dtype\": \"float32\",\n        \"num_unique_values\": 4856,\n        \"samples\": [\n          0.27000001072883606,\n          0.009651360101997852,\n          0.0979047641158104\n        ],\n        \"semantic_type\": \"\",\n        \"description\": \"\"\n      }\n    },\n    {\n      \"column\": \"review_len\",\n      \"properties\": {\n        \"dtype\": \"int32\",\n        \"num_unique_values\": 1158,\n        \"samples\": [\n          2289,\n          341,\n          156\n        ],\n        \"semantic_type\": \"\",\n        \"description\": \"\"\n      }\n    },\n    {\n      \"column\": \"word_count\",\n      \"properties\": {\n        \"dtype\": \"int32\",\n        \"num_unique_values\": 299,\n        \"samples\": [\n          343,\n          433,\n          127\n        ],\n        \"semantic_type\": \"\",\n        \"description\": \"\"\n      }\n    },\n    {\n      \"column\": \"Sentiment_Indexed\",\n      \"properties\": {\n        \"dtype\": \"number\",\n        \"std\": 0.7779308555456894,\n        \"min\": 0.0,\n        \"max\": 3.0,\n        \"num_unique_values\": 4,\n        \"samples\": [\n          0.0,\n          3.0,\n          1.0\n        ],\n        \"semantic_type\": \"\",\n        \"description\": \"\"\n      }\n    }\n  ]\n}"
            }
          },
          "metadata": {},
          "execution_count": 56
        }
      ]
    },
    {
      "cell_type": "code",
      "source": [
        "from pyspark.sql import SparkSession\n",
        "from pyspark.sql.functions import col, udf\n",
        "from pyspark.sql.types import ArrayType, StringType\n",
        "from pyspark.ml.feature import Tokenizer, HashingTF, IDF\n",
        "import nltk\n",
        "from nltk.stem import WordNetLemmatizer\n",
        "\n",
        "nltk.download('wordnet')"
      ],
      "metadata": {
        "colab": {
          "base_uri": "https://localhost:8080/"
        },
        "id": "b4bI7WnDMM8v",
        "outputId": "5d099e9b-6984-4b06-8c92-4b16ba1b2eab"
      },
      "execution_count": 57,
      "outputs": [
        {
          "output_type": "stream",
          "name": "stderr",
          "text": [
            "[nltk_data] Downloading package wordnet to /root/nltk_data...\n"
          ]
        },
        {
          "output_type": "execute_result",
          "data": {
            "text/plain": [
              "True"
            ]
          },
          "metadata": {},
          "execution_count": 57
        }
      ]
    },
    {
      "cell_type": "code",
      "source": [
        "# 1. Tokenization\n",
        "tokenizer = Tokenizer(inputCol=\"reviews\", outputCol=\"words\")\n",
        "df_tokenized = tokenizer.transform(df)\n",
        "df_tokenized.show()"
      ],
      "metadata": {
        "colab": {
          "base_uri": "https://localhost:8080/"
        },
        "id": "gh5NG3dQMTdk",
        "outputId": "782f9b0e-d5f6-4f76-bf66-25c28cb2e36f"
      },
      "execution_count": 58,
      "outputs": [
        {
          "output_type": "stream",
          "name": "stdout",
          "text": [
            "+--------------+----------+--------+-------+--------------------+---------+----+-----+----+-----------+----------+----------+-----------------+--------------------+\n",
            "|    reviewerID|      asin| helpful|overall|             reviews|Sentiment|year|month| day|   polarity|review_len|word_count|Sentiment_Indexed|               words|\n",
            "+--------------+----------+--------+-------+--------------------+---------+----+-----+----+-----------+----------+----------+-----------------+--------------------+\n",
            "|A2IBPI20UZIR0U|1384719342|    well|   NULL|          thats like|  Unknown|NULL|  5.0|NULL|        0.0|        10|         2|              1.0|       [thats, like]|\n",
            "|A14VAT5EAX3D9S|1384719342|[13, 14]|      5|product exactly q...| Positive|2013|   03|  16|0.014285714|       356|        55|              0.0|[product, exactly...|\n",
            "|A195EZSQDW3E21|1384719342|  [1, 1]|      5|primary job devic...| Positive|2013|   08|  28|     0.1675|       315|        48|              0.0|[primary, job, de...|\n",
            "|A2C00NNG1ZQQG2|1384719342|  [0, 0]|      5|nice windscreen p...| Positive|2014|   02|  14| 0.33333334|       169|        22|              0.0|[nice, windscreen...|\n",
            "| A94QU4C90B1AX|1384719342|  [0, 0]|      5|pop filter great ...| Positive|2014|   02|  21|        0.8|       136|        21|              0.0|[pop, filter, gre...|\n",
            "|A2A039TZMZHH9Y|B00004Y2UT|  [0, 0]|      5|good bought anoth...| Positive|2012|   12|  21|    0.31875|       180|        29|              0.0|[good, bought, an...|\n",
            "|A1UPZM995ZAH90|B00004Y2UT|  [0, 0]|      5|used monster cabl...| Positive|2014|   01|  19|       0.25|       162|        24|              0.0|[used, monster, c...|\n",
            "| AJNFQI3YR6XJ5|B00004Y2UT|  [0, 0]|      3|use cable run out...|  Neutral|2012|   11|  16|0.017651515|       538|        87|              2.0|[use, cable, run,...|\n",
            "|A3M1PLEYNDEYO8|B00004Y2UT|  [0, 0]|      5|perfect epiphone ...| Positive|2008|   07|   6|        0.5|       127|        18|              0.0|[perfect, epiphon...|\n",
            "| AMNTZU1YQN1TH|B00004Y2UT|  [0, 0]|      5|monster makes bes...| Positive|2014|   01|   8|       0.33|       178|        28|              0.0|[monster, makes, ...|\n",
            "|A2NYK9KWFMJV4Y|B00004Y2UT|  [6, 6]|      5|monster makes wid...| Positive|2012|   04|  19|  0.0654386|       767|       109|              0.0|[monster, makes, ...|\n",
            "|A35QFQI0M46LWO|B00005ML71|  [0, 0]|      4|got if needed fou...| Positive|2014|   04|  22| 0.34166667|       129|        24|              0.0|[got, if, needed,...|\n",
            "|A2NIT6BKW11XJQ|B00005ML71|  [0, 0]|      3|if not use using ...|  Neutral|2013|   11|  17|0.013392857|        95|        16|              2.0|[if, not, use, us...|\n",
            "|A1C0O09LOLVI39|B00005ML71|  [0, 0]|      5|love used yamaha ...| Positive|2013|   06|  16|       0.65|        58|         8|              0.0|[love, used, yama...|\n",
            "|A17SLR18TUMULM|B00005ML71|  [0, 0]|      5|bought use home s...| Positive|2012|   12|  31|        0.0|        62|        10|              0.0|[bought, use, hom...|\n",
            "|A2PD27UKAD3Q00|B00005ML71|  [0, 0]|      2|bought use keyboa...| Negative|2013|   08|  17| 0.26944444|       430|        63|              3.0|[bought, use, key...|\n",
            "| AKSFZ4G1AXYFC|B000068NSX|  [0, 0]|      4|fender cable perf...| Positive|2013|   08|  13| 0.36190477|       261|        39|              0.0|[fender, cable, p...|\n",
            "| A67OJZLHBBUQ9|B000068NSX|  [0, 0]|      5|wanted looks alon...| Positive|2013|   07|   9|       0.44|       202|        33|              0.0|[wanted, looks, a...|\n",
            "|A2EZWZ8MBEDOLN|B000068NSX|  [3, 3]|      5|ive using cables ...| Positive|2013|   03|  18|0.115626104|      1038|       150|              0.0|[ive, using, cabl...|\n",
            "|A1CL807EOUPVP1|B000068NSX|  [0, 0]|      5|fender cords look...| Positive|2013|   08|   7| 0.56666666|       122|        19|              0.0|[fender, cords, l...|\n",
            "+--------------+----------+--------+-------+--------------------+---------+----+-----+----+-----------+----------+----------+-----------------+--------------------+\n",
            "only showing top 20 rows\n",
            "\n"
          ]
        }
      ]
    },
    {
      "cell_type": "code",
      "source": [
        "df_tokenized.printSchema()"
      ],
      "metadata": {
        "colab": {
          "base_uri": "https://localhost:8080/"
        },
        "id": "lWuVy_EzhJsI",
        "outputId": "7b21a68d-2091-4754-8749-49064466477a"
      },
      "execution_count": 59,
      "outputs": [
        {
          "output_type": "stream",
          "name": "stdout",
          "text": [
            "root\n",
            " |-- reviewerID: string (nullable = true)\n",
            " |-- asin: string (nullable = true)\n",
            " |-- helpful: string (nullable = true)\n",
            " |-- overall: integer (nullable = true)\n",
            " |-- reviews: string (nullable = true)\n",
            " |-- Sentiment: string (nullable = true)\n",
            " |-- year: string (nullable = true)\n",
            " |-- month: string (nullable = true)\n",
            " |-- day: string (nullable = true)\n",
            " |-- polarity: float (nullable = true)\n",
            " |-- review_len: integer (nullable = true)\n",
            " |-- word_count: integer (nullable = false)\n",
            " |-- Sentiment_Indexed: double (nullable = false)\n",
            " |-- words: array (nullable = true)\n",
            " |    |-- element: string (containsNull = true)\n",
            "\n"
          ]
        }
      ]
    },
    {
      "cell_type": "code",
      "source": [
        "# # cHECKING FOR MISSPELLED WORDS\n",
        "# # Configuration\n",
        "\n",
        "# DOMAIN_WORDS = [\n",
        "#     \"epiphone\", \"fender\", \"windscreen\", \"yamaha\", \"ive\", \"monster\",\n",
        "#     \"plugin\", \"bluetooth\", \"mic\", \"ipad\", \"ipod\", \"amps\", \"distortion\",\n",
        "#     \"gig\", \"amp\", \"aux\", \"acoustic\", \"pedal\", \"tuner\", \"preamp\",\n",
        "#     \"podcast\", \"adapter\", \"playlist\"\n",
        "# ]\n",
        "# # Initialize spell checker\n",
        "# def init_spell_checker():\n",
        "#     checker = SpellChecker()\n",
        "#     checker.word_frequency.load_words(DOMAIN_WORDS)\n",
        "#     return checker\n",
        "\n",
        "# # Spell-check function\n",
        "# @pandas_udf(ArrayType(StringType()))\n",
        "# def check_misspellings(tokens: pd.Series) -> pd.Series:\n",
        "#     checker = init_spell_checker()\n",
        "#     def check_tokens(token_list):\n",
        "#         # Handle None or non-list inputs\n",
        "#         if token_list is None or not isinstance(token_list, (list, tuple)):\n",
        "#             return []\n",
        "#         # Handle empty lists\n",
        "#         if len(token_list) == 0:\n",
        "#             return []\n",
        "#         # Process valid tokens\n",
        "#         valid_tokens = [t.lower() for t in token_list if isinstance(t, str) and len(t) >= MIN_TOKEN_LENGTH and not t.isdigit()]\n",
        "#         return list(checker.unknown(valid_tokens))\n",
        "#     return tokens.apply(check_tokens)\n",
        "\n",
        "# # Main processing\n",
        "# def main(df_tokenized):\n",
        "#     # Cache and repartition\n",
        "#     df_tokenized.cache()\n",
        "#     df_tokenized = df_tokenized.repartition(8)  # Adjust based on cores\n",
        "\n",
        "#     # Add misspelled words column\n",
        "#     result_df = df_tokenized.withColumn(\"misspelled_words\", check_misspellings(\"words\"))\n",
        "\n",
        "#     # Show sample results\n",
        "#     print(\"Sample rows with misspellings:\")\n",
        "#     result_df.select(\"reviewerID\", \"reviews\", \"words\", \"misspelled_words\").show(5, truncate=False)\n",
        "\n",
        "#     # Count total misspelled words\n",
        "#     misspelling_count = result_df.select(explode(\"misspelled_words\").alias(\"misspelled_word\")).count()\n",
        "#     print(f\"Total number of misspelled words: {misspelling_count}\")\n",
        "\n",
        "#     # Cleanup\n",
        "#     df_tokenized.unpersist()\n",
        "\n",
        "\n",
        "# # Run spell-checking (assuming df_tokenized is loaded)\n",
        "# main(df_tokenized)\n",
        "\n",
        "# # Optional: Stop SparkSession\n",
        "# # spark.stop()"
      ],
      "metadata": {
        "id": "TLE8Dn54XKRE"
      },
      "execution_count": 60,
      "outputs": []
    },
    {
      "cell_type": "code",
      "source": [
        "! pip install spacy"
      ],
      "metadata": {
        "colab": {
          "base_uri": "https://localhost:8080/"
        },
        "id": "LbPSvbIlgplo",
        "outputId": "7e0e0465-6225-4ade-f345-cf9dea03d357"
      },
      "execution_count": 61,
      "outputs": [
        {
          "output_type": "stream",
          "name": "stdout",
          "text": [
            "Requirement already satisfied: spacy in /usr/local/lib/python3.11/dist-packages (3.8.5)\n",
            "Requirement already satisfied: spacy-legacy<3.1.0,>=3.0.11 in /usr/local/lib/python3.11/dist-packages (from spacy) (3.0.12)\n",
            "Requirement already satisfied: spacy-loggers<2.0.0,>=1.0.0 in /usr/local/lib/python3.11/dist-packages (from spacy) (1.0.5)\n",
            "Requirement already satisfied: murmurhash<1.1.0,>=0.28.0 in /usr/local/lib/python3.11/dist-packages (from spacy) (1.0.12)\n",
            "Requirement already satisfied: cymem<2.1.0,>=2.0.2 in /usr/local/lib/python3.11/dist-packages (from spacy) (2.0.11)\n",
            "Requirement already satisfied: preshed<3.1.0,>=3.0.2 in /usr/local/lib/python3.11/dist-packages (from spacy) (3.0.9)\n",
            "Requirement already satisfied: thinc<8.4.0,>=8.3.4 in /usr/local/lib/python3.11/dist-packages (from spacy) (8.3.6)\n",
            "Requirement already satisfied: wasabi<1.2.0,>=0.9.1 in /usr/local/lib/python3.11/dist-packages (from spacy) (1.1.3)\n",
            "Requirement already satisfied: srsly<3.0.0,>=2.4.3 in /usr/local/lib/python3.11/dist-packages (from spacy) (2.5.1)\n",
            "Requirement already satisfied: catalogue<2.1.0,>=2.0.6 in /usr/local/lib/python3.11/dist-packages (from spacy) (2.0.10)\n",
            "Requirement already satisfied: weasel<0.5.0,>=0.1.0 in /usr/local/lib/python3.11/dist-packages (from spacy) (0.4.1)\n",
            "Requirement already satisfied: typer<1.0.0,>=0.3.0 in /usr/local/lib/python3.11/dist-packages (from spacy) (0.15.3)\n",
            "Requirement already satisfied: tqdm<5.0.0,>=4.38.0 in /usr/local/lib/python3.11/dist-packages (from spacy) (4.67.1)\n",
            "Requirement already satisfied: numpy>=1.19.0 in /usr/local/lib/python3.11/dist-packages (from spacy) (2.0.2)\n",
            "Requirement already satisfied: requests<3.0.0,>=2.13.0 in /usr/local/lib/python3.11/dist-packages (from spacy) (2.32.3)\n",
            "Requirement already satisfied: pydantic!=1.8,!=1.8.1,<3.0.0,>=1.7.4 in /usr/local/lib/python3.11/dist-packages (from spacy) (2.11.4)\n",
            "Requirement already satisfied: jinja2 in /usr/local/lib/python3.11/dist-packages (from spacy) (3.1.6)\n",
            "Requirement already satisfied: setuptools in /usr/local/lib/python3.11/dist-packages (from spacy) (75.2.0)\n",
            "Requirement already satisfied: packaging>=20.0 in /usr/local/lib/python3.11/dist-packages (from spacy) (24.2)\n",
            "Requirement already satisfied: langcodes<4.0.0,>=3.2.0 in /usr/local/lib/python3.11/dist-packages (from spacy) (3.5.0)\n",
            "Requirement already satisfied: language-data>=1.2 in /usr/local/lib/python3.11/dist-packages (from langcodes<4.0.0,>=3.2.0->spacy) (1.3.0)\n",
            "Requirement already satisfied: annotated-types>=0.6.0 in /usr/local/lib/python3.11/dist-packages (from pydantic!=1.8,!=1.8.1,<3.0.0,>=1.7.4->spacy) (0.7.0)\n",
            "Requirement already satisfied: pydantic-core==2.33.2 in /usr/local/lib/python3.11/dist-packages (from pydantic!=1.8,!=1.8.1,<3.0.0,>=1.7.4->spacy) (2.33.2)\n",
            "Requirement already satisfied: typing-extensions>=4.12.2 in /usr/local/lib/python3.11/dist-packages (from pydantic!=1.8,!=1.8.1,<3.0.0,>=1.7.4->spacy) (4.13.2)\n",
            "Requirement already satisfied: typing-inspection>=0.4.0 in /usr/local/lib/python3.11/dist-packages (from pydantic!=1.8,!=1.8.1,<3.0.0,>=1.7.4->spacy) (0.4.0)\n",
            "Requirement already satisfied: charset-normalizer<4,>=2 in /usr/local/lib/python3.11/dist-packages (from requests<3.0.0,>=2.13.0->spacy) (3.4.2)\n",
            "Requirement already satisfied: idna<4,>=2.5 in /usr/local/lib/python3.11/dist-packages (from requests<3.0.0,>=2.13.0->spacy) (3.10)\n",
            "Requirement already satisfied: urllib3<3,>=1.21.1 in /usr/local/lib/python3.11/dist-packages (from requests<3.0.0,>=2.13.0->spacy) (2.4.0)\n",
            "Requirement already satisfied: certifi>=2017.4.17 in /usr/local/lib/python3.11/dist-packages (from requests<3.0.0,>=2.13.0->spacy) (2025.4.26)\n",
            "Requirement already satisfied: blis<1.4.0,>=1.3.0 in /usr/local/lib/python3.11/dist-packages (from thinc<8.4.0,>=8.3.4->spacy) (1.3.0)\n",
            "Requirement already satisfied: confection<1.0.0,>=0.0.1 in /usr/local/lib/python3.11/dist-packages (from thinc<8.4.0,>=8.3.4->spacy) (0.1.5)\n",
            "Requirement already satisfied: click>=8.0.0 in /usr/local/lib/python3.11/dist-packages (from typer<1.0.0,>=0.3.0->spacy) (8.2.0)\n",
            "Requirement already satisfied: shellingham>=1.3.0 in /usr/local/lib/python3.11/dist-packages (from typer<1.0.0,>=0.3.0->spacy) (1.5.4)\n",
            "Requirement already satisfied: rich>=10.11.0 in /usr/local/lib/python3.11/dist-packages (from typer<1.0.0,>=0.3.0->spacy) (13.9.4)\n",
            "Requirement already satisfied: cloudpathlib<1.0.0,>=0.7.0 in /usr/local/lib/python3.11/dist-packages (from weasel<0.5.0,>=0.1.0->spacy) (0.21.0)\n",
            "Requirement already satisfied: smart-open<8.0.0,>=5.2.1 in /usr/local/lib/python3.11/dist-packages (from weasel<0.5.0,>=0.1.0->spacy) (7.1.0)\n",
            "Requirement already satisfied: MarkupSafe>=2.0 in /usr/local/lib/python3.11/dist-packages (from jinja2->spacy) (3.0.2)\n",
            "Requirement already satisfied: marisa-trie>=1.1.0 in /usr/local/lib/python3.11/dist-packages (from language-data>=1.2->langcodes<4.0.0,>=3.2.0->spacy) (1.2.1)\n",
            "Requirement already satisfied: markdown-it-py>=2.2.0 in /usr/local/lib/python3.11/dist-packages (from rich>=10.11.0->typer<1.0.0,>=0.3.0->spacy) (3.0.0)\n",
            "Requirement already satisfied: pygments<3.0.0,>=2.13.0 in /usr/local/lib/python3.11/dist-packages (from rich>=10.11.0->typer<1.0.0,>=0.3.0->spacy) (2.19.1)\n",
            "Requirement already satisfied: wrapt in /usr/local/lib/python3.11/dist-packages (from smart-open<8.0.0,>=5.2.1->weasel<0.5.0,>=0.1.0->spacy) (1.17.2)\n",
            "Requirement already satisfied: mdurl~=0.1 in /usr/local/lib/python3.11/dist-packages (from markdown-it-py>=2.2.0->rich>=10.11.0->typer<1.0.0,>=0.3.0->spacy) (0.1.2)\n"
          ]
        }
      ]
    },
    {
      "cell_type": "code",
      "source": [
        "# 2. Lemmatization UDF\n",
        "import spacy\n",
        "from pyspark.sql.functions import udf, col, size\n",
        "from pyspark.sql.types import ArrayType, StringType\n",
        "\n",
        "nlp = spacy.load('en_core_web_sm')\n",
        "\n",
        "def lemmatize(tokens):\n",
        "    # Handle None, non-list, or empty inputs\n",
        "    if not tokens or not isinstance(tokens, (list, tuple)) or len(tokens) == 0:\n",
        "        return []\n",
        "    # Join tokens into a string for SpaCy processing\n",
        "    text = \" \".join([t for t in tokens if isinstance(t, str)])\n",
        "    # Process the text with SpaCy NLP pipeline\n",
        "    doc = nlp(text)\n",
        "    # Return all lemmas, without filtering stopwords or punctuation\n",
        "    return [token.lemma_ for token in doc if not token.is_punct]\n",
        "\n",
        "# Register the UDF with PySpark\n",
        "lemmatize_udf = udf(lemmatize, ArrayType(StringType()))\n",
        "\n",
        "# Apply the UDF to create the 'lemmatized' column\n",
        "df_tokenized = df_tokenized.withColumn(\"lemmatized\", lemmatize_udf(df_tokenized[\"words\"]))\n",
        "\n",
        "# Add word counts for validation\n",
        "df_tokenized = df_tokenized.withColumn(\"words_count\", size(col(\"words\"))) \\\n",
        "                           .withColumn(\"lemmatized_count\", size(col(\"lemmatized\")))\n",
        "\n",
        "# Show the results\n",
        "print(\"Sample rows with lemmatization:\")\n",
        "df_tokenized.select(\"reviews\", \"words\", \"lemmatized\", \"words_count\", \"lemmatized_count\").show(10, truncate=False)\n",
        "\n",
        "# Validation checks\n",
        "total_rows = df_tokenized.count()\n",
        "non_null_lemmatized = df_tokenized.filter(col(\"lemmatized\").isNotNull()).count()\n",
        "non_empty_lemmatized = df_tokenized.filter(size(col(\"lemmatized\")) > 0).count()\n",
        "\n",
        "print(f\"Total rows: {total_rows}\")\n",
        "print(f\"Rows with non-null lemmatized column: {non_null_lemmatized}\")\n",
        "print(f\"Rows with non-empty lemmatized lists: {non_empty_lemmatized}\")\n",
        "\n",
        "print(\"Rows with empty lemmatized lists (if any):\")\n",
        "df_tokenized.filter(size(col(\"lemmatized\")) == 0) \\\n",
        "            .select(\"reviewerID\", \"reviews\", \"words\", \"lemmatized\") \\\n",
        "            .show(5, truncate=False)"
      ],
      "metadata": {
        "colab": {
          "base_uri": "https://localhost:8080/"
        },
        "id": "_S8Ih5bTghnG",
        "outputId": "5c731e02-9a00-49ad-fc30-16062303b260"
      },
      "execution_count": 62,
      "outputs": [
        {
          "output_type": "stream",
          "name": "stdout",
          "text": [
            "Sample rows with lemmatization:\n",
            "+----------------------------------------------------------------------------------------------------------------------------------------------------------------------------------------------------------------------------------------------------------------------------------------------------------------------------------------------------------------------------------------------------------------------------------------------------------------------------------------------------------------------------------------------------------+--------------------------------------------------------------------------------------------------------------------------------------------------------------------------------------------------------------------------------------------------------------------------------------------------------------------------------------------------------------------------------------------------------------------------------------------------------------------------------------------------------------------------------------------------------------------------------------------------------------------------------------------------+---------------------------------------------------------------------------------------------------------------------------------------------------------------------------------------------------------------------------------------------------------------------------------------------------------------------------------------------------------------------------------------------------------------------------------------------------------------------------------------------------------------------------------------------------------------------------------------------------------------------------+-----------+----------------+\n",
            "|reviews                                                                                                                                                                                                                                                                                                                                                                                                                                                                                                                                                   |words                                                                                                                                                                                                                                                                                                                                                                                                                                                                                                                                                                                                                                             |lemmatized                                                                                                                                                                                                                                                                                                                                                                                                                                                                                                                                                                                                                 |words_count|lemmatized_count|\n",
            "+----------------------------------------------------------------------------------------------------------------------------------------------------------------------------------------------------------------------------------------------------------------------------------------------------------------------------------------------------------------------------------------------------------------------------------------------------------------------------------------------------------------------------------------------------------+--------------------------------------------------------------------------------------------------------------------------------------------------------------------------------------------------------------------------------------------------------------------------------------------------------------------------------------------------------------------------------------------------------------------------------------------------------------------------------------------------------------------------------------------------------------------------------------------------------------------------------------------------+---------------------------------------------------------------------------------------------------------------------------------------------------------------------------------------------------------------------------------------------------------------------------------------------------------------------------------------------------------------------------------------------------------------------------------------------------------------------------------------------------------------------------------------------------------------------------------------------------------------------------+-----------+----------------+\n",
            "|thats like                                                                                                                                                                                                                                                                                                                                                                                                                                                                                                                                                |[thats, like]                                                                                                                                                                                                                                                                                                                                                                                                                                                                                                                                                                                                                                     |[that, s, like]                                                                                                                                                                                                                                                                                                                                                                                                                                                                                                                                                                                                            |2          |3               |\n",
            "|product exactly quite affordablei not realized double screened arrived even better expectedas added bonus one screens carries small hint smell old grape candy used buy reminiscents sake cannot stop putting pop filter next nose smelling recording dif needed pop filter will work well expensive ones may even come pleasing aroma like mine didbuy product jake                                                                                                                                                                                      |[product, exactly, quite, affordablei, not, realized, double, screened, arrived, even, better, expectedas, added, bonus, one, screens, carries, small, hint, smell, old, grape, candy, used, buy, reminiscents, sake, cannot, stop, putting, pop, filter, next, nose, smelling, recording, dif, needed, pop, filter, will, work, well, expensive, ones, may, even, come, pleasing, aroma, like, mine, didbuy, product, jake]                                                                                                                                                                                                                      |[product, exactly, quite, affordablei, not, realize, double, screened, arrive, even, well, expecteda, add, bonus, one, screen, carry, small, hint, smell, old, grape, candy, use, buy, reminiscent, sake, can, not, stop, put, pop, filter, next, nose, smell, recording, dif, need, pop, filter, will, work, well, expensive, one, may, even, come, pleasing, aroma, like, mine, didbuy, product, jake]                                                                                                                                                                                                                   |55         |56              |\n",
            "|primary job device block breath would otherwise produce popping sound allowing voice pass no noticeable reduction volume high frequencies double cloth filter blocks pops lets voice no coloration metal clamp mount attaches mike stand secure enough keep attached goose neck needs little coaxing stay put itit job well                                                                                                                                                                                                                               |[primary, job, device, block, breath, would, otherwise, produce, popping, sound, allowing, voice, pass, no, noticeable, reduction, volume, high, frequencies, double, cloth, filter, blocks, pops, lets, voice, no, coloration, metal, clamp, mount, attaches, mike, stand, secure, enough, keep, attached, goose, neck, needs, little, coaxing, stay, put, itit, job, well]                                                                                                                                                                                                                                                                      |[primary, job, device, block, breath, would, otherwise, produce, pop, sound, allow, voice, pass, no, noticeable, reduction, volume, high, frequency, double, cloth, filter, block, pop, lets, voice, no, coloration, metal, clamp, mount, attache, mike, stand, secure, enough, keep, attach, goose, neck, need, little, coax, stay, put, itit, job, well]                                                                                                                                                                                                                                                                 |48         |48              |\n",
            "|nice windscreen protects mxl mic prevents pops thing gooseneck marginally able hold screen position requires careful positioning clamp avoid sagginggood windscreen money                                                                                                                                                                                                                                                                                                                                                                                 |[nice, windscreen, protects, mxl, mic, prevents, pops, thing, gooseneck, marginally, able, hold, screen, position, requires, careful, positioning, clamp, avoid, sagginggood, windscreen, money]                                                                                                                                                                                                                                                                                                                                                                                                                                                  |[nice, windscreen, protect, mxl, mic, prevent, pop, thing, gooseneck, marginally, able, hold, screen, position, require, careful, positioning, clamp, avoid, sagginggood, windscreen, money]                                                                                                                                                                                                                                                                                                                                                                                                                               |22         |22              |\n",
            "|pop filter great looks performs like studio filter if youre recording vocals will eliminate pops gets recorded singno pops record vocals                                                                                                                                                                                                                                                                                                                                                                                                                  |[pop, filter, great, looks, performs, like, studio, filter, if, youre, recording, vocals, will, eliminate, pops, gets, recorded, singno, pops, record, vocals]                                                                                                                                                                                                                                                                                                                                                                                                                                                                                    |[pop, filter, great, look, perform, like, studio, filter, if, you, re, record, vocal, will, eliminate, pop, get, record, singno, pop, record, vocal]                                                                                                                                                                                                                                                                                                                                                                                                                                                                       |21         |22              |\n",
            "|good bought another one love heavy cord gold connectors bass sounds great learned last night coil guess read instructions carefully but no harm done still works greatthe best cable                                                                                                                                                                                                                                                                                                                                                                      |[good, bought, another, one, love, heavy, cord, gold, connectors, bass, sounds, great, learned, last, night, coil, guess, read, instructions, carefully, but, no, harm, done, still, works, greatthe, best, cable]                                                                                                                                                                                                                                                                                                                                                                                                                                |[good, buy, another, one, love, heavy, cord, gold, connectors, bass, sound, great, learn, last, night, coil, guess, read, instruction, carefully, but, no, harm, do, still, work, greatthe, good, cable]                                                                                                                                                                                                                                                                                                                                                                                                                   |29         |29              |\n",
            "|used monster cables years good reason lifetime warranty worth price alone simple fact cables break but getting replace no cost atmonster standard instrument cable                                                                                                                                                                                                                                                                                                                                                                                        |[used, monster, cables, years, good, reason, lifetime, warranty, worth, price, alone, simple, fact, cables, break, but, getting, replace, no, cost, atmonster, standard, instrument, cable]                                                                                                                                                                                                                                                                                                                                                                                                                                                       |[use, monster, cable, year, good, reason, lifetime, warranty, worth, price, alone, simple, fact, cable, break, but, getting, replace, no, cost, atmonster, standard, instrument, cable]                                                                                                                                                                                                                                                                                                                                                                                                                                    |24         |24              |\n",
            "|use cable run output pedal chain input fender amp bought monster cable hook pedal board thought would try another one update guitar using high end planet waves cable bought found input jacks new monster cable didnt fit fender strat jack little disappointed didnt return stated use output pedal board save money went back planet waves cablei payed back eighties planet waves comes around im getting get pay thought waves lot money back daybut havent bought guitar cable since plus years still workingplanet waves winsdidnt fit fender strat|[use, cable, run, output, pedal, chain, input, fender, amp, bought, monster, cable, hook, pedal, board, thought, would, try, another, one, update, guitar, using, high, end, planet, waves, cable, bought, found, input, jacks, new, monster, cable, didnt, fit, fender, strat, jack, little, disappointed, didnt, return, stated, use, output, pedal, board, save, money, went, back, planet, waves, cablei, payed, back, eighties, planet, waves, comes, around, im, getting, get, pay, thought, waves, lot, money, back, daybut, havent, bought, guitar, cable, since, plus, years, still, workingplanet, waves, winsdidnt, fit, fender, strat]|[use, cable, run, output, pedal, chain, input, fender, amp, buy, monster, cable, hook, pedal, board, think, would, try, another, one, update, guitar, use, high, end, planet, wave, cable, buy, find, input, jack, new, monster, cable, do, not, fit, fender, strat, jack, little, disappointed, do, not, return, stated, use, output, pedal, board, save, money, go, back, planet, wave, cablei, pay, back, eighty, planet, wave, come, around, I, m, get, get, pay, thought, wave, lot, money, back, daybut, have, not, buy, guitar, cable, since, plus, year, still, workingplanet, wave, winsdidnt, fit, fender, strat]|87         |91              |\n",
            "|perfect epiphone sheraton ii monster cables well constructed several never problems years got one wanted degree pluggreat cable                                                                                                                                                                                                                                                                                                                                                                                                                           |[perfect, epiphone, sheraton, ii, monster, cables, well, constructed, several, never, problems, years, got, one, wanted, degree, pluggreat, cable]                                                                                                                                                                                                                                                                                                                                                                                                                                                                                                |[perfect, epiphone, sheraton, ii, monster, cable, well, construct, several, never, problem, year, get, one, want, degree, pluggreat, cable]                                                                                                                                                                                                                                                                                                                                                                                                                                                                                |18         |18              |\n",
            "|monster makes best cables lifetime warranty doesnt hurt either isnt top line series but works great bass guitar rig time cant go wrong monster cablesbest instrument cables market                                                                                                                                                                                                                                                                                                                                                                        |[monster, makes, best, cables, lifetime, warranty, doesnt, hurt, either, isnt, top, line, series, but, works, great, bass, guitar, rig, time, cant, go, wrong, monster, cablesbest, instrument, cables, market]                                                                                                                                                                                                                                                                                                                                                                                                                                   |[monster, make, good, cable, lifetime, warranty, do, not, hurt, either, be, not, top, line, series, but, work, great, bass, guitar, rig, time, can, not, go, wrong, monster, cablesbest, instrument, cable, market]                                                                                                                                                                                                                                                                                                                                                                                                        |28         |31              |\n",
            "+----------------------------------------------------------------------------------------------------------------------------------------------------------------------------------------------------------------------------------------------------------------------------------------------------------------------------------------------------------------------------------------------------------------------------------------------------------------------------------------------------------------------------------------------------------+--------------------------------------------------------------------------------------------------------------------------------------------------------------------------------------------------------------------------------------------------------------------------------------------------------------------------------------------------------------------------------------------------------------------------------------------------------------------------------------------------------------------------------------------------------------------------------------------------------------------------------------------------+---------------------------------------------------------------------------------------------------------------------------------------------------------------------------------------------------------------------------------------------------------------------------------------------------------------------------------------------------------------------------------------------------------------------------------------------------------------------------------------------------------------------------------------------------------------------------------------------------------------------------+-----------+----------------+\n",
            "only showing top 10 rows\n",
            "\n",
            "Total rows: 10261\n",
            "Rows with non-null lemmatized column: 10261\n",
            "Rows with non-empty lemmatized lists: 10240\n",
            "Rows with empty lemmatized lists (if any):\n",
            "+--------------+-------+-----+----------+\n",
            "|reviewerID    |reviews|words|lemmatized|\n",
            "+--------------+-------+-----+----------+\n",
            "|A7KIY7RDFHRN9 |       |[]   |[]        |\n",
            "|A35NAFXV5GHZ92|       |[]   |[]        |\n",
            "|A7KIY7RDFHRN9 |       |[]   |[]        |\n",
            "|A2PX3NR1IVTXPG|       |[]   |[]        |\n",
            "|A2U7DXDNYBBLQJ|       |[]   |[]        |\n",
            "+--------------+-------+-----+----------+\n",
            "only showing top 5 rows\n",
            "\n"
          ]
        }
      ]
    },
    {
      "cell_type": "code",
      "source": [
        "# 3. TF-IDF Vectorization\n",
        "from pyspark.ml.feature import HashingTF, IDF\n",
        "from pyspark.sql.functions import col\n",
        "\n",
        "# Configure HashingTF\n",
        "hashing_tf = HashingTF(inputCol=\"lemmatized\", outputCol=\"raw_features\", numFeatures=10000)\n",
        "\n",
        "# Configure IDF\n",
        "idf = IDF(inputCol=\"raw_features\", outputCol=\"tfidf\")\n",
        "\n",
        "# Apply HashingTF to create term frequency vectors\n",
        "df_tokenized = hashing_tf.transform(df_tokenized)\n",
        "\n",
        "# Apply IDF to compute TF-IDF scores\n",
        "df_tokenized = idf.fit(df_tokenized).transform(df_tokenized)\n",
        "\n",
        "# Show the results\n",
        "print(\"Sample rows with TF-IDF:\")\n",
        "df_tokenized.select(\"reviews\", \"lemmatized\", \"tfidf\").show(10, truncate=False)"
      ],
      "metadata": {
        "colab": {
          "base_uri": "https://localhost:8080/",
          "height": 356
        },
        "id": "-cva4d5IoChR",
        "outputId": "79684929-b0e5-4958-ee96-268066642749"
      },
      "execution_count": 74,
      "outputs": [
        {
          "output_type": "error",
          "ename": "IllegalArgumentException",
          "evalue": "requirement failed: Column raw_features already exists.",
          "traceback": [
            "\u001b[0;31m---------------------------------------------------------------------------\u001b[0m",
            "\u001b[0;31mIllegalArgumentException\u001b[0m                  Traceback (most recent call last)",
            "\u001b[0;32m<ipython-input-74-1eb3a39cbbb7>\u001b[0m in \u001b[0;36m<cell line: 0>\u001b[0;34m()\u001b[0m\n\u001b[1;32m     10\u001b[0m \u001b[0;34m\u001b[0m\u001b[0m\n\u001b[1;32m     11\u001b[0m \u001b[0;31m# Apply HashingTF to create term frequency vectors\u001b[0m\u001b[0;34m\u001b[0m\u001b[0;34m\u001b[0m\u001b[0m\n\u001b[0;32m---> 12\u001b[0;31m \u001b[0mdf_tokenized\u001b[0m \u001b[0;34m=\u001b[0m \u001b[0mhashing_tf\u001b[0m\u001b[0;34m.\u001b[0m\u001b[0mtransform\u001b[0m\u001b[0;34m(\u001b[0m\u001b[0mdf_tokenized\u001b[0m\u001b[0;34m)\u001b[0m\u001b[0;34m\u001b[0m\u001b[0;34m\u001b[0m\u001b[0m\n\u001b[0m\u001b[1;32m     13\u001b[0m \u001b[0;34m\u001b[0m\u001b[0m\n\u001b[1;32m     14\u001b[0m \u001b[0;31m# Apply IDF to compute TF-IDF scores\u001b[0m\u001b[0;34m\u001b[0m\u001b[0;34m\u001b[0m\u001b[0m\n",
            "\u001b[0;32m/usr/local/lib/python3.11/dist-packages/pyspark/ml/base.py\u001b[0m in \u001b[0;36mtransform\u001b[0;34m(self, dataset, params)\u001b[0m\n\u001b[1;32m    260\u001b[0m                 \u001b[0;32mreturn\u001b[0m \u001b[0mself\u001b[0m\u001b[0;34m.\u001b[0m\u001b[0mcopy\u001b[0m\u001b[0;34m(\u001b[0m\u001b[0mparams\u001b[0m\u001b[0;34m)\u001b[0m\u001b[0;34m.\u001b[0m\u001b[0m_transform\u001b[0m\u001b[0;34m(\u001b[0m\u001b[0mdataset\u001b[0m\u001b[0;34m)\u001b[0m\u001b[0;34m\u001b[0m\u001b[0;34m\u001b[0m\u001b[0m\n\u001b[1;32m    261\u001b[0m             \u001b[0;32melse\u001b[0m\u001b[0;34m:\u001b[0m\u001b[0;34m\u001b[0m\u001b[0;34m\u001b[0m\u001b[0m\n\u001b[0;32m--> 262\u001b[0;31m                 \u001b[0;32mreturn\u001b[0m \u001b[0mself\u001b[0m\u001b[0;34m.\u001b[0m\u001b[0m_transform\u001b[0m\u001b[0;34m(\u001b[0m\u001b[0mdataset\u001b[0m\u001b[0;34m)\u001b[0m\u001b[0;34m\u001b[0m\u001b[0;34m\u001b[0m\u001b[0m\n\u001b[0m\u001b[1;32m    263\u001b[0m         \u001b[0;32melse\u001b[0m\u001b[0;34m:\u001b[0m\u001b[0;34m\u001b[0m\u001b[0;34m\u001b[0m\u001b[0m\n\u001b[1;32m    264\u001b[0m             \u001b[0;32mraise\u001b[0m \u001b[0mTypeError\u001b[0m\u001b[0;34m(\u001b[0m\u001b[0;34m\"Params must be a param map but got %s.\"\u001b[0m \u001b[0;34m%\u001b[0m \u001b[0mtype\u001b[0m\u001b[0;34m(\u001b[0m\u001b[0mparams\u001b[0m\u001b[0;34m)\u001b[0m\u001b[0;34m)\u001b[0m\u001b[0;34m\u001b[0m\u001b[0;34m\u001b[0m\u001b[0m\n",
            "\u001b[0;32m/usr/local/lib/python3.11/dist-packages/pyspark/ml/wrapper.py\u001b[0m in \u001b[0;36m_transform\u001b[0;34m(self, dataset)\u001b[0m\n\u001b[1;32m    396\u001b[0m \u001b[0;34m\u001b[0m\u001b[0m\n\u001b[1;32m    397\u001b[0m         \u001b[0mself\u001b[0m\u001b[0;34m.\u001b[0m\u001b[0m_transfer_params_to_java\u001b[0m\u001b[0;34m(\u001b[0m\u001b[0;34m)\u001b[0m\u001b[0;34m\u001b[0m\u001b[0;34m\u001b[0m\u001b[0m\n\u001b[0;32m--> 398\u001b[0;31m         \u001b[0;32mreturn\u001b[0m \u001b[0mDataFrame\u001b[0m\u001b[0;34m(\u001b[0m\u001b[0mself\u001b[0m\u001b[0;34m.\u001b[0m\u001b[0m_java_obj\u001b[0m\u001b[0;34m.\u001b[0m\u001b[0mtransform\u001b[0m\u001b[0;34m(\u001b[0m\u001b[0mdataset\u001b[0m\u001b[0;34m.\u001b[0m\u001b[0m_jdf\u001b[0m\u001b[0;34m)\u001b[0m\u001b[0;34m,\u001b[0m \u001b[0mdataset\u001b[0m\u001b[0;34m.\u001b[0m\u001b[0msparkSession\u001b[0m\u001b[0;34m)\u001b[0m\u001b[0;34m\u001b[0m\u001b[0;34m\u001b[0m\u001b[0m\n\u001b[0m\u001b[1;32m    399\u001b[0m \u001b[0;34m\u001b[0m\u001b[0m\n\u001b[1;32m    400\u001b[0m \u001b[0;34m\u001b[0m\u001b[0m\n",
            "\u001b[0;32m/usr/local/lib/python3.11/dist-packages/py4j/java_gateway.py\u001b[0m in \u001b[0;36m__call__\u001b[0;34m(self, *args)\u001b[0m\n\u001b[1;32m   1320\u001b[0m \u001b[0;34m\u001b[0m\u001b[0m\n\u001b[1;32m   1321\u001b[0m         \u001b[0manswer\u001b[0m \u001b[0;34m=\u001b[0m \u001b[0mself\u001b[0m\u001b[0;34m.\u001b[0m\u001b[0mgateway_client\u001b[0m\u001b[0;34m.\u001b[0m\u001b[0msend_command\u001b[0m\u001b[0;34m(\u001b[0m\u001b[0mcommand\u001b[0m\u001b[0;34m)\u001b[0m\u001b[0;34m\u001b[0m\u001b[0;34m\u001b[0m\u001b[0m\n\u001b[0;32m-> 1322\u001b[0;31m         return_value = get_return_value(\n\u001b[0m\u001b[1;32m   1323\u001b[0m             answer, self.gateway_client, self.target_id, self.name)\n\u001b[1;32m   1324\u001b[0m \u001b[0;34m\u001b[0m\u001b[0m\n",
            "\u001b[0;32m/usr/local/lib/python3.11/dist-packages/pyspark/errors/exceptions/captured.py\u001b[0m in \u001b[0;36mdeco\u001b[0;34m(*a, **kw)\u001b[0m\n\u001b[1;32m    183\u001b[0m                 \u001b[0;31m# Hide where the exception came from that shows a non-Pythonic\u001b[0m\u001b[0;34m\u001b[0m\u001b[0;34m\u001b[0m\u001b[0m\n\u001b[1;32m    184\u001b[0m                 \u001b[0;31m# JVM exception message.\u001b[0m\u001b[0;34m\u001b[0m\u001b[0;34m\u001b[0m\u001b[0m\n\u001b[0;32m--> 185\u001b[0;31m                 \u001b[0;32mraise\u001b[0m \u001b[0mconverted\u001b[0m \u001b[0;32mfrom\u001b[0m \u001b[0;32mNone\u001b[0m\u001b[0;34m\u001b[0m\u001b[0;34m\u001b[0m\u001b[0m\n\u001b[0m\u001b[1;32m    186\u001b[0m             \u001b[0;32melse\u001b[0m\u001b[0;34m:\u001b[0m\u001b[0;34m\u001b[0m\u001b[0;34m\u001b[0m\u001b[0m\n\u001b[1;32m    187\u001b[0m                 \u001b[0;32mraise\u001b[0m\u001b[0;34m\u001b[0m\u001b[0;34m\u001b[0m\u001b[0m\n",
            "\u001b[0;31mIllegalArgumentException\u001b[0m: requirement failed: Column raw_features already exists."
          ]
        }
      ]
    },
    {
      "cell_type": "code",
      "source": [
        "df_tokenized.printSchema()"
      ],
      "metadata": {
        "colab": {
          "base_uri": "https://localhost:8080/"
        },
        "id": "Z8LtAlBCi3B0",
        "outputId": "e5dbb895-0fa7-42e3-e022-78d0417bea0d"
      },
      "execution_count": 73,
      "outputs": [
        {
          "output_type": "stream",
          "name": "stdout",
          "text": [
            "root\n",
            " |-- reviewerID: string (nullable = true)\n",
            " |-- asin: string (nullable = true)\n",
            " |-- helpful: string (nullable = true)\n",
            " |-- overall: integer (nullable = true)\n",
            " |-- reviews: string (nullable = true)\n",
            " |-- Sentiment: string (nullable = true)\n",
            " |-- year: string (nullable = true)\n",
            " |-- month: string (nullable = true)\n",
            " |-- day: string (nullable = true)\n",
            " |-- polarity: float (nullable = true)\n",
            " |-- review_len: integer (nullable = true)\n",
            " |-- word_count: integer (nullable = false)\n",
            " |-- Sentiment_Indexed: double (nullable = false)\n",
            " |-- words: array (nullable = true)\n",
            " |    |-- element: string (containsNull = true)\n",
            " |-- lemmatized: array (nullable = true)\n",
            " |    |-- element: string (containsNull = true)\n",
            " |-- words_count: integer (nullable = false)\n",
            " |-- lemmatized_count: integer (nullable = false)\n",
            " |-- raw_features: vector (nullable = true)\n",
            " |-- tfidf: vector (nullable = true)\n",
            "\n"
          ]
        }
      ]
    },
    {
      "cell_type": "code",
      "source": [
        "columns_to_drop = [\n",
        "    \"asin\",\n",
        "    \"reviewerID\",\n",
        "    \"reviews\",\n",
        "    \"Sentiment\",\n",
        "    \"overall\",\n",
        "    \"words\",\n",
        "    \"lemmatized\",\n",
        "    \"words_count\",\n",
        "    \"lemmatized_count\",\n",
        "    \"helpful\",\n",
        "    \"year\",\n",
        "    \"month\",\n",
        "    \"day\"\n",
        "\n",
        "]\n",
        "\n",
        "df_cleaned = df_tokenized.drop(*columns_to_drop)"
      ],
      "metadata": {
        "id": "RZLVa3x7q8Xx"
      },
      "execution_count": 65,
      "outputs": []
    },
    {
      "cell_type": "code",
      "source": [
        "df_cleaned.printSchema()"
      ],
      "metadata": {
        "colab": {
          "base_uri": "https://localhost:8080/"
        },
        "id": "i6nKeP1ErefK",
        "outputId": "9be9e4eb-a306-4196-8fbc-b5401a717e52"
      },
      "execution_count": 66,
      "outputs": [
        {
          "output_type": "stream",
          "name": "stdout",
          "text": [
            "root\n",
            " |-- polarity: float (nullable = true)\n",
            " |-- review_len: integer (nullable = true)\n",
            " |-- word_count: integer (nullable = false)\n",
            " |-- Sentiment_Indexed: double (nullable = false)\n",
            " |-- raw_features: vector (nullable = true)\n",
            " |-- tfidf: vector (nullable = true)\n",
            "\n"
          ]
        }
      ]
    },
    {
      "cell_type": "code",
      "source": [
        "# Group by the target column and count\n",
        "df_cleaned.groupBy(\"Sentiment_Indexed\").count().orderBy(\"Sentiment_Indexed\").show()\n"
      ],
      "metadata": {
        "colab": {
          "base_uri": "https://localhost:8080/"
        },
        "id": "HoX8lgj7r98N",
        "outputId": "4c8aa5be-cd41-4703-8a81-35214a3c1b71"
      },
      "execution_count": 67,
      "outputs": [
        {
          "output_type": "stream",
          "name": "stdout",
          "text": [
            "+-----------------+-----+\n",
            "|Sentiment_Indexed|count|\n",
            "+-----------------+-----+\n",
            "|              0.0| 8387|\n",
            "|              1.0|  753|\n",
            "|              2.0|  699|\n",
            "|              3.0|  422|\n",
            "+-----------------+-----+\n",
            "\n"
          ]
        }
      ]
    },
    {
      "cell_type": "code",
      "source": [
        "from pyspark.sql import functions as F\n",
        "\n",
        "# Calculate the number of samples in the majority class (class 0)\n",
        "major_class_count = df_cleaned.filter(F.col(\"Sentiment_Indexed\") == 0.0).count()\n",
        "\n",
        "# Get the dataframes for each class\n",
        "df_class0 = df_cleaned.filter(F.col(\"Sentiment_Indexed\") == 0.0)\n",
        "df_class1 = df_cleaned.filter(F.col(\"Sentiment_Indexed\") == 1.0)\n",
        "df_class2 = df_cleaned.filter(F.col(\"Sentiment_Indexed\") == 2.0)\n",
        "\n",
        "# Calculate the oversampling fraction for minority classes\n",
        "fraction1 = float(major_class_count) / df_class1.count()\n",
        "fraction2 = float(major_class_count) / df_class2.count()\n",
        "\n",
        "# Oversample the minority classes\n",
        "df_class1_oversampled = df_class1.sample(withReplacement=True, fraction=fraction1, seed=42)\n",
        "df_class2_oversampled = df_class2.sample(withReplacement=True, fraction=fraction2, seed=42)\n",
        "\n",
        "# Combine the oversampled dataframes with the majority class\n",
        "df_balanced = df_class0.union(df_class1_oversampled).union(df_class2_oversampled)\n",
        "\n",
        "# Check the balance of the new dataframe\n",
        "df_balanced.groupBy(\"Sentiment_Indexed\").count().orderBy(\"Sentiment_Indexed\").show()\n",
        "\n",
        "# If you need to shuffle the dataset (recommended)\n",
        "df_balanced = df_balanced.orderBy(F.rand(seed=42))"
      ],
      "metadata": {
        "colab": {
          "base_uri": "https://localhost:8080/"
        },
        "id": "2Wf1r9Mwtpm_",
        "outputId": "2bb54fef-66b7-4ee2-cb55-4652c4965190"
      },
      "execution_count": 68,
      "outputs": [
        {
          "output_type": "stream",
          "name": "stdout",
          "text": [
            "+-----------------+-----+\n",
            "|Sentiment_Indexed|count|\n",
            "+-----------------+-----+\n",
            "|              0.0| 8387|\n",
            "|              1.0| 8431|\n",
            "|              2.0| 8472|\n",
            "+-----------------+-----+\n",
            "\n"
          ]
        }
      ]
    },
    {
      "cell_type": "code",
      "source": [
        "\n",
        "# Split the data (80% train, 10% validation, 10% test)\n",
        "train_data, val_data, test_data = df_balanced.randomSplit([0.8, 0.1, 0.1], seed=42)\n",
        "\n",
        "# Cache the dataframes for better performance\n",
        "train_data.cache()\n",
        "val_data.cache()\n",
        "test_data.cache()"
      ],
      "metadata": {
        "colab": {
          "base_uri": "https://localhost:8080/"
        },
        "id": "fc_yo4beumHH",
        "outputId": "eadebafb-7236-4ecf-cb95-9ca6f5f154ba"
      },
      "execution_count": 69,
      "outputs": [
        {
          "output_type": "execute_result",
          "data": {
            "text/plain": [
              "DataFrame[polarity: float, review_len: int, word_count: int, Sentiment_Indexed: double, raw_features: vector, tfidf: vector]"
            ]
          },
          "metadata": {},
          "execution_count": 69
        }
      ]
    },
    {
      "cell_type": "code",
      "source": [
        "from pyspark.ml.classification import LogisticRegression, DecisionTreeClassifier, RandomForestClassifier, NaiveBayes, LinearSVC, GBTClassifier\n",
        "from pyspark.ml.feature import VectorAssembler, StandardScaler\n",
        "from pyspark.ml.evaluation import MulticlassClassificationEvaluator\n",
        "from pyspark.ml import Pipeline\n",
        "from pyspark.sql import functions as F\n",
        "import time\n",
        "import pandas as pd\n",
        "from pyspark.ml.feature import BucketedRandomProjectionLSH\n",
        "from pyspark.sql.window import Window\n",
        "import matplotlib.pyplot as plt\n",
        "import numpy as np\n",
        "\n",
        "\n",
        "\n",
        "# If you want to combine tfidf + numeric features later, we can update\n",
        "\n",
        "# Create KNN approximation using LSH on 'tfidf' features\n",
        "def knn_predict(train_data, val_data, k=5):\n",
        "    \"\"\"\n",
        "    Approximate KNN in PySpark using Locality Sensitive Hashing on TF-IDF features\n",
        "    \"\"\"\n",
        "    brp = BucketedRandomProjectionLSH(\n",
        "        inputCol=\"tfidf\",\n",
        "        outputCol=\"hashes\",\n",
        "        numHashTables=5,\n",
        "        bucketLength=2.0\n",
        "    )\n",
        "    brp_model = brp.fit(train_data)\n",
        "\n",
        "    train_hashed = brp_model.transform(train_data)\n",
        "    val_hashed = brp_model.transform(val_data)\n",
        "\n",
        "    val_with_neighbors = brp_model.approxSimilarityJoin(\n",
        "        val_hashed,\n",
        "        train_hashed,\n",
        "        threshold=100.0,\n",
        "        distCol=\"distance\"\n",
        "    )\n",
        "\n",
        "    window = Window.partitionBy(\"datasetA.id\").orderBy(\"distance\")\n",
        "    val_with_knn = val_with_neighbors.withColumn(\"rank\", F.row_number().over(window))\n",
        "    val_with_knn = val_with_knn.filter(F.col(\"rank\") <= k)\n",
        "\n",
        "    val_predictions = val_with_knn.groupBy(\"datasetA.id\") \\\n",
        "        .agg(\n",
        "            F.first(\"datasetA.tfidf\").alias(\"features\"),\n",
        "            F.collect_list(\"datasetB.Sentiment_Indexed\").alias(\"neighbor_labels\")\n",
        "        )\n",
        "\n",
        "    val_predictions = val_predictions.withColumn(\n",
        "        \"prediction\",\n",
        "        F.expr(\"double(array_sort(neighbor_labels)[int(size(neighbor_labels)/2)])\")\n",
        "    )\n",
        "\n",
        "    return val_predictions\n",
        "\n",
        "# Evaluation function\n",
        "def get_metrics(predictions):\n",
        "    metrics = {}\n",
        "    for metric in [\"f1\", \"weightedPrecision\", \"weightedRecall\", \"accuracy\"]:\n",
        "        evaluator = MulticlassClassificationEvaluator(\n",
        "            labelCol=\"Sentiment_Indexed\",\n",
        "            predictionCol=\"prediction\",\n",
        "            metricName=metric\n",
        "        )\n",
        "        metrics[metric] = evaluator.evaluate(predictions)\n",
        "    return metrics\n",
        "\n",
        "# Models using 'tfidf' as features\n",
        "models = {\n",
        "    \"Logistic Regression\": LogisticRegression(\n",
        "        labelCol=\"Sentiment_Indexed\",\n",
        "        featuresCol=\"tfidf\",\n",
        "        maxIter=100,\n",
        "        regParam=0.1\n",
        "    ),\n",
        "    \"Decision Tree\": DecisionTreeClassifier(\n",
        "        labelCol=\"Sentiment_Indexed\",\n",
        "        featuresCol=\"tfidf\",\n",
        "        maxDepth=5\n",
        "    ),\n",
        "    \"Random Forest\": RandomForestClassifier(\n",
        "        labelCol=\"Sentiment_Indexed\",\n",
        "        featuresCol=\"tfidf\",\n",
        "        numTrees=50,\n",
        "        maxDepth=5\n",
        "    ),\n",
        "    \"Naive Bayes\": NaiveBayes(\n",
        "        labelCol=\"Sentiment_Indexed\",\n",
        "        featuresCol=\"tfidf\",\n",
        "        modelType=\"multinomial\"\n",
        "    )\n",
        "    # \"Linear SVC\": LinearSVC(\n",
        "    #     labelCol=\"Sentiment_Indexed\",\n",
        "    #     featuresCol=\"tfidf\",\n",
        "    #     maxIter=100,\n",
        "    #     regParam=0.1\n",
        "    # ),\n",
        "    # \"Gradient Boosted Trees\": GBTClassifier(\n",
        "    #     labelCol=\"Sentiment_Indexed\",\n",
        "    #     featuresCol=\"tfidf\",\n",
        "    #     maxIter=10,\n",
        "    #     maxDepth=5\n",
        "    # )\n",
        "}\n",
        "\n",
        "# Training and evaluating models\n",
        "def train_evaluate(model_name, model):\n",
        "    start_time = time.time()\n",
        "    try:\n",
        "        if model_name == \"KNN (Approximate)\":\n",
        "            predictions = knn_predict(train_data, val_data, k=5)\n",
        "        else:\n",
        "            print(f\"Training {model_name}...\")\n",
        "            model_fitted = model.fit(train_data)\n",
        "            predictions = model_fitted.transform(val_data)\n",
        "\n",
        "        metrics = get_metrics(predictions)\n",
        "        training_time = time.time() - start_time\n",
        "\n",
        "        return {\n",
        "            \"Model\": model_name,\n",
        "            \"F1 Score\": metrics[\"f1\"],\n",
        "            \"Precision\": metrics[\"weightedPrecision\"],\n",
        "            \"Recall\": metrics[\"weightedRecall\"],\n",
        "            \"Accuracy\": metrics[\"accuracy\"],\n",
        "            \"Training Time (s)\": training_time\n",
        "        }\n",
        "    except Exception as e:\n",
        "        print(f\"Error with {model_name}: {str(e)}\")\n",
        "        return {\n",
        "            \"Model\": model_name,\n",
        "            \"F1 Score\": 0,\n",
        "            \"Precision\": 0,\n",
        "            \"Recall\": 0,\n",
        "            \"Accuracy\": 0,\n",
        "            \"Training Time (s)\": 0,\n",
        "            \"Error\": str(e)\n",
        "        }\n",
        "\n",
        "# Run everything\n",
        "results = []\n",
        "for model_name, model in models.items():\n",
        "    result = train_evaluate(model_name, model)\n",
        "    results.append(result)\n",
        "    print(f\"Completed {model_name}\")\n",
        "\n",
        "# Try KNN\n",
        "try:\n",
        "    print(\"Training KNN (Approximate)...\")\n",
        "    result = train_evaluate(\"KNN (Approximate)\", None)\n",
        "    results.append(result)\n",
        "    print(\"Completed KNN (Approximate)\")\n",
        "except Exception as e:\n",
        "    print(f\"Error with KNN (Approximate): {str(e)}\")\n",
        "\n",
        "# Make a results dataframe\n",
        "results_df = pd.DataFrame(results).sort_values(\"F1 Score\", ascending=False)\n",
        "\n",
        "# Show final results\n",
        "print(\"\\nModel Comparison:\")\n",
        "print(results_df)\n",
        "\n",
        "best_model = results_df.iloc[0]\n",
        "print(f\"\\nBest model: {best_model['Model']} with F1 Score: {best_model['F1 Score']:.4f}\")\n",
        "\n",
        "# Plot F1 score bar chart\n",
        "plt.figure(figsize=(12, 6))\n",
        "plt.bar(results_df[\"Model\"], results_df[\"F1 Score\"])\n",
        "plt.title(\"Model Comparison - F1 Scores\")\n",
        "plt.xlabel(\"Model\")\n",
        "plt.ylabel(\"F1 Score\")\n",
        "plt.xticks(rotation=45, ha=\"right\")\n",
        "plt.tight_layout()\n",
        "plt.savefig(\"model_comparison_f1.png\")\n",
        "\n",
        "# Radar plot\n",
        "metrics = [\"F1 Score\", \"Precision\", \"Recall\", \"Accuracy\"]\n",
        "angles = np.linspace(0, 2 * np.pi, len(metrics), endpoint=False).tolist()\n",
        "angles += angles[:1]\n",
        "\n",
        "fig, ax = plt.subplots(figsize=(10, 10), subplot_kw=dict(polar=True))\n",
        "\n",
        "for i, model in results_df.iterrows():\n",
        "    values = [model[metric] for metric in metrics]\n",
        "    values += values[:1]\n",
        "    ax.plot(angles, values, linewidth=1, label=model[\"Model\"])\n",
        "    ax.fill(angles, values, alpha=0.1)\n",
        "\n",
        "ax.set_theta_offset(np.pi / 2)\n",
        "ax.set_theta_direction(-1)\n",
        "ax.set_thetagrids(np.degrees(angles[:-1]), metrics)\n",
        "ax.set_ylim(0, 1)\n",
        "plt.legend(loc=\"upper right\", bbox_to_anchor=(0.1, 0.1))\n",
        "plt.title(\"Model Performance Comparison\")\n",
        "plt.tight_layout()\n",
        "plt.savefig(\"model_comparison_radar.png\")\n"
      ],
      "metadata": {
        "colab": {
          "base_uri": "https://localhost:8080/",
          "height": 1000
        },
        "id": "9xGkcVQS6udv",
        "outputId": "229c96d8-41f1-464b-eb2f-fd115de60c07"
      },
      "execution_count": 70,
      "outputs": [
        {
          "output_type": "stream",
          "name": "stdout",
          "text": [
            "Training Logistic Regression...\n",
            "Completed Logistic Regression\n",
            "Training Decision Tree...\n",
            "Completed Decision Tree\n",
            "Training Random Forest...\n",
            "Completed Random Forest\n",
            "Training Naive Bayes...\n",
            "Completed Naive Bayes\n",
            "Training KNN (Approximate)...\n",
            "Error with KNN (Approximate): [FIELD_NOT_FOUND] No such struct field `id` in `polarity`, `review_len`, `word_count`, `Sentiment_Indexed`, `raw_features`, `tfidf`, `hashes`.\n",
            "Completed KNN (Approximate)\n",
            "\n",
            "Model Comparison:\n",
            "                 Model  F1 Score  Precision    Recall  Accuracy  \\\n",
            "0  Logistic Regression  0.941950   0.943153  0.942700  0.942700   \n",
            "3          Naive Bayes  0.855284   0.856661  0.856358  0.856358   \n",
            "2        Random Forest  0.624353   0.629762  0.624804  0.624804   \n",
            "1        Decision Tree  0.489463   0.547433  0.508634  0.508634   \n",
            "4    KNN (Approximate)  0.000000   0.000000  0.000000  0.000000   \n",
            "\n",
            "   Training Time (s)                                              Error  \n",
            "0         836.247478                                                NaN  \n",
            "3          18.049690                                                NaN  \n",
            "2         175.134426                                                NaN  \n",
            "1          97.208018                                                NaN  \n",
            "4           0.000000  [FIELD_NOT_FOUND] No such struct field `id` in...  \n",
            "\n",
            "Best model: Logistic Regression with F1 Score: 0.9419\n"
          ]
        },
        {
          "output_type": "display_data",
          "data": {
            "text/plain": [
              "<Figure size 1200x600 with 1 Axes>"
            ],
            "image/png": "[encoded data removed]"
          },
          "metadata": {}
        },
        {
          "output_type": "display_data",
          "data": {
            "text/plain": [
              "<Figure size 1000x1000 with 1 Axes>"
            ],
            "image/png": "[encoded data removed]"
          },
          "metadata": {}
        }
      ]
    },
    {
      "cell_type": "code",
      "source": [
        "\n",
        "from pyspark.ml.classification import LogisticRegression, DecisionTreeClassifier, RandomForestClassifier, NaiveBayes, LinearSVC, GBTClassifier\n",
        "from pyspark.ml.feature import VectorAssembler, StandardScaler\n",
        "from pyspark.ml.evaluation import MulticlassClassificationEvaluator\n",
        "from pyspark.ml import Pipeline\n",
        "from pyspark.sql import functions as F\n",
        "import time\n",
        "import pandas as pd\n",
        "from pyspark.ml.feature import BucketedRandomProjectionLSH\n",
        "from pyspark.sql.window import Window\n",
        "import matplotlib.pyplot as plt\n",
        "import numpy as np # Define Logistic Regression with your parameters\n",
        "lr = LogisticRegression(\n",
        "    labelCol=\"Sentiment_Indexed\",\n",
        "    featuresCol=\"tfidf\",\n",
        "    maxIter=100,\n",
        "    regParam=0.1\n",
        ")\n",
        "\n",
        "# Fit the model\n",
        "lr_model = lr.fit(train_data)\n",
        "\n",
        "# Save the model to disk\n",
        "model_save_path = \"logistic_regression_model\"\n",
        "lr_model.save(model_save_path)\n",
        "print(f\"Model saved to {model_save_path}\")"
      ],
      "metadata": {
        "colab": {
          "base_uri": "https://localhost:8080/"
        },
        "id": "BHypLyqyJbUN",
        "outputId": "07f5d94f-d0d2-42c2-93a0-54f3d0f593a2"
      },
      "execution_count": 75,
      "outputs": [
        {
          "output_type": "stream",
          "name": "stdout",
          "text": [
            "Model saved to logistic_regression_model\n"
          ]
        }
      ]
    },
    {
      "cell_type": "code",
      "source": [
        "#hamza add this at 2:29 17/5/25\n"
      ],
      "metadata": {
        "id": "SLRn2f-Lbyyv"
      },
      "execution_count": null,
      "outputs": []
    },
    {
      "cell_type": "code",
      "source": [
        "# from pyspark.ml.classification import LogisticRegression, LogisticRegressionModel\n",
        "\n",
        "# # (1) Train the model\n",
        "# lr = LogisticRegression(\n",
        "#     labelCol=\"Sentiment_Indexed\",\n",
        "#     featuresCol=\"tfidf\",  # or \"final_features\" if combined\n",
        "#     maxIter=100,\n",
        "#     regParam=0.1\n",
        "# )\n",
        "# lr_model = lr.fit(train_data)\n",
        "\n",
        "# # (2) Define where to save (use an absolute path)\n",
        "# save_path = \"file:///C:/saved_lr_model\"  # Windows\n",
        "# # Or for Mac/Linux: save_path = \"file:///home/username/Desktop/saved_lr_model\"\n",
        "\n",
        "# # (3) Save the model\n",
        "# lr_model.save(save_path)\n",
        "# print(f\"Model saved to: {save_path}\")"
      ],
      "metadata": {
        "id": "bCCAZqtGLrum"
      },
      "execution_count": null,
      "outputs": []
    },
    {
      "cell_type": "code",
      "source": [
        "# # importation du model\n",
        "# from pyspark.ml.classification import LogisticRegressionModel\n",
        "\n",
        "# # Load the saved model\n",
        "# loaded_lr_model = LogisticRegressionModel.load(save_path)\n",
        "\n",
        "# # Make predictions\n",
        "# predictions = loaded_lr_model.transform(test_data)\n",
        "# predictions.show(5)"
      ],
      "metadata": {
        "id": "b_L5dZC0Jo6h"
      },
      "execution_count": null,
      "outputs": []
    },
    {
      "cell_type": "code",
      "source": [
        "# import shutil\n",
        "# lr_model.save(\"spark_model\")\n",
        "# shutil.make_archive('spark_model', 'zip', 'spark_model')\n",
        "\n",
        "# from google.colab import files\n",
        "\n",
        "# files.download('spark_model.zip')"
      ],
      "metadata": {
        "id": "8hvE_13Og1je"
      },
      "execution_count": null,
      "outputs": []
    },
    {
      "cell_type": "code",
      "source": [
        "# from pyspark.ml.classification import LogisticRegressionModel\n",
        "\n",
        "# # Load the saved model\n",
        "# loaded_lr_model = LogisticRegressionModel.load(\"spark_model.zip\")"
      ],
      "metadata": {
        "id": "pYyLftPei1Q4"
      },
      "execution_count": null,
      "outputs": []
    },
    {
      "cell_type": "code",
      "source": [
        "# test_pd = test_data.toPandas()\n",
        "# test_pd.to_csv(\"test_data.csv\", index=False)\n",
        "# from google.colab import files\n",
        "\n",
        "# files.download(\"test_data.csv\")\n"
      ],
      "metadata": {
        "id": "ObgRhZ0zj9kn"
      },
      "execution_count": null,
      "outputs": []
    },
    {
      "cell_type": "code",
      "source": [
        "# test_data.write.csv(\"test_data_csv\", header=True)\n"
      ],
      "metadata": {
        "id": "WdF1owFPk10P"
      },
      "execution_count": null,
      "outputs": []
    },
    {
      "cell_type": "code",
      "source": [
        "# import shutil\n",
        "# shutil.make_archive('test_data_csv', 'zip', 'test_data_csv')\n",
        "# from google.colab import files\n",
        "# files.download(\"test_data_csv.zip\")\n"
      ],
      "metadata": {
        "id": "00z-uNR5k5nE"
      },
      "execution_count": null,
      "outputs": []
    }
  ],
  "metadata": {
    "kernelspec": {
      "display_name": "Python 3",
      "name": "python3"
    },
    "language_info": {
      "codemirror_mode": {
        "name": "ipython",
        "version": 3
      },
      "file_extension": ".py",
      "mimetype": "text/x-python",
      "name": "python",
      "nbconvert_exporter": "python",
      "pygments_lexer": "ipython3",
      "version": "3.11.8"
    },
    "colab": {
      "provenance": []
    }
  },
  "nbformat": 4,
  "nbformat_minor": 0
}